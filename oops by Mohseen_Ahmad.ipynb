{
 "cells": [
  {
   "attachments": {},
   "cell_type": "markdown",
   "metadata": {},
   "source": [
    "CONSTRUCTOR"
   ]
  },
  {
   "attachments": {},
   "cell_type": "markdown",
   "metadata": {},
   "source": [
    "1. What is a constructor in Python? Explain its purpose and usage. "
   ]
  },
  {
   "attachments": {},
   "cell_type": "markdown",
   "metadata": {},
   "source": [
    "In Python, a constructor is a special method within a class that is automatically called when a new instance of the class is created. It's named __init__() and is used to initialize the attributes of the object.\n",
    "\n",
    "The purpose of a constructor is to ensure that when you create an instance of a class, you have the opportunity to set up its initial state. This might involve initializing variables, setting default values, or performing any necessary setup actions."
   ]
  },
  {
   "cell_type": "code",
   "execution_count": 6,
   "metadata": {},
   "outputs": [
    {
     "name": "stdout",
     "output_type": "stream",
     "text": [
      "mohseen\n",
      "30\n"
     ]
    }
   ],
   "source": [
    "class Person:\n",
    "    def __init__(self,name,age):\n",
    "        self.name=name\n",
    "        self.age=age\n",
    "    #creating instance of a class\n",
    "person1=Person(\"mohseen\",30)\n",
    "    #Accessing the attributes\n",
    "print(person1.name)\n",
    "print(person1.age)"
   ]
  },
  {
   "attachments": {},
   "cell_type": "markdown",
   "metadata": {},
   "source": [
    "2. Differentiate between a parameterless constructor and a parameterized constructor in Python. "
   ]
  },
  {
   "attachments": {},
   "cell_type": "markdown",
   "metadata": {},
   "source": [
    "constructors are special methods used to initialize objects when they are created. They are defined using the __init__ method within a class. There are two main types of constructors: parameterless constructors and parameterized constructors.\n",
    "\n",
    "Parameterless Constructor:\n",
    "\n",
    "Also known as a default constructor.\n",
    "It doesn't take any parameters other than self.\n",
    "It is automatically called when an object of the class is instantiated.\n",
    "It initializes the object with default values or sets up the initial state of the object.\n",
    "\n",
    "Parameterized Constructor:\n",
    "\n",
    "Also known as an explicit constructor.\n",
    "It takes parameters other than self.\n",
    "It allows you to pass initial values or configurations to the object being created."
   ]
  },
  {
   "cell_type": "code",
   "execution_count": 1,
   "metadata": {},
   "outputs": [],
   "source": [
    "#parameterless constructor\n",
    "class Myclass:\n",
    "    def __init__(self):\n",
    "        self.attribute=0"
   ]
  },
  {
   "cell_type": "code",
   "execution_count": 3,
   "metadata": {},
   "outputs": [],
   "source": [
    "class Myclass:\n",
    "    def __init__(self,value):\n",
    "        self.attribute=value \n",
    "        #parameterized constructor"
   ]
  },
  {
   "attachments": {},
   "cell_type": "markdown",
   "metadata": {},
   "source": [
    "3. How do you define a constructor in a Python class? Provide an example.  "
   ]
  },
  {
   "attachments": {},
   "cell_type": "markdown",
   "metadata": {},
   "source": [
    "constructors are defined using the special method __init__() within a class. This method is automatically called when an object of the class is created. Here's how you define a constructor in a Python class:"
   ]
  },
  {
   "cell_type": "code",
   "execution_count": 4,
   "metadata": {},
   "outputs": [],
   "source": [
    "class Myclass:\n",
    "    def __init__(self,parameter1,parameter2):\n",
    "        self.attributes=parameter1\n",
    "        self.attributes=parameter2"
   ]
  },
  {
   "cell_type": "code",
   "execution_count": 7,
   "metadata": {},
   "outputs": [],
   "source": [
    "# Creating an object of MyClass and passing values to the constructor\n",
    "#my_object = Myclass(value1, value2)\n"
   ]
  },
  {
   "attachments": {},
   "cell_type": "markdown",
   "metadata": {},
   "source": [
    "4 .Explain the `__init__` method in Python and its role in constructors. "
   ]
  },
  {
   "attachments": {},
   "cell_type": "markdown",
   "metadata": {},
   "source": [
    "the __init__() method is a special method used for initializing newly created objects. It's commonly known as the constructor method because it's automatically called when a new instance of a class is created. The name __init__ stands for \"initialize\" and is a reserved method name in Python.\n",
    "\n",
    "The __init__() method is defined within a class and is typically the first method defined in the class definition. Its primary role is to initialize the attributes of the object with initial values. By convention, it always takes at least one parameter, self, which refers to the instance of the class itself.\n",
    "\n",
    "\n",
    "Initialization: It initializes the object's attributes to some initial values. This can include setting default values or accepting values passed as arguments during object creation.\n",
    "\n",
    "Instance Attributes: It's used to define instance attributes specific to each object. These attributes are accessed using self.attribute_name within the class.\n",
    "\n",
    "Automatic Invocation: When an object of the class is created, Python automatically invokes the __init__() method for that object, passing the object itself (self) along with any additional arguments provided during object creation.\n",
    "\n",
    "Customization: It allows customization of object initialization based on the requirements of the class. This includes setting up initial states, performing validations, or any other necessary setup."
   ]
  },
  {
   "cell_type": "code",
   "execution_count": 5,
   "metadata": {},
   "outputs": [
    {
     "name": "stdout",
     "output_type": "stream",
     "text": [
      "value1\n",
      "value2\n"
     ]
    }
   ],
   "source": [
    "#creating a class\n",
    "class MyClass:\n",
    "    #define constructor method and parameter\n",
    "    def __init__(self,param1,param2):\n",
    "        self.attribute1=param1\n",
    "        self.attribute2=param2\n",
    "        #creating object of a class \n",
    "obj=MyClass(\"value1\",\"value2\")\n",
    "    #accessing the object attributes\n",
    "print(obj.attribute1)\n",
    "print(obj.attribute2)"
   ]
  },
  {
   "attachments": {},
   "cell_type": "markdown",
   "metadata": {},
   "source": [
    "5.In a class named `Person`, create a constructor that initializes the `name` and `age` attributes. Provide an example of creating objects of this class"
   ]
  },
  {
   "cell_type": "code",
   "execution_count": 7,
   "metadata": {},
   "outputs": [
    {
     "name": "stdout",
     "output_type": "stream",
     "text": [
      "person1 mohseen 23\n",
      "person2 sudhanshu 32\n"
     ]
    }
   ],
   "source": [
    "class person:\n",
    "    def __init__(self,name,age):\n",
    "        self.name=name\n",
    "        self.age=age\n",
    "#creating objects of the person class\n",
    "person1=person(\"mohseen\",23)\n",
    "person2=person(\"sudhanshu\",32)\n",
    "print('person1',person1.name,person1.age)\n",
    "print(\"person2\",person2.name,person2.age)"
   ]
  },
  {
   "attachments": {},
   "cell_type": "markdown",
   "metadata": {},
   "source": [
    "6. How can you call a constructor explicitly in Python? Give an example.  "
   ]
  },
  {
   "cell_type": "code",
   "execution_count": 24,
   "metadata": {},
   "outputs": [
    {
     "name": "stdout",
     "output_type": "stream",
     "text": [
      "Constructor called with value: example\n",
      "Attribute value: example\n"
     ]
    }
   ],
   "source": [
    "class MyClass:\n",
    "    def __init__(self, value):\n",
    "        self.attribute = value\n",
    "        print(\"Constructor called with value:\", value)\n",
    "\n",
    "# Explicitly calling the constructor\n",
    "my_instance = MyClass.__new__(MyClass)  # Create a new instance without calling the constructor\n",
    "MyClass.__init__(my_instance, \"example\")  # Call the constructor manually\n",
    "\n",
    "print(\"Attribute value:\", my_instance.attribute)\n"
   ]
  },
  {
   "attachments": {},
   "cell_type": "markdown",
   "metadata": {},
   "source": [
    "7.What is the significance of the `self` parameter in Python constructors? Explain with an example. "
   ]
  },
  {
   "attachments": {},
   "cell_type": "markdown",
   "metadata": {},
   "source": [
    "The self parameter in Python constructors, as well as in other class methods, serves as a reference to the current instance of the class. It allows methods to access and modify attributes and methods of the instance within the class.\n",
    "\n",
    "Here's the significance of the self parameter in Python constructors, explained with an example:"
   ]
  },
  {
   "cell_type": "code",
   "execution_count": 26,
   "metadata": {},
   "outputs": [
    {
     "name": "stdout",
     "output_type": "stream",
     "text": [
      "Hello, my name is yash and I am 30 years old.\n"
     ]
    }
   ],
   "source": [
    "class Person:\n",
    "    def __init__(self, name, age):\n",
    "        self.name = name  # Initialize the 'name' attribute of the current instance\n",
    "        self.age = age    # Initialize the 'age' attribute of the current instance\n",
    "\n",
    "    def introduce(self):\n",
    "        print(\"Hello, my name is\", self.name, \"and I am\", self.age, \"years old.\")\n",
    "\n",
    "# Creating an object of the Person class\n",
    "person1 = Person(\"yash\", 30)\n",
    "\n",
    "# Accessing object attributes and calling a method using 'self'\n",
    "person1.introduce()"
   ]
  },
  {
   "attachments": {},
   "cell_type": "markdown",
   "metadata": {},
   "source": [
    "8.Discuss the concept of default constructors in Python. When are they used? "
   ]
  },
  {
   "attachments": {},
   "cell_type": "markdown",
   "metadata": {},
   "source": [
    "In Python, a default constructor is a constructor that doesn't require any parameters other than self. It's automatically provided by Python if you don't explicitly define a constructor in your class. The default constructor initializes the object with default values or leaves the attributes uninitialized if no default values are specified."
   ]
  },
  {
   "cell_type": "code",
   "execution_count": 28,
   "metadata": {},
   "outputs": [
    {
     "name": "stdout",
     "output_type": "stream",
     "text": [
      "customer constructor called\n"
     ]
    }
   ],
   "source": [
    "class Myclass:\n",
    "    def __init__(self):\n",
    "        print(\"customer constructor called\")\n",
    "    #no explicit constructor defined ,default constructor is used\n",
    "obj=Myclass()"
   ]
  },
  {
   "attachments": {},
   "cell_type": "markdown",
   "metadata": {},
   "source": [
    "9. Create a Python class called `Rectangle` with a constructor that initializes the `width` and `height`\n",
    "attributes provides a method to calculate on the rectangle"
   ]
  },
  {
   "cell_type": "code",
   "execution_count": 29,
   "metadata": {},
   "outputs": [
    {
     "name": "stdout",
     "output_type": "stream",
     "text": [
      "area of rectangle 30\n"
     ]
    }
   ],
   "source": [
    "class Rectangle:\n",
    "    def __init__(self,width,height):\n",
    "        self.width=width\n",
    "        self.height=height\n",
    "    def calculate_area(self):\n",
    "        return self.width*self.height\n",
    "rectangle=Rectangle(5,6)\n",
    "print(\"area of rectangle\",rectangle.calculate_area())     "
   ]
  },
  {
   "attachments": {},
   "cell_type": "markdown",
   "metadata": {},
   "source": [
    "10. How can you have multiple constructors in a Python class? Explain with an example.  "
   ]
  },
  {
   "attachments": {},
   "cell_type": "markdown",
   "metadata": {},
   "source": [
    "In Python, you cannot have multiple constructors in the same way you can in some other programming languages. However, you can simulate the behavior of having multiple constructors by using default parameter values or by using class methods that act as alternative constructors\n",
    "1.Using Default Parameter Values:\n",
    "You can define a single constructor with default parameter values, allowing you to create objects with different initialization options\n",
    "2.Using Class Methods as Alternative Constructors:\n",
    "You can define class methods that act as alternative constructors. These methods create and return instances of the class with specific initialization logic.\n",
    "\n",
    "\n"
   ]
  },
  {
   "cell_type": "code",
   "execution_count": 31,
   "metadata": {},
   "outputs": [],
   "source": [
    "class MyClass:\n",
    "    def __init__(self, param1=None, param2=None):\n",
    "        if param1 is not None and param2 is not None:\n",
    "            # Initialize with param1 and param2\n",
    "            self.attribute1 = param1\n",
    "            self.attribute2 = param2\n",
    "        elif param1 is not None:\n",
    "            # Initialize with only param1\n",
    "            self.attribute1 = param1\n",
    "            self.attribute2 = \"default_value\"\n",
    "        else:\n",
    "            # Initialize with default values\n",
    "            self.attribute1 = \"default_value\"\n",
    "            self.attribute2 = \"default_value\"\n"
   ]
  },
  {
   "cell_type": "code",
   "execution_count": 32,
   "metadata": {},
   "outputs": [],
   "source": [
    "class MyClass:\n",
    "    def __init__(self, param1, param2):\n",
    "        self.attribute1 = param1\n",
    "        self.attribute2 = param2\n",
    "\n",
    "    @classmethod\n",
    "    def from_string(cls, string):\n",
    "        # Parse the string and extract parameters\n",
    "        param1, param2 = string.split(\",\")\n",
    "        # Return an instance with extracted parameters\n",
    "        return cls(param1, param2)\n"
   ]
  },
  {
   "attachments": {},
   "cell_type": "markdown",
   "metadata": {},
   "source": [
    "11. What is method overloading, and how is it related to constructors in Python?  "
   ]
  },
  {
   "attachments": {},
   "cell_type": "markdown",
   "metadata": {},
   "source": [
    "Method overloading is a feature in many programming languages that allows a class to have multiple methods with the same name but with different parameters or different implementations. In languages that support method overloading, the correct method to call is determined by the number and types of arguments provided"
   ]
  },
  {
   "cell_type": "code",
   "execution_count": 34,
   "metadata": {},
   "outputs": [],
   "source": [
    "class Calculator:\n",
    "    def add(self, x, y):\n",
    "        return x + y\n"
   ]
  },
  {
   "attachments": {},
   "cell_type": "markdown",
   "metadata": {},
   "source": [
    "12. Explain the use of the `super()` function in Python constructors. Provide an example. "
   ]
  },
  {
   "cell_type": "code",
   "execution_count": 35,
   "metadata": {},
   "outputs": [
    {
     "name": "stdout",
     "output_type": "stream",
     "text": [
      "Animal constructor called\n",
      "dog constructor called\n",
      "species Canine\n",
      "breed Labrador\n"
     ]
    }
   ],
   "source": [
    "class Animal:\n",
    "    def __init__(self,species):\n",
    "        self.species=species\n",
    "        print(\"Animal constructor called\")\n",
    "class Dog(Animal):\n",
    "    def __init__(self,species,breed):\n",
    "        super().__init__(species)\n",
    "        self.breed=breed\n",
    "        print(\"dog constructor called\")\n",
    "dog_obj=Dog(\"Canine\", \"Labrador\")\n",
    "print(\"species\",dog_obj.species)\n",
    "print(\"breed\",dog_obj.breed)"
   ]
  },
  {
   "attachments": {},
   "cell_type": "markdown",
   "metadata": {},
   "source": [
    "13. Create a class called `Book` with a constructor that initializes the `title`, `author`, and `published_year`\n",
    "attributes .provide a method to display book details,"
   ]
  },
  {
   "cell_type": "code",
   "execution_count": 38,
   "metadata": {},
   "outputs": [
    {
     "name": "stdout",
     "output_type": "stream",
     "text": [
      "title machine learning\n",
      "author asthum turner\n",
      "published_year 1989\n"
     ]
    }
   ],
   "source": [
    "class Book:\n",
    "    def __init__(self,title,author,published_year):\n",
    "        self.title=title\n",
    "        self.author=author\n",
    "        self.published_year=published_year\n",
    "    def display_details(self):\n",
    "        print(\"title\",self.title)\n",
    "        print(\"author\",self.author)\n",
    "        print(\"published_year\",self.published_year)\n",
    "book1=Book(\"machine learning\",\"asthum turner\",1989)\n",
    "book1.display_details()"
   ]
  },
  {
   "attachments": {},
   "cell_type": "markdown",
   "metadata": {},
   "source": [
    "14.Discuss the differences between constructors and regular methods in Python classes. "
   ]
  },
  {
   "attachments": {},
   "cell_type": "markdown",
   "metadata": {},
   "source": [
    "Constructors and regular methods in Python classes serve different purposes and have distinct characteristics. Here are the key differences between them:\n",
    "\n",
    "Purpose:\n",
    "\n",
    "Constructor: The primary purpose of a constructor is to initialize the object's state, i.e., set up initial values for the object's attributes when the object is created.\n",
    "Regular Method: Regular methods perform various operations or actions on objects. They can manipulate object attributes, perform calculations, or provide functionality specific to the class.\n",
    "Invocation:\n",
    "\n",
    "Constructor: Constructors are automatically invoked when an object of the class is created. In Python, the constructor method is named __init__() and is called implicitly when an object is instantiated.\n",
    "Regular Method: Regular methods must be explicitly called on an object using dot notation (object.method()). They are invoked to perform a specific action or operation on the object.\n",
    "Naming Convention:\n",
    "\n",
    "Constructor: Constructors have a predefined name in Python: __init__().\n",
    "Regular Method: Regular methods can have any name, chosen by the programmer based on the functionality they provide.\n",
    "Return Value:\n",
    "\n",
    "Constructor: Constructors do not return any value explicitly. They are responsible for initializing the object's attributes and setting up its initial state.\n",
    "Regular Method: Regular methods can return values, which may be useful for providing results of operations performed by the method.\n",
    "Usage:\n",
    "\n",
    "Constructor: Constructors are used to set up initial values of attributes, perform necessary initialization tasks, and prepare the object for use.\n",
    "Regular Method: Regular methods are used to define the behavior and functionality of the objects. They encapsulate actions or operations that can be performed on objects of the class"
   ]
  },
  {
   "attachments": {},
   "cell_type": "markdown",
   "metadata": {},
   "source": [
    "15. Explain the role of the `self` parameter in instance variable initialization within a constructor. "
   ]
  },
  {
   "attachments": {},
   "cell_type": "markdown",
   "metadata": {},
   "source": [
    "We define a class called MyClass.\n",
    "The __init__() method is the constructor, which takes self (a reference to the instance of the class) and value as parameters.\n",
    "Within the constructor, self.instance_variable = value initializes the instance variable instance_variable with the value passed during object creation.\n",
    "We create an object obj o"
   ]
  },
  {
   "cell_type": "code",
   "execution_count": 40,
   "metadata": {},
   "outputs": [
    {
     "name": "stdout",
     "output_type": "stream",
     "text": [
      "Instance variable value: 10\n"
     ]
    }
   ],
   "source": [
    "class MyClass:\n",
    "    def __init__(self, value):\n",
    "        self.instance_variable = value\n",
    "\n",
    "# Creating an object of MyClass\n",
    "obj = MyClass(10)\n",
    "\n",
    "# Accessing the instance variable using the object\n",
    "print(\"Instance variable value:\", obj.instance_variable)  # Output: Instance variable value: 10\n"
   ]
  },
  {
   "attachments": {},
   "cell_type": "markdown",
   "metadata": {},
   "source": [
    "16.How do you prevent a class from having multiple instances by using constructors in Python? Provide an example?"
   ]
  },
  {
   "attachments": {},
   "cell_type": "markdown",
   "metadata": {},
   "source": [
    "In Python, you can prevent a class from having multiple instances by implementing a design pattern called the Singleton pattern. The Singleton pattern ensures that a class has only one instance, and it provides a global point of access to that instance.\n",
    "\n",
    "\n",
    "\n",
    "In this implementation:\n",
    "\n",
    "We define a class Singleton.\n",
    "We declare a class-level variable _instance to store the singleton instance.\n",
    "We override the __new__ method to ensure that only one instance of the class is created. If _instance is None, a new instance is created using the superclass's __new__ method. Otherwise, the existing instance is returned.\n",
    "We initialize the singleton instance in the __init__ method, ensuring that initialization occurs only once.\n",
    "When we create multiple instances of the Singleton class (singleton1 and singleton2), they both refer to the same singleton instance. The singleton1 is singleton2 comparison returns True, indicating that both variables reference the same object."
   ]
  },
  {
   "cell_type": "code",
   "execution_count": 47,
   "metadata": {},
   "outputs": [
    {
     "name": "stdout",
     "output_type": "stream",
     "text": [
      "Initializing singleton instance.\n",
      "singleton1 is singleton2: True\n"
     ]
    }
   ],
   "source": [
    "class Singleton:\n",
    "    _instance = None\n",
    "\n",
    "    def __new__(cls):\n",
    "        if cls._instance is None:\n",
    "            cls._instance = super().__new__(cls)\n",
    "        return cls._instance\n",
    "\n",
    "    def __init__(self):\n",
    "        if not hasattr(self, 'initialized'):\n",
    "            self.initialized = True\n",
    "            print(\"Initializing singleton instance.\")\n",
    "\n",
    "# Creating instances of Singleton class\n",
    "singleton1 = Singleton()\n",
    "singleton2 = Singleton()\n",
    "\n",
    "print(\"singleton1 is singleton2:\", singleton1 is singleton2)  # Output: True\n"
   ]
  },
  {
   "attachments": {},
   "cell_type": "markdown",
   "metadata": {},
   "source": [
    " 17.Create a Python class called `Student` with a constructor that takes a list of subjects as a parameter and  intilizes the subject attributes."
   ]
  },
  {
   "cell_type": "code",
   "execution_count": 44,
   "metadata": {},
   "outputs": [
    {
     "name": "stdout",
     "output_type": "stream",
     "text": [
      "subjects of the students ['history', 'geography', 'Mathematics']\n"
     ]
    }
   ],
   "source": [
    "class Student:\n",
    "    def __init__(self,subjects):\n",
    "        self.subjects=subjects\n",
    "student1=Student([\"history\",\"geography\",\"Mathematics\"])\n",
    "print(\"subjects of the students\",student1.subjects)"
   ]
  },
  {
   "attachments": {},
   "cell_type": "markdown",
   "metadata": {},
   "source": [
    "18.What is the purpose of the `__del__` method in Python classes, and how does it relate to constructors? "
   ]
  },
  {
   "attachments": {},
   "cell_type": "markdown",
   "metadata": {},
   "source": [
    "The __del__ method in Python classes, also known as the destructor method, serves the purpose of releasing resources or performing cleanup actions when an object is about to be destroyed or garbage collected. It is the counterpart to the constructor method __init__().\n",
    "\n",
    "\n",
    "Purpose:\n",
    "\n",
    "Constructor (__init__()): \n",
    "Initializes an object and sets up its initial state. It is automatically called when an object is created.\n",
    "Destructor (__del__()):\n",
    " Cleans up resources or performs final actions before an object is destroyed or garbage collected. It is automatically called when an object is about to be destroyed.\n",
    "\n",
    " Execution:\n",
    "\n",
    "Constructor: Executed automatically when an object is created.\n",
    "Destructor: Executed automatically when an object is about to be destroyed or garbage collected, typically when it goes out of scope or is explicitly deleted using the del keyword.\n",
    "\n",
    "\n",
    "Usage:\n",
    "\n",
    "Constructor: Used for initialization tasks such as initializing instance variables, setting up resources, or performing other setup operations needed for the object.\n",
    "Destructor: Used for cleanup tasks such as releasing resources, closing files, releasing locks, or performing other cleanup operations needed before the object is destroyed.\n",
    "Automatic Invocation:\n",
    "\n",
    "Constructor: Automatically invoked when an object is created, typically at the time of instantiation.\n",
    "Destructor: Automatically invoked when an object is about to be destroyed or garbage collected, typically when it is no longer referenced.\n",
    "It's important to note that while the constructor (__init__) is commonly used, the __del__ method is less frequently used in practice, as Python's garbage collector typically handles memory management and resource cleanup automatically. Explicit resource management is often done using context managers (with statement) or using explicit cleanup methods instead of relying on __del__.\n",
    "\n"
   ]
  },
  {
   "cell_type": "code",
   "execution_count": 45,
   "metadata": {},
   "outputs": [
    {
     "name": "stdout",
     "output_type": "stream",
     "text": [
      "Object obj1 is created.\n",
      "Object obj1 is destroyed.\n"
     ]
    }
   ],
   "source": [
    "class MyClass:\n",
    "    def __init__(self, name):\n",
    "        self.name = name\n",
    "        print(f\"Object {self.name} is created.\")\n",
    "\n",
    "    def __del__(self):\n",
    "        print(f\"Object {self.name} is destroyed.\")\n",
    "\n",
    "# Creating an object of MyClass\n",
    "obj1 = MyClass(\"obj1\")\n",
    "\n",
    "# Deleting the object explicitly\n",
    "del obj1\n"
   ]
  },
  {
   "attachments": {},
   "cell_type": "markdown",
   "metadata": {},
   "source": [
    "19. Explain the use of constructor chaining in Python. Provide a practical example. "
   ]
  },
  {
   "attachments": {},
   "cell_type": "markdown",
   "metadata": {},
   "source": [
    "constructor chaining in Python refers to the process of one constructor calling another constructor in the same class or in its parent class. This allows for code reuse and helps in avoiding duplication of initialization logic.\n",
    "\n",
    "Here's how constructor chaining works:\n",
    "\n",
    "Within the Same Class:\n",
    "\n",
    "In a class, if you have multiple constructors with different parameters or initialization logic, you can call one constructor from another using self.\n",
    "Within the Parent Class:\n",
    "\n",
    "In a subclass, if you want to call the constructor of the parent class, you can use super().__init__() to invoke the parent class's constructor and initialize inherited attributes"
   ]
  },
  {
   "cell_type": "code",
   "execution_count": 48,
   "metadata": {},
   "outputs": [
    {
     "name": "stdout",
     "output_type": "stream",
     "text": [
      "Make: Toyota\n",
      "Model: Camry\n",
      "Year: 2022\n"
     ]
    }
   ],
   "source": [
    "class Vehicle:\n",
    "    def __init__(self, make, model):\n",
    "        self.make = make\n",
    "        self.model = model\n",
    "\n",
    "class Car(Vehicle):\n",
    "    def __init__(self, make, model, year):\n",
    "        super().__init__(make, model)  # Call the constructor of the parent class\n",
    "        self.year = year\n",
    "\n",
    "    def display_details(self):\n",
    "        print(\"Make:\", self.make)\n",
    "        print(\"Model:\", self.model)\n",
    "        print(\"Year:\", self.year)\n",
    "\n",
    "# Creating an object of the Car class\n",
    "car = Car(\"Toyota\", \"Camry\", 2022)\n",
    "\n",
    "# Displaying the details of the car\n",
    "car.display_details()\n"
   ]
  },
  {
   "attachments": {},
   "cell_type": "markdown",
   "metadata": {},
   "source": [
    "20. Create a Python class called `Car` with a default constructor that initializes the `make` and `model` attributes. Provide a method to display car information.\n"
   ]
  },
  {
   "cell_type": "code",
   "execution_count": 51,
   "metadata": {},
   "outputs": [
    {
     "name": "stdout",
     "output_type": "stream",
     "text": [
      "Make tyota\n",
      "model camry\n",
      "year 2022\n"
     ]
    }
   ],
   "source": [
    "class Vehical:\n",
    "    def __init__(self,make,model):\n",
    "        self.make=make\n",
    "        self.model=model\n",
    "class Car(Vehical):\n",
    "    def __init__(self,make ,model,year):\n",
    "        super().__init__(make,model)\n",
    "        self.year=year\n",
    "    def display_details(self):\n",
    "        print(\"Make\",self.make)\n",
    "        print(\"model\",self.model)\n",
    "        print(\"year\",self.year)\n",
    "#creating the object of the  car class \n",
    "car=Car(\"tyota\",\"camry\",2022)\n",
    "car.display_details()"
   ]
  },
  {
   "attachments": {},
   "cell_type": "markdown",
   "metadata": {},
   "source": [
    "Inheritance"
   ]
  },
  {
   "attachments": {},
   "cell_type": "markdown",
   "metadata": {},
   "source": [
    "1. What is inheritance in Python? Explain its significance in object-oriented programming.  "
   ]
  },
  {
   "attachments": {},
   "cell_type": "markdown",
   "metadata": {},
   "source": [
    "In Python, inheritance is a fundamental concept in object-oriented programming (OOP) that allows a class to inherit attributes and methods from another class. The class that inherits is called the \"subclass\" or \"child class,\" and the class being inherited from is called the \"superclass\" or \"parent class.\"\n",
    "\n",
    "Here's how it works:\n",
    "\n",
    "Code Reusability: Inheritance promotes code reusability by allowing a subclass to use the methods and attributes of its superclass without having to reimplement them.\n",
    "\n",
    "Hierarchy and Organization: It allows you to create a hierarchy of classes, where more specialized classes (subclasses) can inherit from more general classes (superclasses). This helps in organizing and structuring your code in a logical and manageable way.\n",
    "\n",
    "Overriding: Subclasses can override methods from the superclass by providing a new implementation. This allows for customization and specialization of behavior at different levels of the class hierarchy.\n",
    "\n",
    "Polymorphism: Inheritance enables polymorphism, where objects of different subclasses can be treated as objects of the superclass. This allows for more generic and flexible code, as operations can be performed on objects of different types as long as they belong to the same inheritance hierarchy."
   ]
  },
  {
   "cell_type": "code",
   "execution_count": 54,
   "metadata": {},
   "outputs": [
    {
     "name": "stdout",
     "output_type": "stream",
     "text": [
      "Canine\n",
      "Fenine\n",
      "woof\n",
      "Meow\n"
     ]
    }
   ],
   "source": [
    "class Animal:\n",
    "    def __init__(self,species):\n",
    "        self.species=species\n",
    "    def sound(self):\n",
    "        pass\n",
    "class Dog (Animal):\n",
    "    def sound(self):\n",
    "        return \"woof\"\n",
    "class Cat(Animal):\n",
    "    def sound(self):\n",
    "        return \"Meow!\"\n",
    "    #create instances of subclass\n",
    "dog=Dog('Canine')\n",
    "cat=Cat('Fenine')\n",
    "#call the methods from super class\n",
    "print(dog.species)\n",
    "print(cat.species)\n",
    "#call overidden method from subclass\n",
    "print(dog.sound())\n",
    "print(cat.sound())"
   ]
  },
  {
   "attachments": {},
   "cell_type": "markdown",
   "metadata": {},
   "source": [
    "2. Differentiate between single inheritance and multiple inheritance in Python. Provide examples for each.  "
   ]
  },
  {
   "attachments": {},
   "cell_type": "markdown",
   "metadata": {},
   "source": [
    "Single Inheritance:\n",
    "In single inheritance, a subclass inherits from only one superclass.\n",
    "It follows a simple and straightforward hierarchy, where each subclass has only one direct superclass.\n",
    "It promotes a linear and hierarchical structure"
   ]
  },
  {
   "cell_type": "code",
   "execution_count": 56,
   "metadata": {},
   "outputs": [
    {
     "name": "stdout",
     "output_type": "stream",
     "text": [
      "Animal speaks\n",
      "Dog Barks\n"
     ]
    }
   ],
   "source": [
    "class Animal:\n",
    "    def speak(self):\n",
    "        return \"Animal speaks\"\n",
    "class Dog(Animal):\n",
    "    def bark(self):\n",
    "        return \"Dog Barks\"\n",
    "#create instance of dog\n",
    "dog=Dog()\n",
    "#call the method from superclass\n",
    "print(dog.speak())\n",
    "#call the method from subclass\n",
    "print(dog.bark())"
   ]
  },
  {
   "attachments": {},
   "cell_type": "markdown",
   "metadata": {},
   "source": [
    "Multiple Inheritance:\n",
    "In multiple inheritance, a subclass can inherit from more than one superclass.\n",
    "It allows a class to inherit attributes and methods from multiple classes, forming a more complex inheritance hierarchy.\n",
    "It provides flexibility but can lead to ambiguity or the diamond problem if not used carefully."
   ]
  },
  {
   "cell_type": "code",
   "execution_count": 57,
   "metadata": {},
   "outputs": [
    {
     "name": "stdout",
     "output_type": "stream",
     "text": [
      "Flying high\n",
      "Swimming gracefully\n",
      "Quack quack!\n"
     ]
    }
   ],
   "source": [
    "class Flyable:\n",
    "    def fly(self):\n",
    "        return \"Flying high\"\n",
    "\n",
    "class Swimmable:\n",
    "    def swim(self):\n",
    "        return \"Swimming gracefully\"\n",
    "\n",
    "class Duck(Flyable, Swimmable):\n",
    "    def quack(self):\n",
    "        return \"Quack quack!\"\n",
    "\n",
    "# Create an instance of Duck\n",
    "duck = Duck()\n",
    "\n",
    "# Call methods from superclasses\n",
    "print(duck.fly())   # Output: Flying high\n",
    "print(duck.swim())  # Output: Swimming gracefully\n",
    "\n",
    "# Call method from subclass\n",
    "print(duck.quack()) # Output: Quack quack!\n"
   ]
  },
  {
   "attachments": {},
   "cell_type": "markdown",
   "metadata": {},
   "source": [
    "3. Create a Python class called `Vehicle` with attributes `color` and `speed`. Then, create a child class called 'CAR' and thats inherits from vehical adds a brand attribute.provide an example of creating car object."
   ]
  },
  {
   "cell_type": "code",
   "execution_count": 59,
   "metadata": {},
   "outputs": [
    {
     "name": "stdout",
     "output_type": "stream",
     "text": [
      "Color: Red\n",
      "Speed: 120\n",
      "Brand: Toyota\n"
     ]
    }
   ],
   "source": [
    "class Vehicle:\n",
    "    def __init__(self, color, speed):\n",
    "        self.color = color\n",
    "        self.speed = speed\n",
    "\n",
    "class Car(Vehicle):\n",
    "    def __init__(self, color, speed, brand):\n",
    "        super().__init__(color, speed)\n",
    "        self.brand = brand\n",
    "\n",
    "# Creating a Car object\n",
    "my_car = Car(\"Red\", 120, \"Toyota\")\n",
    "\n",
    "# Accessing attributes\n",
    "print(\"Color:\", my_car.color)  # Output: Red\n",
    "print(\"Speed:\", my_car.speed)  # Output: 120\n",
    "print(\"Brand:\", my_car.brand)  # Output: Toyota\n"
   ]
  },
  {
   "attachments": {},
   "cell_type": "markdown",
   "metadata": {},
   "source": [
    "4. Explain the concept of method overriding in inheritance. Provide a practical example."
   ]
  },
  {
   "attachments": {},
   "cell_type": "markdown",
   "metadata": {},
   "source": [
    "Method overriding is a concept in inheritance where a subclass provides a specific implementation of a method that is already defined in its superclass. This allows the subclass to customize or extend the behavior of the inherited method without modifying the original implementation in the superclass.\n",
    "\n",
    "Here's how method overriding works:\n",
    "\n",
    "When a subclass defines a method with the same name, parameters, and return type as a method in its superclass, it overrides the method from the superclass.\n",
    "When an object of the subclass calls the overridden method, the subclass's implementation is executed instead of the superclass's implementation."
   ]
  },
  {
   "cell_type": "code",
   "execution_count": 61,
   "metadata": {},
   "outputs": [
    {
     "name": "stdout",
     "output_type": "stream",
     "text": [
      "area of rectangle 20\n",
      "area of circle  28.259999999999998\n"
     ]
    }
   ],
   "source": [
    "class Shape:\n",
    "    def area(self):\n",
    "        return 0\n",
    "class Rectangle(Shape):\n",
    "  def __init__(self,length,width):\n",
    "    self.width=width\n",
    "    self.length=length\n",
    "  def area(self):\n",
    "      return self.width*self.length\n",
    "class circle(Shape):\n",
    "  def __init__(self,radius):\n",
    "    self.radius=radius\n",
    "  def area(self):\n",
    "      return 3.14*self.radius*self.radius\n",
    "  #creata objects of subclasses\n",
    "rectangle=Rectangle(5,4)\n",
    "Circle=circle(3)\n",
    "#call overidden method\n",
    "print(\"area of rectangle\",rectangle.area())\n",
    "print(\"area of circle \",Circle.area())\n",
    "    "
   ]
  },
  {
   "attachments": {},
   "cell_type": "markdown",
   "metadata": {},
   "source": [
    "5. How can you access the methods and attributes of a parent class from a child class in Python? Give an example"
   ]
  },
  {
   "attachments": {},
   "cell_type": "markdown",
   "metadata": {},
   "source": [
    "In Python, you can access the methods and attributes of a parent class from a child class using the super() function. This function returns a proxy object that allows you to call methods and access attributes defined in the superclass within the context of the subclass"
   ]
  },
  {
   "cell_type": "code",
   "execution_count": 70,
   "metadata": {},
   "outputs": [
    {
     "name": "stdout",
     "output_type": "stream",
     "text": [
      "parent attributes parent Attribute\n",
      "parent method this is method of the parent class\n",
      "child method this is the method of child class\n"
     ]
    }
   ],
   "source": [
    "class Parent:\n",
    "    def __init__(self,parent_att):\n",
    "        self.parent_att=parent_att\n",
    "    \n",
    "    def parent_method(self):\n",
    "        return \"this is method of the parent class\"\n",
    "\n",
    "class Child(Parent):\n",
    "    \n",
    "    def __init__(self,parent_att,child_att):\n",
    "        super().__init__(parent_att)\n",
    "        self.child_att=child_att\n",
    "    \n",
    "    def child_method(self):\n",
    "        #accessing the atribute from parent class\n",
    "        print(\"parent attributes\",self.parent_att)\n",
    "        #accessing the method from parent class\n",
    "        print(\"parent method\",super().parent_method())\n",
    "        return \"this is the method of child class\"\n",
    "    #create an object of this class method\n",
    "child_obj=Child(\"parent Attribute\",\"Child attribute\")\n",
    "#accessing the child class method\n",
    "print(\"child method\",child_obj.child_method())"
   ]
  },
  {
   "attachments": {},
   "cell_type": "markdown",
   "metadata": {},
   "source": [
    " 6..Discuss the use of the `super()` function in Python inheritance. When and why is it used? Provide an example"
   ]
  },
  {
   "attachments": {},
   "cell_type": "markdown",
   "metadata": {},
   "source": [
    "The super() function in Python is used to call methods and access attributes from a parent or sibling class in a class hierarchy. It is particularly useful in scenarios involving inheritance, where a child class inherits methods and attributes from a parent class but may need to extend or override some of those functionalities.\n",
    "\n",
    "When to Use super()\n",
    "super() is typically used in the following scenarios:\n",
    "\n",
    "Calling Parent Class Methods:\n",
    "\n",
    "When you override a method in a child class and still want to invoke the method from the parent class, you can use super() to explicitly call the parent class method.\n",
    "Multiple Inheritance:\n",
    "\n",
    "In cases where a class inherits from multiple parent classes (multiple inheritance), super() helps in correctly resolving method calls based on the method resolution order (MRO) defined by the __mro__ attribute."
   ]
  },
  {
   "attachments": {},
   "cell_type": "markdown",
   "metadata": {},
   "source": [
    "Why Use super()?\n",
    "Using super() ensures that the code remains maintainable and adheres to the DRY (Don't Repeat Yourself) principle by avoiding redundant code. It also ensures that method resolution order (MRO) is respected in cases of multiple inheritance, preventing potential conflicts and ambiguities.\n",
    "\n",
    "In summary, super() is essential in Python inheritance for calling methods and accessing attributes from parent classes, facilitating code reusability and maintaining the hierarchical structure of classes."
   ]
  },
  {
   "cell_type": "code",
   "execution_count": 1,
   "metadata": {},
   "outputs": [],
   "source": [
    "class Parent:\n",
    "    def __init__(self, name):\n",
    "        self.name = name\n",
    "    \n",
    "    def greet(self):\n",
    "        return f'Hello, I am {self.name}'\n",
    "\n",
    "class Child(Parent):\n",
    "    def __init__(self, name, age):\n",
    "        super().__init__(name)\n",
    "        self.age = age\n",
    "    \n",
    "    def greet(self):\n",
    "        parent_greeting = super().greet()  # Calling parent's greet method\n",
    "        return f'{parent_greeting}. I am {self.age} years old.'\n"
   ]
  },
  {
   "attachments": {},
   "cell_type": "markdown",
   "metadata": {},
   "source": [
    "8.Explain the role of the `isinstance()` function in Python and how it relates to inheritance. "
   ]
  },
  {
   "attachments": {},
   "cell_type": "markdown",
   "metadata": {},
   "source": [
    "in Python, the isinstance() function is used to check whether an object is an instance of a specific class or a subclass of that class. Here's how it relates to inheritance:\n",
    "\n",
    "Basic Usage: The isinstance() function takes two parameters: an object and a class (or a tuple of classes). It returns True if the object is an instance of the class or any subclass of that class, and False otherwise.\n",
    "\n",
    "\n",
    "Inheritance and isinstance(): In Python, classes can inherit from other classes, forming an inheritance hierarchy. When you use isinstance(), Python checks not only the immediate class of the object but also all its parent classes up the inheritance chain.\n",
    "\n",
    "\n",
    "Checking Multiple Types: You can also pass a tuple of classes to isinstance() to check if the object is an instance of any of those classes\n"
   ]
  },
  {
   "cell_type": "code",
   "execution_count": 2,
   "metadata": {},
   "outputs": [
    {
     "name": "stdout",
     "output_type": "stream",
     "text": [
      "True\n",
      "True\n",
      "True\n",
      "False\n"
     ]
    }
   ],
   "source": [
    "class Animal:\n",
    "    pass\n",
    "\n",
    "class Dog(Animal):\n",
    "    pass\n",
    "\n",
    "dog = Dog()\n",
    "print(isinstance(dog, Dog))      # True\n",
    "print(isinstance(dog, Animal))   # True\n",
    "print(isinstance(dog, object))   # True (since all classes inherit from object)\n",
    "print(isinstance(dog, int))      # False\n"
   ]
  },
  {
   "cell_type": "code",
   "execution_count": 3,
   "metadata": {},
   "outputs": [
    {
     "name": "stdout",
     "output_type": "stream",
     "text": [
      "True\n",
      "True\n",
      "True\n",
      "True\n",
      "False\n"
     ]
    }
   ],
   "source": [
    "class Animal:\n",
    "    pass\n",
    "\n",
    "class Dog(Animal):\n",
    "    pass\n",
    "\n",
    "class Labrador(Dog):\n",
    "    pass\n",
    "\n",
    "labrador = Labrador()\n",
    "print(isinstance(labrador, Labrador))   # True\n",
    "print(isinstance(labrador, Dog))        # True\n",
    "print(isinstance(labrador, Animal))     # True\n",
    "print(isinstance(labrador, object))     # True\n",
    "print(isinstance(labrador, int))        # False"
   ]
  },
  {
   "cell_type": "code",
   "execution_count": 4,
   "metadata": {},
   "outputs": [
    {
     "name": "stdout",
     "output_type": "stream",
     "text": [
      "True\n",
      "True\n",
      "False\n"
     ]
    }
   ],
   "source": [
    "class Animal:\n",
    "    pass\n",
    "\n",
    "class Dog(Animal):\n",
    "    pass\n",
    "\n",
    "class Cat(Animal):\n",
    "    pass\n",
    "\n",
    "dog = Dog()\n",
    "cat = Cat()\n",
    "print(isinstance(dog, (Dog, Cat)))   # True\n",
    "print(isinstance(cat, (Dog, Cat)))   # True\n",
    "print(isinstance(dog, (int, str)))   # False"
   ]
  },
  {
   "attachments": {},
   "cell_type": "markdown",
   "metadata": {},
   "source": [
    "9.What is the purpose of the `issubclass()` function in Python? Provide an example. "
   ]
  },
  {
   "attachments": {},
   "cell_type": "markdown",
   "metadata": {},
   "source": [
    "The issubclass() function in Python is used to check whether a given class is a subclass of another class. It returns True if the first argument (the potential subclass) is indeed a subclass of the second argument (the potential superclass), and False otherwise.\n",
    "\n",
    "Purpose of issubclass()\n",
    "The main purpose of issubclass() is to determine the inheritance relationships between classes. It helps in understanding the class hierarchy and can be used for logical checks or validations based on class inheritance.\n"
   ]
  },
  {
   "cell_type": "code",
   "execution_count": 7,
   "metadata": {},
   "outputs": [
    {
     "name": "stdout",
     "output_type": "stream",
     "text": [
      "True\n",
      "True\n",
      "True\n"
     ]
    }
   ],
   "source": [
    "class Animal:\n",
    "    pass\n",
    "class Dog(Animal):\n",
    "    pass\n",
    "class Labrador(Dog):\n",
    "    pass\n",
    "#checking the relationships\n",
    "print(issubclass(Dog,Animal))#subclass of animal\n",
    "print(issubclass(Labrador,Dog))#subclass of dog\n",
    "print(issubclass(Labrador,Animal))#indirectly"
   ]
  },
  {
   "attachments": {},
   "cell_type": "markdown",
   "metadata": {},
   "source": [
    "10. Discuss the concept of constructor inheritance in Python. How are constructors inherited in child classes? "
   ]
  },
  {
   "attachments": {},
   "cell_type": "markdown",
   "metadata": {},
   "source": [
    "In Python, constructor inheritance refers to how constructors (initialization methods) of parent classes are inherited and invoked by child classes in the context of inheritance. Here’s a detailed discussion on how constructors behave in child classes:\n",
    "\n",
    "Constructor Basics\n",
    "Definition:\n",
    "\n",
    "A constructor in Python is defined using the __init__() method.\n",
    "It is automatically called when an instance of the class is created.\n",
    "Inheritance:\n",
    "\n",
    "When a class inherits from another class, it inherits all attributes (data members) and methods, including the constructor, from the parent class.\n",
    "Constructor Inheritance Rules\n",
    "Automatic Inheritance:\n",
    "\n",
    "If a child class does not explicitly define a constructor, Python automatically calls the constructor of the parent class during object creation\n",
    "\n",
    "Explicit Inheritance:\n",
    "\n",
    "If the child class defines its own __init__() method, it can still explicitly call the constructor of the parent class using super().\n",
    "\n",
    "Overriding Constructors:\n",
    "\n",
    "If the child class defines its own __init__() method without calling super().__init__(), the parent class’s constructor is not automatically invoked.\n",
    "\n",
    "Multiple Inheritance:\n",
    "\n",
    "In case of multiple inheritance, constructors are called in the order specified in the inheritance list, from left to right.\n",
    "\n",
    "Empty Constructor:\n",
    "\n",
    "If neither the parent nor the child class defines a constructor, Python provides a default constructor that does nothing (pass).\n",
    "\n",
    "Conclusion\n",
    "In Python, constructors are inherited by child classes by default, and they can be explicitly called using super() if needed. Understanding constructor inheritance is crucial for managing initialization logic in inheritance hierarchies, ensuring that parent class initialization is appropriately handled in child classes when necessary."
   ]
  },
  {
   "cell_type": "code",
   "execution_count": 18,
   "metadata": {},
   "outputs": [
    {
     "name": "stdout",
     "output_type": "stream",
     "text": [
      "parents constructor\n"
     ]
    }
   ],
   "source": [
    "#automatic inheritance\n",
    "class Parent:\n",
    "    def __init__(self):\n",
    "        print(\"parents constructor\")\n",
    "class Child(Parent):\n",
    "    pass\n",
    "#creating an instance of child automatically invokes parents constructors\n",
    "child=Child()\n"
   ]
  },
  {
   "cell_type": "code",
   "execution_count": 19,
   "metadata": {},
   "outputs": [
    {
     "name": "stdout",
     "output_type": "stream",
     "text": [
      "Parent constructor\n",
      "Child constructor\n"
     ]
    }
   ],
   "source": [
    "class Parent:\n",
    "    def __init__(self):\n",
    "        print(\"Parent constructor\")\n",
    "class Child(Parent):\n",
    "    def __init__(self):\n",
    "        super().__init__()#calling parents constructor\n",
    "        print(\"Child constructor\")\n",
    "#creating an instance of child invokes both parents and Childs constructor\n",
    "child=Child()"
   ]
  },
  {
   "cell_type": "code",
   "execution_count": 39,
   "metadata": {},
   "outputs": [
    {
     "name": "stdout",
     "output_type": "stream",
     "text": [
      "constructor of A\n"
     ]
    }
   ],
   "source": [
    "class A:\n",
    "    def __init__(self):\n",
    "        print(\"constructor of A\")\n",
    "class B:\n",
    "    def __init__(self):\n",
    "        print(\"constructor of B\")\n",
    "class C (A,B):\n",
    "    pass\n",
    "#creating an instance of c is A constructor\n",
    "c=C()"
   ]
  },
  {
   "cell_type": "code",
   "execution_count": 21,
   "metadata": {},
   "outputs": [],
   "source": [
    "class Parent:\n",
    "    pass\n",
    "\n",
    "class Child(Parent):\n",
    "    pass\n",
    "\n",
    "# Creating an instance of Child still works, but no constructor output\n",
    "child = Child()\n"
   ]
  },
  {
   "attachments": {},
   "cell_type": "markdown",
   "metadata": {},
   "source": [
    "11. Create a Python class called `Shape` with a method `area()` that calculates the area of a shape. Then \n",
    "Create a child classes circle and rectangle that inherit from shape and implement the area accordingly provide an example.."
   ]
  },
  {
   "cell_type": "code",
   "execution_count": 35,
   "metadata": {},
   "outputs": [
    {
     "name": "stdout",
     "output_type": "stream",
     "text": [
      "area of circle 78.53981633974483\n",
      "area of rectangle 24\n"
     ]
    }
   ],
   "source": [
    "import math\n",
    "#parent class \n",
    "class Shape:\n",
    "    def area(self):\n",
    "        pass #this will be overidden from by subclasses\n",
    "#child class circle inheriting from shape\n",
    "class Circle(Shape):\n",
    "    def __init__(self,radius):\n",
    "        self.radius=radius\n",
    "    def area(self):\n",
    "        return math.pi*self.radius**2\n",
    "#child  class rectangle inheriting from shape\n",
    "class Rectangle(Shape):\n",
    "    def __init__(self,width,height):\n",
    "       self.width=width\n",
    "       self.height=height\n",
    "    def area(self):\n",
    "      return self.width*self.height\n",
    "#example usage()\n",
    "circle= Circle(5)\n",
    "print(\"area of circle\",circle.area())\n",
    "rectangle=Rectangle(4,6)\n",
    "print(\"area of rectangle\",rectangle.area())"
   ]
  },
  {
   "attachments": {},
   "cell_type": "markdown",
   "metadata": {},
   "source": [
    "\n",
    " 12.Explain the use of abstract base classes (ABCs) in Python and how they relate to inheritance. Provide an example using the 'abc module"
   ]
  },
  {
   "cell_type": "code",
   "execution_count": 41,
   "metadata": {},
   "outputs": [
    {
     "name": "stdout",
     "output_type": "stream",
     "text": [
      "the constructor of A\n"
     ]
    }
   ],
   "source": [
    "class A:\n",
    "    def __init__(self):\n",
    "        print(\"the constructor of A\")\n",
    "class B:\n",
    "    def __init__(self):\n",
    "        print(\"the constructor of B\")\n",
    "class C(A,B):\n",
    "    pass\n",
    "c=C()"
   ]
  },
  {
   "attachments": {},
   "cell_type": "markdown",
   "metadata": {},
   "source": [
    "13. How can you prevent a child class from modifying certain attributes or methods inherited from a parent class in python?"
   ]
  },
  {
   "cell_type": "code",
   "execution_count": 36,
   "metadata": {},
   "outputs": [],
   "source": [
    "class Parent:\n",
    "    def __init__(self):\n",
    "        pass\n",
    "class Child(Parent):\n",
    "    pass\n",
    "child=Child()"
   ]
  },
  {
   "attachments": {},
   "cell_type": "markdown",
   "metadata": {},
   "source": [
    "14. Create a Python class called `Employee` with attributes `name` and `salary`. Then, create a child class 'Manager' that inherits from and employee ands a attribute department from employee.provide an example"
   ]
  },
  {
   "cell_type": "code",
   "execution_count": 49,
   "metadata": {},
   "outputs": [
    {
     "name": "stdout",
     "output_type": "stream",
     "text": [
      "mohseen earns 60000 per year\n",
      "yash is a manager in the Engineering department\n"
     ]
    }
   ],
   "source": [
    "class Employee:\n",
    "    def __init__(self,name,salary):\n",
    "        self.name=name\n",
    "        self.salary=salary\n",
    "class Manager(Employee):\n",
    "    def __init__(self,name,salary,department):\n",
    "        #cll the initializer of the super class (employee)\n",
    "        super().__init__(name,salary)\n",
    "        #add an additional attribute specific to manager\n",
    "        self.department=department\n",
    "    #example usage\n",
    "employee1=Employee(\"mohseen\",60000)\n",
    "print(f\"{employee1.name} earns {employee1.salary} per year\")\n",
    "#creating the instance of manager\n",
    "Manager1=Manager(\"yash\",80000,\"Engineering department\")\n",
    "print(f\"{Manager1.name} is a manager in the {Manager1.department}\")            "
   ]
  },
  {
   "attachments": {},
   "cell_type": "markdown",
   "metadata": {},
   "source": [
    "15. Discuss the concept of method overloading in Python inheritance. How does it differ from method overriding."
   ]
  },
  {
   "attachments": {},
   "cell_type": "markdown",
   "metadata": {},
   "source": [
    "METHOD OVERLOADING:\n",
    "refers to the ability to define multiple methods with same name but different parameters(different types or number of arguments) with the same class. however python does not support old method overloading.."
   ]
  },
  {
   "attachments": {},
   "cell_type": "markdown",
   "metadata": {},
   "source": [
    "Key Differences:\n",
    "Method Overloading:\n",
    "\n",
    "Involves defining multiple methods with the same name but different parameters within the same class.\n",
    "Python does not directly support method overloading based on parameter types or count; instead, the last defined method with a given name overwrites previous ones.\n",
    "Method Overriding:\n",
    "\n",
    "Involves providing a specific implementation of a method in a subclass that is already defined in its superclass.\n",
    "Enables polymorphic behavior where the method called depends on the instance type rather than the reference type"
   ]
  },
  {
   "cell_type": "code",
   "execution_count": 53,
   "metadata": {},
   "outputs": [
    {
     "name": "stdout",
     "output_type": "stream",
     "text": [
      "Dog barks\n"
     ]
    }
   ],
   "source": [
    "class Animal:\n",
    "    def sound(self):\n",
    "        print(\"Animal makes a sound\")\n",
    "\n",
    "class Dog(Animal):\n",
    "    def sound(self):\n",
    "        print(\"Dog barks\")\n",
    "\n",
    "# Usage\n",
    "dog = Dog()\n",
    "dog.sound()  # Output: Dog barks\n"
   ]
  },
  {
   "attachments": {},
   "cell_type": "markdown",
   "metadata": {},
   "source": [
    "16. Explain the purpose of the `__init__()` method in Python inheritance and how it is utilized in child classes. "
   ]
  },
  {
   "attachments": {},
   "cell_type": "markdown",
   "metadata": {},
   "source": [
    "The __init__() method in Python is a special method (also known as a constructor) that is automatically called when an instance (object) of a class is created. Its primary purpose is to initialize the object's attributes or perform any other initialization tasks necessary when creating an instance of the class.\n",
    "\n",
    "Purpose of __init__() Method in Python Inheritance:\n",
    "Initialization of Object State:\n",
    "\n",
    "The main purpose of __init__() is to initialize the attributes (data members) of the object. This ensures that when you create an instance of a class, it starts with the necessary initial state.\n",
    "Parameterized Initialization:\n",
    "\n",
    "__init__() can take parameters (besides self, which refers to the instance being created) to initialize the object with specific values. These parameters are typically passed when you create an instance using the class constructor.\n",
    "Parent Class Initialization in Inheritance:\n",
    "\n",
    "When a class inherits from another class (parent class or superclass), its __init__() method can invoke the __init__() method of the superclass to initialize inherited attributes or perform additional initialization specific to the subclass.\n",
    "Utilization in Child Classes:\n",
    "Inheritance in Python involves creating a new class (child class or subclass) based on an existing class (parent class or superclass). When defining a child class, the __init__() method can be utilized in several ways:\n",
    "\n",
    "Calling Parent Class __init__():\n",
    "\n",
    "In the child class, you can use super().__init__() to call the __init__() method of the parent class. This allows you to initialize inherited attributes defined in the parent class before initializing attributes specific to the child class."
   ]
  },
  {
   "cell_type": "code",
   "execution_count": 54,
   "metadata": {},
   "outputs": [],
   "source": [
    "class Parent:\n",
    "    def __init__(self, parent_attr):\n",
    "        self.parent_attr = parent_attr\n",
    "\n",
    "class Child(Parent):\n",
    "    def __init__(self, parent_attr, child_attr):\n",
    "        super().__init__(parent_attr)\n",
    "        self.child_attr = child_attr\n"
   ]
  },
  {
   "attachments": {},
   "cell_type": "markdown",
   "metadata": {},
   "source": [
    "extending Initialization:\n",
    "\n",
    "The child class can extend the initialization process by adding its own attributes or performing additional tasks specific to the child class after calling super().__init__()"
   ]
  },
  {
   "cell_type": "code",
   "execution_count": 55,
   "metadata": {},
   "outputs": [],
   "source": [
    "class Child(Parent):\n",
    "    def __init__(self, parent_attr, child_attr):\n",
    "        super().__init__(parent_attr)\n",
    "        self.child_attr = child_attr\n",
    "        # Additional initialization steps specific to Child\n"
   ]
  },
  {
   "attachments": {},
   "cell_type": "markdown",
   "metadata": {},
   "source": [
    "Overriding __init__() Method:\n",
    "\n",
    "If necessary, the child class can override the __init__() method of the parent class to change or extend the initialization behavior. This is useful when the child class requires different parameters or additional initialization steps compared to the parent class."
   ]
  },
  {
   "cell_type": "code",
   "execution_count": 57,
   "metadata": {},
   "outputs": [
    {
     "name": "stdout",
     "output_type": "stream",
     "text": [
      "Buddy is a Labrador Canine\n",
      "Woof!\n"
     ]
    }
   ],
   "source": [
    "class Animal:\n",
    "    def __init__(self, species):\n",
    "        self.species = species\n",
    "    \n",
    "    def make_sound(self):\n",
    "        pass  # Placeholder for animal sound\n",
    "\n",
    "class Dog(Animal):\n",
    "    def __init__(self, name, breed):\n",
    "        super().__init__('Canine')\n",
    "        self.name = name\n",
    "        self.breed = breed\n",
    "    \n",
    "    def make_sound(self):\n",
    "        print(\"Woof!\")\n",
    "\n",
    "# Creating instances\n",
    "dog1 = Dog(\"Buddy\", \"Labrador\")\n",
    "print(f\"{dog1.name} is a {dog1.breed} {dog1.species}\")\n",
    "dog1.make_sound()  # Output: Woof!\n"
   ]
  },
  {
   "attachments": {},
   "cell_type": "markdown",
   "metadata": {},
   "source": [
    "17. Create a Python class called `Bird` with a method `fly()`. Then, create child classes `Eagle` and `Sparrow"
   ]
  },
  {
   "cell_type": "code",
   "execution_count": 58,
   "metadata": {},
   "outputs": [
    {
     "name": "stdout",
     "output_type": "stream",
     "text": [
      "unknown flying behaviour\n",
      "eagles fly high in the sky\n",
      "sparrow fly close to the ground\n"
     ]
    }
   ],
   "source": [
    "class Bird:\n",
    "    def fly(Bird):\n",
    "        return \"unknown flying behaviour\"\n",
    "    #define the child class eagle inheriting from bird\n",
    "class Eagle(Bird):\n",
    "    def fly(self):\n",
    "        return \"eagles fly high in the sky\"\n",
    "#define another child classes sparrow inheriting from bird\n",
    "class Sparrow(Bird):\n",
    "    def fly(self):\n",
    "        return \"sparrow fly close to the ground\"\n",
    "bird1=Bird()\n",
    "print(bird1.fly())\n",
    "eagle=Eagle()\n",
    "print(eagle.fly())\n",
    "Sparrow=Sparrow()\n",
    "print(Sparrow.fly())"
   ]
  },
  {
   "attachments": {},
   "cell_type": "markdown",
   "metadata": {},
   "source": [
    " 18.What is the \"diamond problem\" in multiple inheritance, and how does Python address it? "
   ]
  },
  {
   "attachments": {},
   "cell_type": "markdown",
   "metadata": {},
   "source": [
    "The \"diamond problem\" is a classic issue that arises in programming languages that support multiple inheritance. It occurs when a subclass inherits from two classes that have a common ancestor. This leads to ambiguity in the inheritance hierarchy and can cause unexpected behavior when resolving method and attribute lookups."
   ]
  },
  {
   "attachments": {},
   "cell_type": "markdown",
   "metadata": {},
   "source": [
    "ssues with the Diamond Problem:\n",
    "Ambiguity in Method Resolution:\n",
    "\n",
    "If both B and C define a method foo() that they inherit from A, and D does not override foo(), which implementation of foo() should D inherit?\n",
    "Ambiguity in Attribute Access:\n",
    "\n",
    "Similar ambiguity arises when both B and C have attributes inherited from A, and D accesses these attributes. Which version of the attribute should D use?\n",
    "Namespace Complexity:\n",
    "\n",
    "The diamond structure can lead to complex namespace resolution rules, making it challenging to predict which method or attribute will be accessed when invoked on an instance of D.\n",
    "How Python Addresses the Diamond Problem:\n",
    "Python addresses the diamond problem through the following mechanisms:\n",
    "\n",
    "Method Resolution Order (MRO):\n",
    "\n",
    "Python uses a specific algorithm, known as the C3 linearization or MRO, to determine the order in which methods are resolved in multiple inheritance. The MRO ensures that classes are searched in a predictable and consistent order.\n",
    "super() Function:\n",
    "\n",
    "Python's super() function allows for cooperative method calls among superclasses. It ensures that methods defined in superclasses are called only once and in the correct order, respecting the MRO.\n",
    "Depth-First, Left-to-Right (DPLR) Order:\n",
    "\n",
    "Python's MRO follows the C3 linearization, which is a depth-first, left-to-right traversal of the inheritance graph. This order ensures that classes are visited in a way that resolves the diamond structure without ambiguity.\n"
   ]
  },
  {
   "cell_type": "code",
   "execution_count": 59,
   "metadata": {},
   "outputs": [
    {
     "name": "stdout",
     "output_type": "stream",
     "text": [
      "(<class '__main__.D'>, <class '__main__.B'>, <class '__main__.C'>, <class '__main__.A'>, <class 'object'>)\n",
      "method foo() in the class\n"
     ]
    }
   ],
   "source": [
    "class A:\n",
    "    def foo(self):\n",
    "        print(\"method foo() in the class\")\n",
    "class B(A):\n",
    "    pass\n",
    "class C(A):\n",
    "    def foo(self):\n",
    "        print(\"method foo() in the class\")\n",
    "class D(B,C):\n",
    "    pass\n",
    "#mathed resolution mro\n",
    "print(D.__mro__)\n",
    "d=D()\n",
    "d.foo()"
   ]
  },
  {
   "attachments": {},
   "cell_type": "markdown",
   "metadata": {},
   "source": [
    "19. Discuss the concept of \"is-a\" and \"has-a\" relationships in inheritance, and provide examples of each.  "
   ]
  },
  {
   "attachments": {},
   "cell_type": "markdown",
   "metadata": {},
   "source": [
    "In object-oriented programming (OOP), especially in the context of inheritance, \"is-a\" and \"has-a\" relationships describe different types of associations between classes. These relationships help in defining the structure and behavior of classes and how they interact with each other.\n",
    "\n",
    "\"Is-a\" Relationship (Inheritance):\n",
    "The \"is-a\" relationship is also known as inheritance. It signifies that a class (subclass or derived class) is a specialized version of another class (superclass or base class). This relationship implies that an object of the subclass can be treated as an object of the superclass because it shares the same interface and behaviors, and may extend or override them."
   ]
  },
  {
   "cell_type": "code",
   "execution_count": null,
   "metadata": {},
   "outputs": [],
   "source": [
    "# Base class\n",
    "class Animal:\n",
    "    def sound(self):\n",
    "        pass\n",
    "\n",
    "# Subclass inheriting from Animal\n",
    "class Dog(Animal):\n",
    "    def sound(self):\n",
    "        return \"Woof!\"\n",
    "\n",
    "# Subclass inheriting from Animal\n",
    "class Cat(Animal):\n",
    "    def sound(self):\n",
    "        return \"Meow!\"\n",
    "\n",
    "# Example usage\n",
    "dog = Dog()\n",
    "print(dog.sound())  # Output: Woof!\n",
    "\n",
    "cat = Cat()\n",
    "print(cat.sound())  # Output: Meow!\n"
   ]
  },
  {
   "attachments": {},
   "cell_type": "markdown",
   "metadata": {},
   "source": [
    "Has-a\" Relationship (Composition):\n",
    "The \"has-a\" relationship, or composition, describes a scenario where one class contains an object of another class as a member. This relationship implies that one class \"has\" another class as a component part or attribute, enabling the containing class to utilize the functionality of the contained class."
   ]
  },
  {
   "cell_type": "code",
   "execution_count": 60,
   "metadata": {},
   "outputs": [
    {
     "name": "stdout",
     "output_type": "stream",
     "text": [
      "Engine starting\n"
     ]
    }
   ],
   "source": [
    "# Class representing Engine\n",
    "class Engine:\n",
    "    def start(self):\n",
    "        return \"Engine starting\"\n",
    "\n",
    "# Car class containing Engine as an attribute\n",
    "class Car:\n",
    "    def __init__(self):\n",
    "        self.engine = Engine()\n",
    "\n",
    "    def start_engine(self):\n",
    "        return self.engine.start()\n",
    "\n",
    "# Example usage\n",
    "car = Car()\n",
    "print(car.start_engine())  # Output: Engine starting\n"
   ]
  },
  {
   "attachments": {},
   "cell_type": "markdown",
   "metadata": {},
   "source": [
    "20.Create a Python class hierarchy for a university system. Start with a base class `Person` and create child classes `Student` and `Professor`, each with their own attributes and methods. Provide an example of using these classes in a university context.\n",
    "\n"
   ]
  },
  {
   "cell_type": "code",
   "execution_count": 61,
   "metadata": {},
   "outputs": [
    {
     "name": "stdout",
     "output_type": "stream",
     "text": [
      "Alice Smith enrolled in Introduction to Programming\n",
      "Alice Smith enrolled in Database Management\n",
      "Alice Smith's enrolled courses: Introduction to Programming, Database Management\n",
      "Dr. John Doe assigned to teach Advanced Machine Learning\n",
      "Dr. John Doe assigned to teach Computer Vision\n",
      "Dr. John Doe's courses taught: Advanced Machine Learning, Computer Vision\n"
     ]
    }
   ],
   "source": [
    "class Person:\n",
    "    def __init__(self, name, age, gender):\n",
    "        self.name = name\n",
    "        self.age = age\n",
    "        self.gender = gender\n",
    "    \n",
    "    def __str__(self):\n",
    "        return f\"{self.name}, {self.age} years old, {self.gender}\"\n",
    "\n",
    "class Student(Person):\n",
    "    def __init__(self, name, age, gender, student_id, major):\n",
    "        super().__init__(name, age, gender)\n",
    "        self.student_id = student_id\n",
    "        self.major = major\n",
    "        self.courses = []\n",
    "    \n",
    "    def enroll(self, course):\n",
    "        self.courses.append(course)\n",
    "        print(f\"{self.name} enrolled in {course}\")\n",
    "    \n",
    "    def list_courses(self):\n",
    "        print(f\"{self.name}'s enrolled courses: {', '.join(self.courses)}\")\n",
    "\n",
    "class Professor(Person):\n",
    "    def __init__(self, name, age, gender, employee_id, department):\n",
    "        super().__init__(name, age, gender)\n",
    "        self.employee_id = employee_id\n",
    "        self.department = department\n",
    "        self.courses_taught = []\n",
    "    \n",
    "    def assign_course(self, course):\n",
    "        self.courses_taught.append(course)\n",
    "        print(f\"{self.name} assigned to teach {course}\")\n",
    "    \n",
    "    def list_courses_taught(self):\n",
    "        print(f\"{self.name}'s courses taught: {', '.join(self.courses_taught)}\")\n",
    "\n",
    "# Example usage in a university context\n",
    "student1 = Student(\"Alice Smith\", 20, \"Female\", \"S001\", \"Computer Science\")\n",
    "professor1 = Professor(\"Dr. John Doe\", 45, \"Male\", \"P001\", \"Engineering\")\n",
    "\n",
    "# Student actions\n",
    "student1.enroll(\"Introduction to Programming\")\n",
    "student1.enroll(\"Database Management\")\n",
    "student1.list_courses()\n",
    "\n",
    "# Professor actions\n",
    "professor1.assign_course(\"Advanced Machine Learning\")\n",
    "professor1.assign_course(\"Computer Vision\")\n",
    "professor1.list_courses_taught()\n"
   ]
  },
  {
   "attachments": {},
   "cell_type": "markdown",
   "metadata": {},
   "source": [
    "Encapsulation:"
   ]
  },
  {
   "attachments": {},
   "cell_type": "markdown",
   "metadata": {},
   "source": [
    "1. Explain the concept of encapsulation in Python. What is its role in object-oriented programming? "
   ]
  },
  {
   "attachments": {},
   "cell_type": "markdown",
   "metadata": {},
   "source": [
    "Encapsulation is one of the fundamental principles of object-oriented programming (OOP) and refers to the bundling of data (attributes) and methods (functions that operate on the data) into a single unit called a class. It allows for the hiding of the internal state (attributes) of an object from the outside world and restricting access to that state only through the methods defined in the class. In simpler terms, encapsulation is about bundling data and the methods that operate on that data together, and controlling access to that bundle.\n",
    "\n",
    "Key Concepts of Encapsulation:\n",
    "Data Hiding:\n",
    "\n",
    "Encapsulation hides the internal state (attributes) of an object from the outside world. This is achieved by declaring attributes as private (often denoted by prefixing with an underscore _) so that they cannot be directly accessed from outside the class.\n",
    "Access Control:\n",
    "\n",
    "Encapsulation provides control over how the internal state of an object is accessed and modified. Methods (getter and setter methods) are defined to read (get) and write (set) the attribute values, allowing controlled access and validation of data.\n",
    "Information Hiding:\n",
    "\n",
    "The internal implementation details of a class are hidden from the outside, reducing complexity and preventing unintended external dependencies on the internal structure of objects.\n",
    "Role of Encapsulation in OOP:\n",
    "Modularity:\n",
    "\n",
    "Encapsulation promotes modularity by grouping related data (attributes) and behaviors (methods) into cohesive units (classes). This improves code organization, readability, and maintainability.\n",
    "Data Protection:\n",
    "\n",
    "By encapsulating data within classes and providing controlled access via methods, encapsulation protects the integrity of data and prevents accidental modification or invalid states.\n",
    "Code Reusability:\n",
    "\n",
    "Encapsulation facilitates code reusability because classes can be easily reused in different parts of a program or in different programs without needing to understand the details of their internal implementation.\n",
    "Security:\n",
    "\n",
    "Encapsulation enhances security by hiding sensitive data and exposing only necessary interfaces (methods) to manipulate that data. This reduces the risk of unintended data corruption or unauthorized access."
   ]
  },
  {
   "cell_type": "code",
   "execution_count": null,
   "metadata": {},
   "outputs": [
    {
     "name": "stdout",
     "output_type": "stream",
     "text": [
      "<bound method Car.get_make of <__main__.Car object at 0x0000019BD50B7990>>\n",
      "<bound method Car.get_model of <__main__.Car object at 0x0000019BD50B7990>>\n",
      "2020\n",
      "0\n",
      "100\n"
     ]
    },
    {
     "name": "stdout",
     "output_type": "stream",
     "text": [
      "<bound method Car.get_make of <__main__.Car object at 0x0000019BD5F1E750>>\n",
      "<bound method Car.get_model of <__main__.Car object at 0x0000019BD5F1E750>>\n",
      "<bound method Car.get_year of <__main__.Car object at 0x0000019BD5F1E750>>\n",
      "0\n",
      "100\n"
     ]
    }
   ],
   "source": [
    "class Car:\n",
    "    def __init__(self,make,model,year):\n",
    "        self.make=make\n",
    "        self._model=model\n",
    "        self._year=year\n",
    "        self._mileage=0\n",
    "    def get_make(self):\n",
    "        return self._make\n",
    "    def get_model(self):\n",
    "        return self._model\n",
    "    def get_year(self):\n",
    "        return self._year\n",
    "    def get_mileage(self):\n",
    "        return self._mileage\n",
    "    def drive(self,miles):\n",
    "        self._mileage+=miles\n",
    "my_car=Car(\"toyota\",\"camry\",2020)\n",
    "print(my_car.get_make())\n",
    "print(my_car.get_model())\n",
    "print(my_car.get_year())\n",
    "print(my_car.get_mileage())\n",
    "my_car.drive(100)\n",
    "print(my_car.get_mileage())"
   ]
  },
  {
   "attachments": {},
   "cell_type": "markdown",
   "metadata": {},
   "source": [
    "2. Describe the key principles of encapsulation, including access control and data hiding. "
   ]
  },
  {
   "attachments": {},
   "cell_type": "markdown",
   "metadata": {},
   "source": [
    "Access Control: Access control mechanisms define how the attributes and methods of a class can be accessed and modified from outside the class. In most programming languages that support OOP, access control is achieved through modifiers like public, private, and protected.\n",
    "\n",
    "Public: Attributes or methods marked as public are accessible from outside the class. They form the interface through which the class interacts with the rest of the program.\n",
    "\n",
    "Private: Attributes or methods marked as private are not accessible from outside the class. They are encapsulated and can only be accessed or modified within the same class. This ensures that the internal state of an object is not accidentally or maliciously changed from outside.\n",
    "\n",
    "Protected: Attributes or methods marked as protected are accessible within the same class and its subclasses (derived classes). They are useful when you want to provide limited access to subclasses while still restricting access from the outside world.\n",
    "\n",
    "Data Hiding: Data hiding is the concept of restricting direct access to certain attributes or methods of a class. This is achieved by marking attributes as private so that they cannot be directly accessed from outside the class. Instead, access to these attributes is provided through public methods (getters and setters), which are controlled by the class. This helps in maintaining the integrity of the data and prevents accidental or unauthorized modification.\n",
    "\n",
    "Getter methods: These methods are used to access the values of private attributes. They typically have a public access modifier and return the value of the attribute.\n",
    "\n",
    "Setter methods: These methods are used to modify the values of private attributes. They typically have a public access modifier and provide controlled access to modify the attribute, often including validation or additional logic to ensure data integrity."
   ]
  },
  {
   "attachments": {},
   "cell_type": "markdown",
   "metadata": {},
   "source": [
    " 3.How can you achieve encapsulation in Python classes? Provide an example. "
   ]
  },
  {
   "attachments": {},
   "cell_type": "markdown",
   "metadata": {},
   "source": [
    "n Python, encapsulation can be achieved using the following mechanisms:\n",
    "\n",
    "Private Attributes: Python does not have a strict mechanism for making attributes private (as in some other languages like Java or C++), but a convention is followed by prefixing the attribute name with an underscore (_). This indicates that the attribute should be considered private and should not be accessed directly from outside the class.\n",
    "\n",
    "Getter and Setter Methods: Although not strictly required due to Python's dynamic nature, getter and setter methods can be defined to provide controlled access to attributes, especially when validation or additional logic is neede"
   ]
  },
  {
   "cell_type": "code",
   "execution_count": 3,
   "metadata": {},
   "outputs": [
    {
     "name": "stdout",
     "output_type": "stream",
     "text": [
      "car make TOYOTA\n",
      "car model camry\n",
      "car year 2020\n",
      "current speed, 60\n"
     ]
    }
   ],
   "source": [
    "class Car:\n",
    "    def __init__(self ,make,model,year):\n",
    "        self._make=make   #private attribute\n",
    "        self._model=model\n",
    "        self._year=year\n",
    "        self._speed=0\n",
    "        #getter method\n",
    "    def get_make(self):\n",
    "        return self._make\n",
    "    def get_model(self):\n",
    "        return self._model\n",
    "    def get_year(self):\n",
    "        return self._year\n",
    "    #setter method\n",
    "    def set_speed(self,speed):\n",
    "        if speed>=0:\n",
    "            self._speed=speed\n",
    "        else:\n",
    "            raise ValueError(\"speed must be a non negative\")\n",
    "    def get_speed(self):\n",
    "        return self._speed\n",
    "    #creating an instance of car\n",
    "my_car=Car(\"TOYOTA\",\"camry\",2020)\n",
    "    #accessing attributes via getters\n",
    "print(\"car make\",my_car.get_make())\n",
    "print(\"car model\",my_car.get_model())\n",
    "print(\"car year\",my_car.get_year())\n",
    "    #setting and getting speed using setter and getter\n",
    "my_car.set_speed(60)\n",
    "print(\"current speed,\",my_car.get_speed())"
   ]
  },
  {
   "attachments": {},
   "cell_type": "markdown",
   "metadata": {},
   "source": [
    "4. Discuss the difference between public, private, and protected access modifiers in Python. "
   ]
  },
  {
   "attachments": {},
   "cell_type": "markdown",
   "metadata": {},
   "source": [
    "Public Access:\n",
    "\n",
    "In Python, all attributes and methods are public by default.\n",
    "Public attributes and methods can be accessed from outside the class.\n",
    "They are typically accessed directly using dot notation (object.attribute) or by calling the method (object.method()).\n",
    "\n",
    "\n",
    "Private Access:\n",
    "\n",
    "Private attributes and methods in Python are indicated by prefixing the attribute or method name with a double underscore (__).\n",
    "Python uses name mangling to effectively make the name of the attribute or method unique to the class it is defined in. This helps in avoiding name clashes in subclasses.\n",
    "Private attributes and methods are not accessible directly from outside the class. Attempting to access them directly will result in an AttributeError\n",
    "\n",
    "Protected Access:\n",
    "\n",
    "In Python, there is no strict mechanism for protected access as in some other languages.\n",
    "Conventionally, attributes and methods intended to be protected are prefixed with a single underscore (_).\n",
    "Protected attributes and methods are intended for internal use or for use by subclasses. They can still be accessed from outside the class, but it's a convention to treat them as non-public and to be used with caution"
   ]
  },
  {
   "cell_type": "code",
   "execution_count": 5,
   "metadata": {},
   "outputs": [
    {
     "name": "stdout",
     "output_type": "stream",
     "text": [
      " I am public\n",
      "<bound method MyClass.public_method of <__main__.MyClass object at 0x0000026A77DF9F50>>\n"
     ]
    }
   ],
   "source": [
    "#public access\n",
    "class MyClass:\n",
    "    def __init__(self):\n",
    "        self.public_attribute=\" I am public\"\n",
    "    def public_method(self):\n",
    "        return \"this is the method\"\n",
    "obj=MyClass()\n",
    "print(obj.public_attribute)\n",
    "print(obj.public_method)"
   ]
  },
  {
   "cell_type": "code",
   "execution_count": 7,
   "metadata": {},
   "outputs": [],
   "source": [
    "#protected accesss\n",
    "class MyClass:\n",
    "    def __init__(self):\n",
    "        self.__private_attribute=\"i am private\"\n",
    "    def __private_method(self):\n",
    "        return \"this is private method\"\n",
    "obj=MyClass()\n",
    "#print(obj.__private_attribute)\n",
    "#print(obj.__private_method)"
   ]
  },
  {
   "cell_type": "code",
   "execution_count": 8,
   "metadata": {},
   "outputs": [
    {
     "name": "stdout",
     "output_type": "stream",
     "text": [
      "I am protected\n",
      "This is a protected method\n"
     ]
    }
   ],
   "source": [
    "class MyClass:\n",
    "    def __init__(self):\n",
    "        self._protected_attribute = \"I am protected\"\n",
    "\n",
    "    def _protected_method(self):\n",
    "        return \"This is a protected method\"\n",
    "\n",
    "obj = MyClass()\n",
    "# Accessing protected attribute and method (though they are conventionally considered non-public)\n",
    "print(obj._protected_attribute)\n",
    "print(obj._protected_method())\n"
   ]
  },
  {
   "attachments": {},
   "cell_type": "markdown",
   "metadata": {},
   "source": [
    " 5.Create a Python class called `Person` with a private attribute `__name`. Provide methods to get and set the "
   ]
  },
  {
   "cell_type": "code",
   "execution_count": 14,
   "metadata": {},
   "outputs": [
    {
     "name": "stdout",
     "output_type": "stream",
     "text": [
      "current name alice\n",
      "updated name bob\n"
     ]
    }
   ],
   "source": [
    "class Person:\n",
    "    def __init__(self,name):\n",
    "        self.__name=name #private method \n",
    "    def get_name(self):\n",
    "        return self.__name\n",
    "    def set_name(self,new_name):\n",
    "        self.__name=new_name \n",
    "#creating instance of a person\n",
    "person=Person(\"alice\")\n",
    "#get name\n",
    "print(\"current name\",person.get_name())\n",
    "#set the name\n",
    "person.set_name(\"bob\")\n",
    "#update name\n",
    "print(\"updated name\",person.get_name())"
   ]
  },
  {
   "attachments": {},
   "cell_type": "markdown",
   "metadata": {},
   "source": [
    " 6.Explain the purpose of getter and setter methods in encapsulation. Provide examples. "
   ]
  },
  {
   "attachments": {},
   "cell_type": "markdown",
   "metadata": {},
   "source": [
    "Getter and Setter Methods: Although not strictly required due to Python's dynamic nature, getter and setter methods can be defined to provide controlled access to attributes, especially when validation or additional logic is needed"
   ]
  },
  {
   "cell_type": "code",
   "execution_count": 16,
   "metadata": {},
   "outputs": [
    {
     "name": "stdout",
     "output_type": "stream",
     "text": [
      "name ALICE\n",
      "age 30\n"
     ]
    }
   ],
   "source": [
    "class Person:\n",
    "    def __init__(self,name,age):\n",
    "        self._name=name\n",
    "        self._age=age\n",
    "    def get_name(self):\n",
    "        return self._name\n",
    "    def get_age(self):\n",
    "        return self._age\n",
    "person=Person(\"ALICE\",30)\n",
    "print(\"name\",person.get_name())\n",
    "print(\"age\",person.get_age())"
   ]
  },
  {
   "attachments": {},
   "cell_type": "markdown",
   "metadata": {},
   "source": [
    "7. What is name mangling in Python, and how does it affect encapsulation? "
   ]
  },
  {
   "attachments": {},
   "cell_type": "markdown",
   "metadata": {},
   "source": [
    "Name mangling in Python is a mechanism used to make class attributes more \"private\" by automatically adding a class-specific prefix to them. This prefixing occurs for attributes that start with a double underscore (__) but do not end with more than one trailing underscore (__). This process is intended to avoid accidental overriding in subclasses and to provide a level of name privacy, although it is primarily a convention rather than a strict security feature.\n",
    "\n",
    "How Name Mangling Works:\n",
    "When Python encounters an identifier with a double underscore prefix (__) inside a class definition, it performs name mangling by appending _ClassName to the front of the identifier. Here, ClassName is the current class name. This transformation is applied at compile time, ensuring that even though the attribute is accessible via a mangled name from outside the class, it is less likely to clash unintentionally with the same attribute in subclasses."
   ]
  },
  {
   "cell_type": "code",
   "execution_count": 19,
   "metadata": {},
   "outputs": [
    {
     "name": "stdout",
     "output_type": "stream",
     "text": [
      "10\n",
      "This is a private method\n",
      "10\n"
     ]
    }
   ],
   "source": [
    "class MyClass:\n",
    "    def __init__(self):\n",
    "        self.__private_attr = 10\n",
    "\n",
    "    def __private_method(self):\n",
    "        return \"This is a private method\"\n",
    "\n",
    "class SubClass(MyClass):\n",
    "    def __init__(self):\n",
    "        super().__init__()\n",
    "        self.__private_attr = 20  # Name mangling applies here as well\n",
    "\n",
    "# Accessing name-mangled attributes from outside the class\n",
    "obj = MyClass()\n",
    "print(obj._MyClass__private_attr)    # Prints 10\n",
    "print(obj._MyClass__private_method())    # Prints \"This is a private method\"\n",
    "\n",
    "# Accessing name-mangled attributes in subclass\n",
    "sub_obj = SubClass()\n",
    "print(sub_obj._MyClass__private_attr)    # Prints 20\n"
   ]
  },
  {
   "attachments": {},
   "cell_type": "markdown",
   "metadata": {},
   "source": [
    "8. Create a Python class called `BankAccount` with private attributes for the account balance (`__balance`)\n",
    "and account number (__account_number__).provide methods for depositing and withdrawing money."
   ]
  },
  {
   "cell_type": "code",
   "execution_count": 21,
   "metadata": {},
   "outputs": [
    {
     "name": "stdout",
     "output_type": "stream",
     "text": [
      "Account Number: 123456789\n",
      "Initial Balance: 1000\n",
      "Deposited $500. New balance is $1500.\n",
      "Withdrew $200. New balance is $1300.\n",
      "Insufficient funds.\n",
      "Final Balance: 1300\n"
     ]
    }
   ],
   "source": [
    "class BankAccount:\n",
    "    def __init__(self, account_number, initial_balance=0):\n",
    "        self.__account_number = account_number  # Private attribute for account number\n",
    "        self.__balance = initial_balance       # Private attribute for account balance\n",
    "\n",
    "    def deposit(self, amount):\n",
    "        \"\"\"Method to deposit money into the account.\"\"\"\n",
    "        if amount > 0:\n",
    "            self.__balance += amount\n",
    "            print(f\"Deposited ${amount}. New balance is ${self.__balance}.\")\n",
    "        else:\n",
    "            print(\"Deposit amount must be greater than zero.\")\n",
    "\n",
    "    def withdraw(self, amount):\n",
    "        \"\"\"Method to withdraw money from the account.\"\"\"\n",
    "        if 0 < amount <= self.__balance:\n",
    "            self.__balance -= amount\n",
    "            print(f\"Withdrew ${amount}. New balance is ${self.__balance}.\")\n",
    "        elif amount > self.__balance:\n",
    "            print(\"Insufficient funds.\")\n",
    "        else:\n",
    "            print(\"Withdraw amount must be greater than zero.\")\n",
    "\n",
    "    def get_balance(self):\n",
    "        \"\"\"Method to retrieve the current balance.\"\"\"\n",
    "        return self.__balance\n",
    "\n",
    "    def get_account_number(self):\n",
    "        \"\"\"Method to retrieve the account number.\"\"\"\n",
    "        return self.__account_number\n",
    "\n",
    "\n",
    "# Example usage of the BankAccount class\n",
    "account = BankAccount(\"123456789\", 1000)\n",
    "\n",
    "# Checking initial balance and account number\n",
    "print(\"Account Number:\", account.get_account_number())\n",
    "print(\"Initial Balance:\", account.get_balance())\n",
    "\n",
    "# Depositing money\n",
    "account.deposit(500)\n",
    "\n",
    "# Withdrawing money\n",
    "account.withdraw(200)\n",
    "\n",
    "# Trying to withdraw more than the balance\n",
    "account.withdraw(1500)\n",
    "\n",
    "# Checking final balance\n",
    "print(\"Final Balance:\", account.get_balance())\n"
   ]
  },
  {
   "attachments": {},
   "cell_type": "markdown",
   "metadata": {},
   "source": [
    "9. Discuss the advantages of encapsulation in terms of code maintainability and security.  "
   ]
  },
  {
   "attachments": {},
   "cell_type": "markdown",
   "metadata": {},
   "source": [
    "Code Maintainability:\n",
    "Modularity and Simplicity: Encapsulation promotes modularity by hiding the internal workings of a class behind well-defined interfaces. This simplifies the complexity of the code, as other parts of the program only need to interact with the public interface of the object, rather than understanding its internal implementation details.\n",
    "\n",
    "Ease of Modification: Since the internal implementation details are hidden, you can change the internal workings of a class without affecting the rest of the code that uses it. This reduces the ripple effect of changes and makes the code more maintainable.\n",
    "\n",
    "Code Organization: Encapsulation encourages better organization of code by grouping related data and functions together within a class. This improves readability and makes it easier to locate and update code related to a particular functionality.\n",
    "\n",
    "Controlled Access: By using access modifiers (e.g., private, protected), encapsulation allows you to control how data can be accessed and modified. This prevents unintended modifications and enhances code reliability.\n",
    "\n",
    "Security:\n",
    "Data Hiding: Encapsulation hides the internal state of objects from the outside world by making attributes private (or protected). This prevents unauthorized access and modification of data, which is crucial for maintaining data integrity and preventing accidental corruption.\n",
    "\n",
    "Encapsulation of Invariant Logic: Encapsulation allows you to enforce invariants (rules that must always be true) within a class. By encapsulating the logic that maintains these invariants, you ensure that the integrity of the data is maintained, reducing the risk of logical errors and security vulnerabilities.\n",
    "\n",
    "Selective Exposure: Only the necessary parts of an object are exposed through well-defined interfaces. This reduces the surface area for potential attacks or misuse, as external code interacts only with what is explicitly made available.\n",
    "\n",
    "Enhanced Maintainability Leads to Better Security: Since encapsulation improves code maintainability, it indirectly contributes to better security. Well-maintained code is easier to review for security flaws, update with security patches, and less prone to unintended vulnerabilities due to human error.\n",
    "\n",
    "In summary, encapsulation improves code maintainability by promoting modularity, simplicity, and controlled access, while enhancing security through data hiding, encapsulation of invariants, and selective exposure of object interfaces. These benefits make encapsulation a crucial principle for developing robust, maintainable, and secure software system"
   ]
  },
  {
   "cell_type": "code",
   "execution_count": 27,
   "metadata": {},
   "outputs": [],
   "source": [
    "# Without Encapsulation\n",
    "class BankAccount:\n",
    "    def __init__(self, account_id):\n",
    "        self.balance = 0.0\n",
    "        self.account_id = account_id\n",
    "        \n",
    "    def withdraw(self, amount):\n",
    "        if self.balance >= amount:\n",
    "            self.balance -= amount\n",
    "            \n",
    "    def deposit(self, amount):\n",
    "        self.balance += amount\n",
    "        \n",
    "    def display_account_info(self):\n",
    "        print(f\"Account ID: {self.account_id}\")\n",
    "        print(f\"Balance: ${self.balance}\")\n",
    "\n",
    "# Using Encapsulation\n",
    "class BankAccount:\n",
    "    def __init__(self, account_id):\n",
    "        self._balance = 0.0  # private attribute\n",
    "        self._account_id = account_id  # private attribute\n",
    "        \n",
    "    def withdraw(self, amount):\n",
    "        if self._balance >= amount:\n",
    "            self._balance -= amount\n",
    "            \n",
    "    def deposit(self, amount):\n",
    "        self._balance += amount\n",
    "        \n",
    "    def display_account_info(self):\n",
    "        print(f\"Account ID: {self._account_id}\")\n",
    "        print(f\"Balance: ${self._balance}\")\n"
   ]
  },
  {
   "cell_type": "code",
   "execution_count": 28,
   "metadata": {},
   "outputs": [],
   "source": [
    "# Without Encapsulation\n",
    "class User:\n",
    "    def __init__(self, username, password):\n",
    "        self.username = username\n",
    "        self.password = password\n",
    "        \n",
    "    def change_password(self, new_password):\n",
    "        self.password = new_password\n",
    "\n",
    "# Using Encapsulation\n",
    "class User:\n",
    "    def __init__(self, username, password):\n",
    "        self._username = username  # private attribute\n",
    "        self._password = password  # private attribute\n",
    "        \n",
    "    def change_password(self, new_password):\n",
    "        # Additional validation or hashing logic can be added here\n",
    "        self._password = new_password\n",
    "        \n",
    "    # Getter for username (no setter provided for this example)\n",
    "    def get_username(self):\n",
    "        return self._username\n"
   ]
  },
  {
   "attachments": {},
   "cell_type": "markdown",
   "metadata": {},
   "source": [
    "10.How can you access private attributes in Python? Provide an example demonstrating the use of name mangling?"
   ]
  },
  {
   "attachments": {},
   "cell_type": "markdown",
   "metadata": {},
   "source": [
    "Private attributes can be accessed in Python using name mangling and through specific conventions, although it's generally discouraged due to breaking encapsulation principles"
   ]
  },
  {
   "cell_type": "code",
   "execution_count": 30,
   "metadata": {},
   "outputs": [
    {
     "name": "stdout",
     "output_type": "stream",
     "text": [
      "10\n",
      "10\n"
     ]
    }
   ],
   "source": [
    "class MyClass:\n",
    "    def __init__(self):\n",
    "        self.__private_attr = 10  # private attribute\n",
    "    \n",
    "    def get_private_attr(self):\n",
    "        return self.__private_attr\n",
    "\n",
    "obj = MyClass()\n",
    "print(obj.get_private_attr())  # Output: 10\n",
    "\n",
    "# Accessing through name mangling\n",
    "print(obj._MyClass__private_attr)  # Output: 10\n"
   ]
  },
  {
   "attachments": {},
   "cell_type": "markdown",
   "metadata": {},
   "source": [
    "11.. Create a Python class hierarchy for a school system, including classes for students, teachers, and courses and implement encapsulation principles to protective sensitive information."
   ]
  },
  {
   "cell_type": "code",
   "execution_count": 2,
   "metadata": {},
   "outputs": [
    {
     "name": "stdout",
     "output_type": "stream",
     "text": [
      "Student Name: Alice\n",
      "Student ID: S001\n",
      "Student Address: 123 Elm St\n",
      "Teacher Name: Mr. Smith\n",
      "Teacher ID: T001\n",
      "Teacher Address: 456 Oak Ave\n",
      "Course Name: Mathematics\n",
      "Course Code: MATH101\n",
      "max Students: 30\n"
     ]
    },
    {
     "ename": "AttributeError",
     "evalue": "'Course' object has no attribute '_students_enrolled'",
     "output_type": "error",
     "traceback": [
      "\u001b[1;31m---------------------------------------------------------------------------\u001b[0m",
      "\u001b[1;31mAttributeError\u001b[0m                            Traceback (most recent call last)",
      "Cell \u001b[1;32mIn[2], line 102\u001b[0m\n\u001b[0;32m     99\u001b[0m \u001b[38;5;28mprint\u001b[39m(\u001b[38;5;124mf\u001b[39m\u001b[38;5;124m\"\u001b[39m\u001b[38;5;124mmax Students: \u001b[39m\u001b[38;5;132;01m{\u001b[39;00mcourse1\u001b[38;5;241m.\u001b[39mget_max_students()\u001b[38;5;132;01m}\u001b[39;00m\u001b[38;5;124m\"\u001b[39m)\n\u001b[0;32m    101\u001b[0m \u001b[38;5;66;03m# Enroll student in course\u001b[39;00m\n\u001b[1;32m--> 102\u001b[0m \u001b[38;5;28;01mif\u001b[39;00m \u001b[43mcourse1\u001b[49m\u001b[38;5;241;43m.\u001b[39;49m\u001b[43menroll_student\u001b[49m\u001b[43m(\u001b[49m\u001b[43mstudent1\u001b[49m\u001b[43m)\u001b[49m:\n\u001b[0;32m    103\u001b[0m     \u001b[38;5;28mprint\u001b[39m(\u001b[38;5;124mf\u001b[39m\u001b[38;5;124m\"\u001b[39m\u001b[38;5;132;01m{\u001b[39;00mstudent1\u001b[38;5;241m.\u001b[39mget_name()\u001b[38;5;132;01m}\u001b[39;00m\u001b[38;5;124m enrolled in \u001b[39m\u001b[38;5;132;01m{\u001b[39;00mcourse1\u001b[38;5;241m.\u001b[39mget_course_name()\u001b[38;5;132;01m}\u001b[39;00m\u001b[38;5;124m\"\u001b[39m)\n\u001b[0;32m    104\u001b[0m \u001b[38;5;28;01melse\u001b[39;00m:\n",
      "Cell \u001b[1;32mIn[2], line 73\u001b[0m, in \u001b[0;36mCourse.enroll_student\u001b[1;34m(self, student)\u001b[0m\n\u001b[0;32m     72\u001b[0m \u001b[38;5;28;01mdef\u001b[39;00m \u001b[38;5;21menroll_student\u001b[39m(\u001b[38;5;28mself\u001b[39m,student):\n\u001b[1;32m---> 73\u001b[0m     \u001b[38;5;28;01mif\u001b[39;00m \u001b[38;5;28mlen\u001b[39m(\u001b[38;5;28;43mself\u001b[39;49m\u001b[38;5;241;43m.\u001b[39;49m\u001b[43m_students_enrolled\u001b[49m)\u001b[38;5;241m<\u001b[39m \u001b[38;5;28mself\u001b[39m\u001b[38;5;241m.\u001b[39m_max_students:\n\u001b[0;32m     74\u001b[0m         \u001b[38;5;28mself\u001b[39m\u001b[38;5;241m.\u001b[39m_students_enrolled\u001b[38;5;241m.\u001b[39mappend(student)\n\u001b[0;32m     75\u001b[0m         \u001b[38;5;28;01mreturn\u001b[39;00m \u001b[38;5;28;01mTrue\u001b[39;00m\n",
      "\u001b[1;31mAttributeError\u001b[0m: 'Course' object has no attribute '_students_enrolled'"
     ]
    }
   ],
   "source": [
    "class Person:\n",
    "    def __init__(self,name ,age ,address):\n",
    "        self._name=name    #protected attribute\n",
    "        self._age=age\n",
    "        self._address=address\n",
    "    def get_name(self):\n",
    "        return self._name\n",
    "    def set_name(self,name):\n",
    "        self._name=name\n",
    "    def get_age(self):\n",
    "        return self._age\n",
    "    def set_age(self,age):\n",
    "        self._age=age\n",
    "    def get_address(self):\n",
    "        return self._address\n",
    "    def set_address(self,address):\n",
    "        self._address=address\n",
    "class Student(Person):\n",
    "    def __init__(self,name,age,address,student_id):\n",
    "        super().__init__(name,age,address)\n",
    "        self._student_id=student_id #protected attribute\n",
    "        self._courses=[]  #list of courses will add in this list\n",
    "    def get_student_id(self):\n",
    "        return self._student_id\n",
    "    def add_courses(self,course):\n",
    "        self._courses.append(course)\n",
    "    def remove_course(self,course):\n",
    "        if course in self._courses:\n",
    "            self._courses.remove(course)\n",
    "    def get_course(self):\n",
    "        return self._courses\n",
    "class Teacher(Person):\n",
    "    def __init__(self,name,age,address,employee_id):\n",
    "        super().__init__(name,age,address)\n",
    "        self._employee_id=employee_id  #protected attribute\n",
    "        self._courses_taught=[] #list to  start courses taught\n",
    "    def get_employee_id(self):\n",
    "        return self._employee_id\n",
    "    def add_course_taught(self,course):\n",
    "        self._courses_taught.append(course)\n",
    "    def remove_course_taught(self):\n",
    "        if course1 in self._courses_taught:\n",
    "            self._courses_taught.remove(course)\n",
    "    def get_courses_taught(self):\n",
    "        return self.get_courses_taught\n",
    "class Course:\n",
    "    def __init__(self,course_name,course_code,max_students):\n",
    "        self._course_name=course_name\n",
    "        self._course_code=course_code\n",
    "        self._max_students=max_students\n",
    "        self.max_students_enroll=[] #list to enroll courses\n",
    "    def get_course_name(self):\n",
    "        return self._course_name\n",
    "    \n",
    "    def set_course_name(self, course_name):\n",
    "        self._course_name = course_name\n",
    "    \n",
    "    def get_course_code(self):\n",
    "        return self._course_code\n",
    "    \n",
    "    def set_course_code(self, course_code):\n",
    "        self._course_code = course_code\n",
    "    \n",
    "    def get_max_students(self):\n",
    "        return self._max_students\n",
    "    \n",
    "    def set_max_students(self, max_students):\n",
    "        self._max_students = max_students\n",
    "    \n",
    "    def get_students_enrolled(self):\n",
    "        return self._students_enrolled\n",
    "    def enroll_student(self,student):\n",
    "        if len(self._students_enrolled)< self._max_students:\n",
    "            self._students_enrolled.append(student)\n",
    "            return True\n",
    "        else:\n",
    "            return False\n",
    "    def remove_student(self, student):\n",
    "        if student in self._students_enrolled:\n",
    "            self._students_enrolled.remove(student)\n",
    "#Example usage:\n",
    "\n",
    "# Create a student\n",
    "student1 = Student(\"Alice\", 17, \"123 Elm St\", \"S001\")\n",
    "print(f\"Student Name: {student1.get_name()}\")\n",
    "print(f\"Student ID: {student1.get_student_id()}\")\n",
    "print(f\"Student Address: {student1.get_address()}\")\n",
    "\n",
    "# Create a teacher\n",
    "teacher1 = Teacher(\"Mr. Smith\", 35, \"456 Oak Ave\", \"T001\")\n",
    "print(f\"Teacher Name: {teacher1.get_name()}\")\n",
    "print(f\"Teacher ID: {teacher1.get_employee_id()}\")\n",
    "print(f\"Teacher Address: {teacher1.get_address()}\")\n",
    "\n",
    "# Create a course\n",
    "course1 = Course(\"Mathematics\", \"MATH101\", 30)\n",
    "print(f\"Course Name: {course1.get_course_name()}\")\n",
    "print(f\"Course Code: {course1.get_course_code()}\")\n",
    "print(f\"max Students: {course1.get_max_students()}\")\n",
    "\n",
    "# Enroll student in course\n",
    "if course1.enroll_student(student1):\n",
    "    print(f\"{student1.get_name()} enrolled in {course1.get_course_name()}\")\n",
    "else:\n",
    "    print(f\"Cannot enroll {student1.get_name()} in {course1.get_course_name()}. Course full.\")\n",
    "\n",
    "# Add course taught by teacher\n",
    "teacher1.add_course_taught(course1)\n",
    "print(f\"{teacher1.get_name()} teaches {teacher1.get_courses_taught()[0].get_course_name()}\")"
   ]
  },
  {
   "cell_type": "code",
   "execution_count": 42,
   "metadata": {},
   "outputs": [
    {
     "name": "stdout",
     "output_type": "stream",
     "text": [
      "Student Name: mohseen\n",
      "Student ID: S001\n",
      "Student Address: 123 Elm St\n",
      "Teacher Name: Mr.sudhanshu\n",
      "Teacher ID: T001\n",
      "Teacher Address: bangluru\n",
      "Course Name: Mathematics\n",
      "Course Code: MATH101\n",
      "Max Students: 30\n",
      "mohseen enrolled in Mathematics\n",
      "Mr.sudhanshu teaches Mathematics\n"
     ]
    }
   ],
   "source": [
    "class Person:\n",
    "    def __init__(self, name, age, address):\n",
    "        self._name = name  # protected attribute\n",
    "        self._age = age    # protected attribute\n",
    "        self._address = address  # protected attribute\n",
    "    \n",
    "    def get_name(self):\n",
    "        return self._name\n",
    "    \n",
    "    def set_name(self, name):\n",
    "        self._name = name\n",
    "    \n",
    "    def get_age(self):\n",
    "        return self._age\n",
    "    \n",
    "    def set_age(self, age):\n",
    "        self._age = age\n",
    "    \n",
    "    def get_address(self):\n",
    "        return self._address\n",
    "    \n",
    "    def set_address(self, address):\n",
    "        self._address = address\n",
    "\n",
    "\n",
    "class Student(Person):\n",
    "    def __init__(self, name, age, address, student_id):\n",
    "        super().__init__(name, age, address)\n",
    "        self._student_id = student_id  # protected attribute\n",
    "        self._courses = []  # list to store enrolled courses\n",
    "    \n",
    "    def get_student_id(self):\n",
    "        return self._student_id\n",
    "    \n",
    "    def add_course(self, course):\n",
    "        self._courses.append(course)\n",
    "    \n",
    "    def remove_course(self, course):\n",
    "        if course in self._courses:\n",
    "            self._courses.remove(course)\n",
    "    \n",
    "    def get_courses(self):\n",
    "        return self._courses\n",
    "\n",
    "\n",
    "class Teacher(Person):\n",
    "    def __init__(self, name, age, address, employee_id):\n",
    "        super().__init__(name, age, address)\n",
    "        self._employee_id = employee_id  # protected attribute\n",
    "        self._courses_taught = []  # list to store courses taught\n",
    "    \n",
    "    def get_employee_id(self):\n",
    "        return self._employee_id\n",
    "    \n",
    "    def add_course_taught(self, course):\n",
    "        self._courses_taught.append(course)\n",
    "    \n",
    "    def remove_course_taught(self, course):\n",
    "        if course in self._courses_taught:\n",
    "            self._courses_taught.remove(course)\n",
    "    \n",
    "    def get_courses_taught(self):\n",
    "        return self._courses_taught\n",
    "\n",
    "\n",
    "class Course:\n",
    "    def __init__(self, course_name, course_code, max_students):\n",
    "        self._course_name = course_name  # protected attribute\n",
    "        self._course_code = course_code  # protected attribute\n",
    "        self._max_students = max_students  # protected attribute\n",
    "        self._students_enrolled = []  # list to store enrolled students\n",
    "    \n",
    "    def get_course_name(self):\n",
    "        return self._course_name\n",
    "    \n",
    "    def set_course_name(self, course_name):\n",
    "        self._course_name = course_name\n",
    "    \n",
    "    def get_course_code(self):\n",
    "        return self._course_code\n",
    "    \n",
    "    def set_course_code(self, course_code):\n",
    "        self._course_code = course_code\n",
    "    \n",
    "    def get_max_students(self):\n",
    "        return self._max_students\n",
    "    \n",
    "    def set_max_students(self, max_students):\n",
    "        self._max_students = max_students\n",
    "    \n",
    "    def get_students_enrolled(self):\n",
    "        return self._students_enrolled\n",
    "    \n",
    "    def enroll_student(self, student):\n",
    "        if len(self._students_enrolled) < self._max_students:\n",
    "            self._students_enrolled.append(student)\n",
    "            return True\n",
    "        else:\n",
    "            return False\n",
    "    \n",
    "    def remove_student(self, student):\n",
    "        if student in self._students_enrolled:\n",
    "            self._students_enrolled.remove(student)\n",
    "\n",
    "\n",
    "# Example usage:\n",
    "\n",
    "# Create a student\n",
    "student1 = Student(\"mohseen\", 17, \"123 Elm St\", \"S001\")\n",
    "print(f\"Student Name: {student1.get_name()}\")\n",
    "print(f\"Student ID: {student1.get_student_id()}\")\n",
    "print(f\"Student Address: {student1.get_address()}\")\n",
    "\n",
    "# Create a teacher\n",
    "teacher1 = Teacher(\"Mr.sudhanshu\", 35, \"bangluru\", \"T001\")\n",
    "print(f\"Teacher Name: {teacher1.get_name()}\")\n",
    "print(f\"Teacher ID: {teacher1.get_employee_id()}\")\n",
    "print(f\"Teacher Address: {teacher1.get_address()}\")\n",
    "\n",
    "# Create a course\n",
    "course1 = Course(\"Mathematics\", \"MATH101\", 30)\n",
    "print(f\"Course Name: {course1.get_course_name()}\")\n",
    "print(f\"Course Code: {course1.get_course_code()}\")\n",
    "print(f\"Max Students: {course1.get_max_students()}\")\n",
    "\n",
    "# Enroll student in course\n",
    "if course1.enroll_student(student1):\n",
    "    print(f\"{student1.get_name()} enrolled in {course1.get_course_name()}\")\n",
    "else:\n",
    "    print(f\"Cannot enroll {student1.get_name()} in {course1.get_course_name()}. Course full.\")\n",
    "\n",
    "# Add course taught by teacher\n",
    "teacher1.add_course_taught(course1)\n",
    "print(f\"{teacher1.get_name()} teaches {teacher1.get_courses_taught()[0].get_course_name()}\")\n",
    "\n"
   ]
  },
  {
   "attachments": {},
   "cell_type": "markdown",
   "metadata": {},
   "source": [
    " 12.Explain the concept of property decorators in Python and how they relate to encapsulation. "
   ]
  },
  {
   "attachments": {},
   "cell_type": "markdown",
   "metadata": {},
   "source": [
    "in Python, property decorators (@property, @<property_name>.setter, @<property_name>.deleter) are a way to define and manage attributes of a class while providing control over access, modification, and deletion operations. They play a crucial role in implementing encapsulation by allowing the developer to define custom behavior when accessing or modifying class attributes, thereby hiding the internal implementation details"
   ]
  },
  {
   "cell_type": "code",
   "execution_count": 43,
   "metadata": {},
   "outputs": [
    {
     "name": "stdout",
     "output_type": "stream",
     "text": [
      "10\n"
     ]
    }
   ],
   "source": [
    "class MyClass:\n",
    "    def __init__(self):\n",
    "        self._x = None  # protected attribute\n",
    "\n",
    "    @property\n",
    "    def x(self):\n",
    "        return self._x\n",
    "\n",
    "    @x.setter\n",
    "    def x(self, value):\n",
    "        self._x = value\n",
    "\n",
    "obj = MyClass()\n",
    "obj.x = 10  # Setter method is called\n",
    "print(obj.x)  # Getter method is called\n"
   ]
  },
  {
   "attachments": {},
   "cell_type": "markdown",
   "metadata": {},
   "source": [
    "13. What is data hiding, and why is it important in encapsulation? Provide examples. "
   ]
  },
  {
   "attachments": {},
   "cell_type": "markdown",
   "metadata": {},
   "source": [
    "Data hiding is a fundamental principle in object-oriented programming (OOP) that involves restricting access to certain attributes and methods of a class. It ensures that the internal state of an object (its data) cannot be directly accessed or modified from outside the class's definition. This restriction encourages proper usage of the class by external code, reducing the risk of unintended modifications and promoting encapsulation.\n",
    "\n",
    "\n",
    "Encapsulation Promotion: Data hiding encourages encapsulation by defining a clear boundary between a class's internal implementation and its external interface. This separation allows the class to manage its own state and behavior, enforcing rules and constraints without external interference.\n",
    "\n",
    "Prevention of Accidental Modifications: By hiding data behind well-defined interfaces (typically getter and setter methods), data hiding prevents accidental modification of critical attributes. It ensures that changes to the object's state are controlled and validated according to the class's logic.\n",
    "\n",
    "Enhanced Security: Hiding sensitive data (e.g., passwords, private keys) within a class ensures that such information is not exposed to external code, reducing security risks. Access to sensitive data can be controlled and validated through methods that enforce security measures (e.g., encryption, access control).\n",
    "\n",
    "Improved Maintainability: Encapsulating data and providing controlled access through methods simplifies maintenance and updates. Internal changes to the class's implementation can be made without affecting other parts of the program, as long as the external interface remains consistent."
   ]
  },
  {
   "cell_type": "code",
   "execution_count": 44,
   "metadata": {},
   "outputs": [
    {
     "name": "stdout",
     "output_type": "stream",
     "text": [
      "Account ID: ACC123\n",
      "Current Balance: 1000.0\n",
      "Updated Balance after deposit: 1500.0\n",
      "Updated Balance after withdrawal: 1300.0\n"
     ]
    }
   ],
   "source": [
    "class BankAccount:\n",
    "    def __init__(self, account_id, initial_balance):\n",
    "        self._account_id = account_id  # protected attribute\n",
    "        self._balance = initial_balance  # protected attribute\n",
    "    \n",
    "    def deposit(self, amount):\n",
    "        if amount > 0:\n",
    "            self._balance += amount\n",
    "        else:\n",
    "            print(\"Invalid amount for deposit.\")\n",
    "    \n",
    "    def withdraw(self, amount):\n",
    "        if amount > 0 and self._balance >= amount:\n",
    "            self._balance -= amount\n",
    "        else:\n",
    "            print(\"Insufficient balance or invalid amount for withdrawal.\")\n",
    "    \n",
    "    def get_balance(self):\n",
    "        return self._balance\n",
    "    \n",
    "    def get_account_id(self):\n",
    "        return self._account_id\n",
    "\n",
    "# Usage example:\n",
    "account1 = BankAccount(\"ACC123\", 1000.0)\n",
    "print(f\"Account ID: {account1.get_account_id()}\")\n",
    "print(f\"Current Balance: {account1.get_balance()}\")\n",
    "account1.deposit(500.0)\n",
    "print(f\"Updated Balance after deposit: {account1.get_balance()}\")\n",
    "account1.withdraw(200.0)\n",
    "print(f\"Updated Balance after withdrawal: {account1.get_balance()}\")\n"
   ]
  },
  {
   "cell_type": "code",
   "execution_count": 45,
   "metadata": {},
   "outputs": [
    {
     "name": "stdout",
     "output_type": "stream",
     "text": [
      "Login successful\n"
     ]
    }
   ],
   "source": [
    "class User:\n",
    "    def __init__(self, username, password):\n",
    "        self._username = username  # protected attribute\n",
    "        self.__password = password  # private attribute\n",
    "    \n",
    "    def login(self, username, password):\n",
    "        if username == self._username and password == self.__password:\n",
    "            print(\"Login successful\")\n",
    "        else:\n",
    "            print(\"Login failed\")\n",
    "\n",
    "# Usage example:\n",
    "user1 = User(\"alice\", \"secretpassword\")\n",
    "user1.login(\"alice\", \"secretpassword\")  # Output: Login successful\n"
   ]
  },
  {
   "attachments": {},
   "cell_type": "markdown",
   "metadata": {},
   "source": [
    "14.Create a Python class called `Employee` with private attributes for salary (`__salary`) and employee ID (employee_id). provide the method to calculate yearly bonus."
   ]
  },
  {
   "cell_type": "code",
   "execution_count": 53,
   "metadata": {},
   "outputs": [
    {
     "name": "stdout",
     "output_type": "stream",
     "text": [
      "Yearly bonus for Employee ID 1234: $3000.00\n"
     ]
    }
   ],
   "source": [
    "class Employee:\n",
    "    def __init__(self,employee_id,salary):\n",
    "        self.__employee_id=employee_id\n",
    "        self.__salary=salary\n",
    "    def calculate_yearly_bonus(self):\n",
    "        #let suppose yearly bonus what=0.10\n",
    "        bonus_percentage=0.10\n",
    "        yearly_bonus=self.__salary*bonus_percentage\n",
    "        return yearly_bonus\n",
    "    def employee_id(self):\n",
    "        return self.__employee_id\n",
    "    def get_Salary(self):\n",
    "        return self.__get_Salary\n",
    "emp=Employee(employee_id=1234,salary=30000)\n",
    "#calculate yearly bonus\n",
    "yearly_bonus=emp.calculate_yearly_bonus()\n",
    "print(f\"Yearly bonus for Employee ID {emp.employee_id()}: ${yearly_bonus:.2f}\")"
   ]
  },
  {
   "attachments": {},
   "cell_type": "markdown",
   "metadata": {},
   "source": [
    "15. Discuss the use of accessors and mutators in encapsulation. How do they help maintain control over  attribute accesss?"
   ]
  },
  {
   "attachments": {},
   "cell_type": "markdown",
   "metadata": {},
   "source": [
    "Accessors and mutators (getters and setters) play a crucial role in encapsulation, a fundamental principle of object-oriented programming (OOP). Encapsulation refers to the bundling of data (attributes) and methods (accessors and mutators) that operate on that data within a single unit (class). Here’s how accessors and mutators contribute to maintaining control over attribute access:\n",
    "\n",
    "Accessors (Getters):\n",
    "Accessors are methods used to retrieve the value of a private attribute from a class. They typically have the following characteristics:\n",
    "\n",
    "Read-Only Access: By defining attributes as private and providing public accessors, you can control how attributes are read from outside the class. This ensures that external code cannot modify the attribute directly, adhering to the principle of data encapsulation.\n",
    "\n",
    "Encapsulation: Accessors abstract away the internal representation of data. This means that the internal structure of the class can be changed (for example, the data type of an attribute) without affecting code that uses the accessor method. This enhances maintainability and reduces dependencies on internal implementation details.\n",
    "\n",
    "Validation and Computation: Accessors can include logic to compute or validate the value being retrieved. For instance, a getBalance() method in a bank account class might calculate the balance based on transactions or apply business rules before returning the result.\n",
    "\n",
    "Mutators (Setters):\n",
    "Mutators are methods used to modify the value of a private attribute of a class. They are crucial for controlling how attributes can be modified:\n",
    "\n",
    "Controlled Modification: Mutators allow you to enforce constraints or perform validation before assigning a new value to an attribute. For example, a setSalary() method in an Employee class might check if the new salary is within acceptable limits before updating it.\n",
    "\n",
    "Encapsulation: Similar to accessors, mutators encapsulate the internal representation of data. They shield external code from the details of how an attribute is modified, enabling you to change the implementation (such as adding logging or triggering events) without affecting the code that uses the mutator.\n",
    "\n",
    "Maintaining Invariants: Mutators ensure that the object remains in a valid state after the attribute is modified. This is critical for maintaining data integrity and ensuring that the object behaves correctly according to its defined constraints.\n",
    "\n",
    "Benefits of Accessors and Mutators in Encapsulation:\n",
    "Security and Access Control: By providing controlled access to attributes through getters and setters, you prevent unintended modification or access of sensitive data.\n",
    "\n",
    "Flexibility and Maintenance: Accessors and mutators allow you to modify the internal implementation details of a class without breaking the external code that interacts with it. This promotes code reusability and maintainability.\n",
    "\n",
    "Encapsulation of Business Logic: They encapsulate business rules and validation logic within the class, making the codebase more modular and easier to understand.\n",
    "\n",
    "In summary, accessors and mutators are essential tools in encapsulation because they provide controlled and validated access to private attributes of a class, ensuring data integrity and promoting modular, maintainable code. They enforce the principle of encapsulation by hiding implementation details and exposing a controlled interface to interact with the object’s state."
   ]
  },
  {
   "attachments": {},
   "cell_type": "markdown",
   "metadata": {},
   "source": [
    "16. What are the potential drawbacks or disadvantages of using encapsulation in Python?  "
   ]
  },
  {
   "attachments": {},
   "cell_type": "markdown",
   "metadata": {},
   "source": [
    "While encapsulation is a powerful concept in object-oriented programming, especially in languages like Java and C++, it is implemented somewhat differently in Python due to its dynamic nature and strong support for introspection. Here are some potential drawbacks or disadvantages of using encapsulation in Python:\n",
    "\n",
    "Philosophical Differences: Python promotes a philosophy of \"we are all consenting adults here,\" which means it trusts developers to use objects responsibly without strict encapsulation. This can lead to a more flexible and sometimes less formal approach to object-oriented design compared to languages like Java.\n",
    "\n",
    "Less Strict Access Control: Unlike languages with strict encapsulation (e.g., private, protected access modifiers), Python does not enforce access restrictions on attributes prefixed with underscores (_). These attributes are considered private by convention, but they can still be accessed and modified directly if necessary.\n",
    "\n",
    "Verbose Getters and Setters: While Python supports property decorators to define getters and setters, using them can lead to more verbose code compared to languages where getters and setters are automatically generated or more concise to declare.\n",
    "\n",
    "Performance Overhead: Using getters and setters (via properties or methods) can introduce a slight performance overhead compared to direct attribute access in Python. This overhead might be negligible in many cases but could become a concern in performance-sensitive applications.\n",
    "\n",
    "Increased Complexity: Overuse of encapsulation techniques such as extensive property decorators or accessor methods (getters/setters) can make the code harder to understand and maintain, especially for developers unfamiliar with the design choices made.\n",
    "\n",
    "Testing Challenges: Encapsulation can sometimes make unit testing more challenging, as it may require more setup to access and manipulate internal state when compared to less encapsulated designs.\n",
    "\n",
    "Pythonic Approach: Python encourages a more flexible and pragmatic approach to programming, often favoring simplicity and readability over strict encapsulation. This can lead to a different mindset where encapsulation is used selectively rather than as a default design pattern.\n",
    "\n",
    "In summary, while encapsulation is still valuable in Python for organizing code, promoting data integrity, and providing controlled access to attributes, its application can differ from languages with stricter enforcement. Understanding these differences helps Python developers leverage encapsulation effectively while considering its potential drawbacks."
   ]
  },
  {
   "attachments": {},
   "cell_type": "markdown",
   "metadata": {},
   "source": [
    "17. Create a Python class for a library system that encapsulates book information, including titles, authors, "
   ]
  },
  {
   "cell_type": "code",
   "execution_count": null,
   "metadata": {},
   "outputs": [],
   "source": [
    "class Book:\n",
    "    def __init__(self, title, author):\n",
    "        self.title = title\n",
    "        self.author = author\n",
    "        self.available = True  # Default availability status\n",
    "\n",
    "    def __str__(self):\n",
    "        return f\"{self.title} by {self.author}\"\n",
    "\n",
    "    def check_out(self):\n",
    "        if self.available:\n",
    "            self.available = False\n",
    "            print(f\"{self.title} has been checked out.\")\n",
    "        else:\n",
    "            print(f\"Sorry, {self.title} is currently not available.\")\n",
    "\n",
    "    def check_in(self):\n",
    "        if not self.available:\n",
    "            self.available = True\n",
    "            print(f\"Thank you for returning {self.title}.\")\n",
    "        else:\n",
    "            print(f\"{self.title} is already available.\")\n",
    "\n",
    "# Example usage:\n",
    "if __name__ == \"__main__\":\n",
    "    # Create instances of Book\n",
    "    book1 = Book(\"Python Programming\", \"John Smith\")\n",
    "    book2 = Book(\"Data Science Handbook\", \"Jane Doe\")\n",
    "\n",
    "    # Print book details\n",
    "    print(book1)  # Output: Python Programming by John Smith\n",
    "\n",
    "    # Check out and check in books\n",
    "    book1.check_out()  # Output: Python Programming has been checked out.\n",
    "    book1.check_out()  # Output: Sorry, Python Programming is currently not available.\n",
    "    book1.check_in()   # Output: Thank you for returning Python Programming.\n",
    "    book2.check_out()  # Output: Data Science Handbook has been checked out.\n",
    "    book2.check_in()   # Output: Thank you for returning Data Science Handbook.\n"
   ]
  },
  {
   "attachments": {},
   "cell_type": "markdown",
   "metadata": {},
   "source": [
    "18. Explain how encapsulation enhances code reusability and modularity in Python programs.  "
   ]
  },
  {
   "attachments": {},
   "cell_type": "markdown",
   "metadata": {},
   "source": [
    "Encapsulation plays a crucial role in enhancing code reusability and modularity in Python programs. Here’s how encapsulation achieves these benefits:\n",
    "\n",
    "1. Promotes Abstraction:\n",
    "Encapsulation allows you to abstract away the implementation details of a class and expose only necessary functionalities through interfaces (methods). This abstraction hides the complexity of how data is stored and manipulated, allowing other parts of the code to interact with objects in a more intuitive and simplified manner. This simplification promotes code reuse because other modules or classes can utilize the encapsulated class without needing to understand its internal workings.\n",
    "\n",
    "2. Controls Access to Data:\n",
    "Encapsulation involves making attributes (data members) of a class private and providing controlled access to them through methods (getters and setters). This ensures that the internal state of objects is not directly accessible or modifiable from outside the class, reducing the risk of unintended modifications. By enforcing access through methods, you can implement validation, error checking, or additional logic to maintain data integrity, which enhances reliability and robustness.\n",
    "\n",
    "3. Facilitates Modular Design:\n",
    "Encapsulation encourages modular design by allowing you to break down complex systems into smaller, manageable units (classes). Each class encapsulates a specific set of functionalities and data, making it easier to understand, maintain, and extend. Modules or components built with encapsulated classes can be developed independently, tested separately, and reused in different parts of the application or even in other projects. This modular approach promotes code reuse and reduces dependencies between different parts of the program.\n",
    "\n",
    "4. Supports Polymorphism and Inheritance:\n",
    "Encapsulation is often coupled with concepts like polymorphism and inheritance, which further enhance code reusability. Polymorphism allows different classes to implement the same interface (methods) in different ways, promoting flexibility and extensibility. Inheritance allows subclasses to inherit attributes and methods from their parent classes, facilitating code reuse by leveraging existing implementations.\n",
    "\n",
    "5. Improves Maintenance and Scalability:\n",
    "Encapsulation improves code maintainability by localizing changes within the class where the data and related behaviors reside. Modifications to the internal implementation of a class (such as changing data structures or adding new methods) do not affect other parts of the program as long as the public interface remains unchanged. This isolation reduces the risk of introducing bugs and makes it easier to evolve the codebase over time, supporting scalability as the project grows.\n",
    "\n",
    "Example Scenario:\n",
    "Imagine a Python program for managing a university's student enrollment system. Encapsulation would be employed in classes such as Student, Course, and Enrollment. Each class encapsulates specific attributes (like student name, course details) and provides methods to interact with these attributes (such as get_student_name, enroll_student, etc.). This encapsulation ensures that the enrollment system remains modular, with clear boundaries between different components (students, courses, enrollment records), promoting code reusability and maintainability.\n",
    "\n",
    "In conclusion, encapsulation in Python fosters code reusability and modularity by promoting abstraction, controlling access to data, facilitating modular design, supporting polymorphism and inheritance, and improving maintenance and scalability. By encapsulating data and behaviors within classes and exposing controlled interfaces, developers can create more robust, flexible, and maintainable software systems"
   ]
  },
  {
   "attachments": {},
   "cell_type": "markdown",
   "metadata": {},
   "source": [
    "19. Describe the concept of information hiding in encapsulation. Why is it essential in software development? "
   ]
  },
  {
   "attachments": {},
   "cell_type": "markdown",
   "metadata": {},
   "source": [
    "Information hiding is a fundamental concept in encapsulation that refers to the practice of restricting direct access to certain components (such as attributes or methods) of an object, while exposing only a specified interface to interact with the object. This means that the internal details and implementation of an object's data and behavior are hidden from the outside world.\n",
    "\n",
    "Key Aspects of Information Hiding:\n",
    "Private Data Members:\n",
    "\n",
    "Attributes within a class can be marked as private, typically indicated by conventions (like prefixing with an underscore in Python) or using access modifiers (like private in languages such as Java or C++). This prevents direct access or modification of these attributes from outside the class.\n",
    "Controlled Access via Methods:\n",
    "\n",
    "Access to private attributes is provided through public methods (getters and setters), which enforce validation, logic, and constraints before allowing data to be read or modified. This ensures that the object's internal state remains consistent and valid.\n",
    "Encapsulation of Implementation Details:\n",
    "\n",
    "By hiding the internal implementation details behind a well-defined interface, information hiding allows developers to change or refactor the implementation without affecting code that uses the class. This promotes flexibility and maintenance.\n",
    "Importance of Information Hiding in Software Development:\n",
    "Enhanced Security and Robustness:\n",
    "\n",
    "Information hiding helps in protecting sensitive data from unintended or malicious modifications. By restricting access and controlling interactions through methods, it reduces the risk of data corruption or unauthorized access.\n",
    "Modularity and Code Reusability:\n",
    "\n",
    "Encapsulation with information hiding promotes modularity by clearly defining boundaries between different components of a system. Each class encapsulates its data and behavior, providing a reusable and self-contained module that can be easily"
   ]
  },
  {
   "attachments": {},
   "cell_type": "markdown",
   "metadata": {},
   "source": [
    "20.Create a Python class called Customer with private attributes for customer details like name, address and contact information.implement encapsulation to ensure data integrity and security?"
   ]
  },
  {
   "cell_type": "code",
   "execution_count": null,
   "metadata": {},
   "outputs": [],
   "source": [
    "class Customer:\n",
    "    def __init__(self, name, address, contact_info):\n",
    "        self.__name = name  # private attribute for name\n",
    "        self.__address = address  # private attribute for address\n",
    "        self.__contact_info = contact_info  # private attribute for contact information\n",
    "    \n",
    "    def get_name(self):\n",
    "        return self.__name\n",
    "    \n",
    "    def set_name(self, name):\n",
    "        self.__name = name\n",
    "    \n",
    "    def get_address(self):\n",
    "        return self.__address\n",
    "    \n",
    "    def set_address(self, address):\n",
    "        self.__address = address\n",
    "    \n",
    "    def get_contact_info(self):\n",
    "        return self.__contact_info\n",
    "    \n",
    "    def set_contact_info(self, contact_info):\n",
    "        self.__contact_info = contact_info\n",
    "\n",
    "# Example usage:\n",
    "if __name__ == \"__main__\":\n",
    "    # Creating a Customer object\n",
    "    customer1 = Customer(\"John Doe\", \"123 Main Street\", \"john.doe@example.com\")\n",
    "    \n",
    "    # Accessing and modifying private attributes using public methods\n",
    "    print(\"Customer Name:\", customer1.get_name())\n",
    "    print(\"Customer Address:\", customer1.get_address())\n",
    "    print(\"Customer Contact Info:\", customer1.get_contact_info())\n",
    "    \n",
    "    customer1.set_address(\"456 Elm Street\")\n",
    "    customer1.set_contact_info(\"john.doe@newemail.com\")\n",
    "    \n",
    "    print(\"Updated Customer Address:\", customer1.get_address())\n",
    "    print(\"Updated Customer Contact Info:\", customer1.get_contact_info())\n"
   ]
  },
  {
   "attachments": {},
   "cell_type": "markdown",
   "metadata": {},
   "source": [
    "POLYMORPHISM:"
   ]
  },
  {
   "attachments": {},
   "cell_type": "markdown",
   "metadata": {},
   "source": [
    "1. What is polymorphism in Python? Explain how it is related to object-oriented programming. "
   ]
  },
  {
   "attachments": {},
   "cell_type": "markdown",
   "metadata": {},
   "source": [
    "Polymorphism in Python, as in object-oriented programming (OOP) in general, refers to the ability of different objects to be treated as instances of a common superclass. It allows methods to be called on objects without knowing the specific class of the object. This concept promotes flexibility and reusability of code."
   ]
  },
  {
   "attachments": {},
   "cell_type": "markdown",
   "metadata": {},
   "source": [
    "Types of Polymorphism in Python:\n",
    "Method Overriding (Run-time Polymorphism):\n",
    "\n",
    "This occurs when a subclass provides a specific implementation of a method that is already provided by its superclass."
   ]
  },
  {
   "cell_type": "code",
   "execution_count": 1,
   "metadata": {},
   "outputs": [],
   "source": [
    "class Animal:\n",
    "    def sound(self):\n",
    "        print(\"Some sound\")\n",
    "\n",
    "class Dog(Animal):\n",
    "    def sound(self):\n",
    "        print(\"Bark\")\n",
    "\n",
    "class Cat(Animal):\n",
    "    def sound(self):\n",
    "        print(\"Meow\")\n"
   ]
  },
  {
   "attachments": {},
   "cell_type": "markdown",
   "metadata": {},
   "source": [
    "Operator Overloading:\n",
    "\n",
    "Python allows operators to be overloaded, meaning that the behavior of operators like +, -, *, etc., can be customized for objects of a class.\n"
   ]
  },
  {
   "cell_type": "code",
   "execution_count": 2,
   "metadata": {},
   "outputs": [],
   "source": [
    "class Point:\n",
    "    def __init__(self, x, y):\n",
    "        self.x = x\n",
    "        self.y = y\n",
    "\n",
    "    def __add__(self, other):\n",
    "        return Point(self.x + other.x, self.y + other.y)\n",
    "\n",
    "p1 = Point(1, 2)\n",
    "p2 = Point(3, 4)\n",
    "p3 = p1 + p2  # This calls p1.__add__(p2)\n"
   ]
  },
  {
   "attachments": {},
   "cell_type": "markdown",
   "metadata": {},
   "source": [
    "Duck Typing:\n",
    "\n",
    "This is a concept used in dynamic languages like Python where the type or class of an object is less important than the methods it defines."
   ]
  },
  {
   "cell_type": "code",
   "execution_count": 3,
   "metadata": {},
   "outputs": [
    {
     "name": "stdout",
     "output_type": "stream",
     "text": [
      "Quack\n",
      "Meow\n"
     ]
    }
   ],
   "source": [
    "class Duck:\n",
    "    def sound(self):\n",
    "        print(\"Quack\")\n",
    "\n",
    "class Cat:\n",
    "    def sound(self):\n",
    "        print(\"Meow\")\n",
    "\n",
    "def make_sound(animal):\n",
    "    animal.sound()\n",
    "\n",
    "duck = Duck()\n",
    "cat = Cat()\n",
    "\n",
    "make_sound(duck)  # Outputs: Quack\n",
    "make_sound(cat)   # Outputs: Meow\n"
   ]
  },
  {
   "attachments": {},
   "cell_type": "markdown",
   "metadata": {},
   "source": [
    "2. Describe the difference between compile-time polymorphism and runtime polymorphism in Python."
   ]
  },
  {
   "attachments": {},
   "cell_type": "markdown",
   "metadata": {},
   "source": [
    "Compile-Time Polymorphism:\n",
    "Compile-time polymorphism, also known as static polymorphism or early binding, typically involves method overloading and operator overloading:"
   ]
  },
  {
   "attachments": {},
   "cell_type": "markdown",
   "metadata": {},
   "source": [
    "Runtime polymorphism, also known as dynamic polymorphism or late binding, primarily involves method overriding:\n",
    "\n",
    "Method Overriding:\n",
    "Method overriding allows a subclass to provide a specific implementation of a method that is already provided by its superclass.\n",
    "The determination of which method to call is based on the object's actual type at runti"
   ]
  },
  {
   "attachments": {},
   "cell_type": "markdown",
   "metadata": {},
   "source": [
    "3.Create a Python class hierarchy for shapes (e.g., circle, square, triangle) and demonstrate polymorphism \n",
    " through a common method, such as `calculate_area()`."
   ]
  },
  {
   "cell_type": "code",
   "execution_count": 10,
   "metadata": {},
   "outputs": [
    {
     "name": "stdout",
     "output_type": "stream",
     "text": [
      "Circle\n",
      "Area:78.53981633974483\n",
      "n\\Square\n",
      "Area:8\n",
      "n\\Tringular\n",
      "Area:7.5\n"
     ]
    }
   ],
   "source": [
    "import math\n",
    "class Shapes:\n",
    "    def calculate_area(self):\n",
    "        pass\n",
    "class Circle(Shapes):\n",
    "    def __init__(self,radius):\n",
    "        self.radius=radius\n",
    "    def calculate_area(self):\n",
    "        return math.pi *self.radius**2\n",
    "    #square class subclass of shape\n",
    "class Square(Shapes):\n",
    "        def __init__(self,side_length):\n",
    "            self.side_length=side_length\n",
    "        def calculate_area(self,):\n",
    "            return self.side_length*2\n",
    "class Tringular(Shapes):\n",
    "    def __init__(self,base,height):\n",
    "        self.base=base\n",
    "        self.height=height\n",
    "    def calculate_area(self):\n",
    "        return 0.5*self.base*self.height\n",
    "#function to demonstrate polymorphism\n",
    "def print_area(Shapes):\n",
    "    print((f\"Area:{Shapes.calculate_area()}\"))\n",
    "#creating instances for different shapes\n",
    "circle=Circle(5)\n",
    "square=Square(4)\n",
    "tringular=Tringular(3, 5)\n",
    "#calling print area with different shapes\n",
    "print((\"Circle\"))\n",
    "print_area(circle)\n",
    "print(\"n\\Square\")\n",
    "print_area(square)\n",
    "print(\"n\\Tringular\")\n",
    "print_area(tringular)"
   ]
  },
  {
   "attachments": {},
   "cell_type": "markdown",
   "metadata": {},
   "source": [
    "4. Explain the concept of method overriding in polymorphism. Provide an example."
   ]
  },
  {
   "attachments": {},
   "cell_type": "markdown",
   "metadata": {},
   "source": [
    "Method overriding is a fundamental concept in object-oriented programming that allows a subclass to provide a specific implementation of a method that is already defined in its superclass. This enables the subclass to modify or extend the behavior of the method without changing the method's signature (name and parameters).\n",
    "\n",
    "Key Points about Method Overriding:\n",
    "Inheritance Requirement:\n",
    "\n",
    "Method overriding requires inheritance. The subclass must inherit from a superclass that defines the method to be overridden.\n",
    "Same Method Signature:\n",
    "\n",
    "The method in the subclass must have the same name, parameters, and return type as the method in the superclass that it overrides. However, in languages like Python, while the method signature must match, the return type can be different (Python allows more flexibility in return type).\n",
    "Purpose:\n",
    "\n",
    "Method overriding allows for the specialization of behavior. It enables subclasses to provide their own implementation of a method to suit their specific needs while still maintaining a common interface with the superclass."
   ]
  },
  {
   "cell_type": "code",
   "execution_count": 13,
   "metadata": {},
   "outputs": [
    {
     "name": "stdout",
     "output_type": "stream",
     "text": [
      "Bark\n",
      "MEOW\n"
     ]
    }
   ],
   "source": [
    "class Animal:\n",
    "    def sound(self):\n",
    "        print(\"some sound\")\n",
    "class Dog (Animal):\n",
    "    #override the sound metyhod from animal\n",
    "    def sound(self):\n",
    "        print(\"Bark\")\n",
    "#another derived class (subclass)\n",
    "class Cat(Animal):\n",
    "    #override the sound method from Animal\n",
    "    def sound(self):\n",
    "        print(\"MEOW\")\n",
    "#function to demonstrate polymorphism\n",
    "def make_sound(animal):\n",
    "    animal.sound()\n",
    "    #create instances of DOG and CAR\n",
    "dog=Dog()\n",
    "cat=Cat()\n",
    "#call the make_sound function with different instance\n",
    "make_sound((dog))\n",
    "make_sound(cat)"
   ]
  },
  {
   "attachments": {},
   "cell_type": "markdown",
   "metadata": {},
   "source": [
    "4. How is polymorphism different from method overloading in Python? Provide examples for both"
   ]
  },
  {
   "attachments": {},
   "cell_type": "markdown",
   "metadata": {},
   "source": [
    "#Polymorphism:\n",
    "Polymorphism refers to the ability of different objects to respond to the same method call in different ways. It allows methods to be implemented in various subclasses of a common superclass and provides a way to call these methods on objects without knowing their specific types at compile time. In Python, polymorphism is achieved primarily through method overriding."
   ]
  },
  {
   "cell_type": "code",
   "execution_count": 14,
   "metadata": {},
   "outputs": [
    {
     "name": "stdout",
     "output_type": "stream",
     "text": [
      "Woof!\n",
      "Meow!\n",
      "Moo!\n"
     ]
    }
   ],
   "source": [
    "class Animal:\n",
    "    def speak(self):\n",
    "        raise NotImplementedError(\"Subclass must implement abstract method\")\n",
    "\n",
    "class Dog(Animal):\n",
    "    def speak(self):\n",
    "        return \"Woof!\"\n",
    "\n",
    "class Cat(Animal):\n",
    "    def speak(self):\n",
    "        return \"Meow!\"\n",
    "\n",
    "class Cow(Animal):\n",
    "    def speak(self):\n",
    "        return \"Moo!\"\n",
    "\n",
    "# Function to demonstrate polymorphism\n",
    "def animal_speak(animal):\n",
    "    return animal.speak()\n",
    "\n",
    "# Creating instances of different animals\n",
    "dog = Dog()\n",
    "cat = Cat()\n",
    "cow = Cow()\n",
    "\n",
    "# Calling the function with different animal instances\n",
    "print(animal_speak(dog))  # Outputs: Woof!\n",
    "print(animal_speak(cat))  # Outputs: Meow!\n",
    "print(animal_speak(cow))  # Outputs: Moo!\n"
   ]
  },
  {
   "attachments": {},
   "cell_type": "markdown",
   "metadata": {},
   "source": [
    "Method Overloading:\n",
    "Method overloading refers to the ability to define multiple methods with the same name but with different parameters or argument types within the same class. It allows a class to have more than one method having the same name if their parameter lists are different. However, in Python, true method overloading (as seen in statically typed languages like Java or C++) is not directly supported due to its dynamic typing nature."
   ]
  },
  {
   "cell_type": "code",
   "execution_count": 16,
   "metadata": {},
   "outputs": [
    {
     "ename": "TypeError",
     "evalue": "MathOperation.add() missing 1 required positional argument: 'c'",
     "output_type": "error",
     "traceback": [
      "\u001b[1;31m---------------------------------------------------------------------------\u001b[0m",
      "\u001b[1;31mTypeError\u001b[0m                                 Traceback (most recent call last)",
      "Cell \u001b[1;32mIn[16], line 12\u001b[0m\n\u001b[0;32m      9\u001b[0m math_op \u001b[39m=\u001b[39m MathOperation()\n\u001b[0;32m     11\u001b[0m \u001b[39m# Calling the overloaded method\u001b[39;00m\n\u001b[1;32m---> 12\u001b[0m \u001b[39mprint\u001b[39m(math_op\u001b[39m.\u001b[39;49madd(\u001b[39m2\u001b[39;49m, \u001b[39m3\u001b[39;49m))       \u001b[39m# This would raise TypeError\u001b[39;00m\n",
      "\u001b[1;31mTypeError\u001b[0m: MathOperation.add() missing 1 required positional argument: 'c'"
     ]
    }
   ],
   "source": [
    "class MathOperation:\n",
    "    def add(self, a, b):\n",
    "        return a + b\n",
    "\n",
    "    def add(self, a, b, c):\n",
    "        return a + b + c\n",
    "\n",
    "# Creating an instance of MathOperation\n",
    "math_op = MathOperation()\n",
    "\n",
    "# Calling the overloaded method\n",
    "print(math_op.add(2, 3))       # This would raise TypeError"
   ]
  },
  {
   "cell_type": "code",
   "execution_count": null,
   "metadata": {},
   "outputs": [],
   "source": []
  },
  {
   "attachments": {},
   "cell_type": "markdown",
   "metadata": {},
   "source": [
    "6. Create a Python class called `Animal` with a method `speak()`. Then, create child classes like `Dog`, `Cat`, and `Bird`, each with their own `speak()` method. Demonstrate polymorphism by calling the `speak()` method\n",
    "on objects of different subclasses."
   ]
  },
  {
   "cell_type": "code",
   "execution_count": 25,
   "metadata": {},
   "outputs": [
    {
     "name": "stdout",
     "output_type": "stream",
     "text": [
      "WOoo\n",
      "None\n",
      "CHIRP\n",
      "None\n",
      "Meow\n",
      "None\n"
     ]
    }
   ],
   "source": [
    "class Animal:\n",
    "    def speak(self):\n",
    "        raise NotImplementedError(\"Subclass must implement the abstract method\")\n",
    "class Dog(Animal):\n",
    "    def speak(self):\n",
    "        print(\"WOoo\")\n",
    "class Cat(Animal):\n",
    "    def speak(self):\n",
    "        print(\"Meow\")\n",
    "class Bird(Animal):\n",
    "    def speak(self):\n",
    "        print(\"CHIRP\")\n",
    "def animal_speak(animal):\n",
    "    if isinstance(animal,Animal):\n",
    "        return animal.speak()\n",
    "    raise TypeError(\"Expected an object of type Animal or its subclass\")\n",
    "dog=Dog()\n",
    "cat=Cat()\n",
    "bird=Bird()\n",
    "print(animal_speak(dog))\n",
    "print(animal_speak(bird))\n",
    "print(animal_speak(cat))"
   ]
  },
  {
   "attachments": {},
   "cell_type": "markdown",
   "metadata": {},
   "source": [
    "7. Discuss the use of abstract methods and classes in achieving polymorphism in Python. Provide an example\n",
    "using the `abc` module"
   ]
  },
  {
   "attachments": {},
   "cell_type": "markdown",
   "metadata": {},
   "source": [
    "In Python, abstract methods and abstract classes play a significant role in achieving polymorphism by providing a way to define a common interface that subclasses must implement. This ensures that objects of different subclasses can be treated uniformly through the use of polymorphism.\n",
    "\n",
    "Abstract Methods and Abstract Classes:\n",
    "Abstract Method:\n",
    "An abstract method is a method defined in a base class but lacks implementation. It serves as a placeholder and must be overridden by any subclass that inherits from the base class.\n",
    "Abstract Class:\n",
    "An abstract class is a class that contains one or more abstract methods. It cannot be instantiated directly; instead, it serves as a blueprint for other classes that inherit from it. Subclasses of an abstract class must provide implementations for all abstract methods.\n",
    "Achieving Polymorphism with Abstract Classes:\n",
    "By defining abstract methods in an abstract class, we can enforce that all subclasses implement those methods. This allows different objects (instances of different subclasses) to be used interchangeably through polymorphism, as they all conform to the same interface.\n",
    "\n",
    "Example Using abc Module:\n",
    "Python's abc module provides tools for defining abstract base classes. Let's create an example to illustrate how abstract classes and methods achieve polymorphism:"
   ]
  },
  {
   "cell_type": "code",
   "execution_count": 28,
   "metadata": {},
   "outputs": [
    {
     "name": "stdout",
     "output_type": "stream",
     "text": [
      "woof\n",
      "Meow!\n",
      "Chirp!\n"
     ]
    }
   ],
   "source": [
    "from abc import ABC,abstractmethod\n",
    "#abstract base class\n",
    "class Animal(ABC):\n",
    "    @abstractmethod\n",
    "    def speak(self):\n",
    "        pass\n",
    "#concreate subclasses implementing animal\n",
    "class Dog(Animal):\n",
    "    def speak(self):\n",
    "        return \"woof\"\n",
    "class Cat(Animal):\n",
    "    def speak(self):\n",
    "        return \"Meow!\"\n",
    "\n",
    "class Bird(Animal):\n",
    "    def speak(self):\n",
    "        return \"Chirp!\"\n",
    "\n",
    "# Function to demonstrate polymorphism\n",
    "def animal_speak(animal):\n",
    "    return animal.speak()\n",
    "\n",
    "# Creating instances of different animals\n",
    "dog = Dog()\n",
    "cat = Cat()\n",
    "bird = Bird()\n",
    "\n",
    "# Calling the speak() method on different animal instances\n",
    "print(animal_speak(dog))   # Outputs: Woof!\n",
    "print(animal_speak(cat))   # Outputs: Meow!\n",
    "print(animal_speak(bird))  # Outputs: Chirp!\n",
    "    "
   ]
  },
  {
   "attachments": {},
   "cell_type": "markdown",
   "metadata": {},
   "source": [
    "8. Create a Python class hierarchy for a vehicle system (e.g., car, bicycle, boat) and implement a polymorphic `start()` method that prints a message specific to each vehicle type."
   ]
  },
  {
   "cell_type": "code",
   "execution_count": 32,
   "metadata": {},
   "outputs": [
    {
     "name": "stdout",
     "output_type": "stream",
     "text": [
      "Car starting engine...\n",
      "Bicycle pedaling away...\n",
      "Boat powering up engine...\n"
     ]
    }
   ],
   "source": [
    "# Base class: Vehicle\n",
    "class Vehicle:\n",
    "    def start(self):\n",
    "        raise NotImplementedError(\"Subclass must implement abstract method\")\n",
    "\n",
    "# Derived class: Car\n",
    "class Car(Vehicle):\n",
    "    def start(self):\n",
    "        return \"Car starting engine...\"\n",
    "\n",
    "# Derived class: Bicycle\n",
    "class Bicycle(Vehicle):\n",
    "    def start(self):\n",
    "        return \"Bicycle pedaling away...\"\n",
    "\n",
    "# Derived class: Boat\n",
    "class Boat(Vehicle):\n",
    "    def start(self):\n",
    "        return \"Boat powering up engine...\"\n",
    "\n",
    "# Function to demonstrate polymorphism\n",
    "def start_vehicle(vehicle):\n",
    "    if isinstance(vehicle, Vehicle):\n",
    "        return vehicle.start()\n",
    "    else:\n",
    "        raise TypeError(\"Expected an object of type Vehicle or its subclass\")\n",
    "\n",
    "# Creating instances of different vehicles\n",
    "car = Car()\n",
    "bicycle = Bicycle()\n",
    "boat = Boat()\n",
    "\n",
    "# Calling the start() method on different vehicle instances\n",
    "print(start_vehicle(car))       # Outputs: Car starting engine...\n",
    "print(start_vehicle(bicycle))   # Outputs: Bicycle pedaling away...\n",
    "print(start_vehicle(boat))      # Outputs: Boat powering up engine...\n"
   ]
  },
  {
   "attachments": {},
   "cell_type": "markdown",
   "metadata": {},
   "source": [
    "9. Explain the significance of the `isinstance()` and `issubclass()` functions in Python polymorphism."
   ]
  },
  {
   "attachments": {},
   "cell_type": "markdown",
   "metadata": {},
   "source": [
    "In Python, the functions isinstance() and issubclass() play crucial roles in supporting and leveraging polymorphism effectively. Here's an explanation of each function and their significance in the context of polymorphism:\n",
    "\n",
    "1. isinstance()\n",
    "The isinstance() function checks if an object is an instance of a particular class or subclass. Its "
   ]
  },
  {
   "cell_type": "code",
   "execution_count": 36,
   "metadata": {},
   "outputs": [],
   "source": [
    "#isinstance(object, classinfo)\n"
   ]
  },
  {
   "cell_type": "code",
   "execution_count": 37,
   "metadata": {},
   "outputs": [
    {
     "name": "stdout",
     "output_type": "stream",
     "text": [
      "True\n",
      "True\n",
      "True\n",
      "True\n",
      "False\n"
     ]
    }
   ],
   "source": [
    "class Animal:\n",
    "    pass\n",
    "\n",
    "class Dog(Animal):\n",
    "    pass\n",
    "\n",
    "class Cat(Animal):\n",
    "    pass\n",
    "\n",
    "dog = Dog()\n",
    "cat = Cat()\n",
    "\n",
    "print(isinstance(dog, Dog))      # True\n",
    "print(isinstance(cat, Cat))      # True\n",
    "print(isinstance(dog, Animal))   # True, since Dog is a subclass of Animal\n",
    "print(isinstance(cat, Animal))   # True, since Cat is a subclass of Animal\n",
    "print(isinstance(cat, Dog))      # False, since cat is not an instance of Dog\n"
   ]
  },
  {
   "cell_type": "code",
   "execution_count": 38,
   "metadata": {},
   "outputs": [],
   "source": [
    "#issubclass(class, classinfo)\n"
   ]
  },
  {
   "cell_type": "code",
   "execution_count": 39,
   "metadata": {},
   "outputs": [
    {
     "name": "stdout",
     "output_type": "stream",
     "text": [
      "True\n",
      "True\n",
      "True\n",
      "False\n"
     ]
    }
   ],
   "source": [
    "class Animal:\n",
    "    pass\n",
    "\n",
    "class Dog(Animal):\n",
    "    pass\n",
    "\n",
    "class Cat(Animal):\n",
    "    pass\n",
    "\n",
    "print(issubclass(Dog, Animal))   # True, since Dog is a subclass of Animal\n",
    "print(issubclass(Cat, Animal))   # True, since Cat is a subclass of Animal\n",
    "print(issubclass(Animal, object)) # True, since all classes in Python inherit from object\n",
    "print(issubclass(Dog, Cat))      # False, since Dog and Cat are not related in terms of inheritance\n"
   ]
  },
  {
   "attachments": {},
   "cell_type": "markdown",
   "metadata": {},
   "source": [
    "10. What is the role of the `@abstractmethod` decorator in achieving polymorphism in Python? Provide an\n",
    "example."
   ]
  },
  {
   "attachments": {},
   "cell_type": "markdown",
   "metadata": {},
   "source": [
    "In Python, the @abstractmethod decorator, provided by the abc (Abstract Base Classes) module, plays a crucial role in achieving polymorphism by defining abstract methods that must be implemented by subclasses. Here's an explanation of its role and an example to illustrate how it facilitates polymorphism:\n",
    "\n",
    "Role of @abstractmethod:\n",
    "Abstract Methods: An abstract method is a method defined in a base class but without any implementation. It acts as a placeholder that must be overridden by any subclass inheriting from the base class.\n",
    "\n",
    "Enforcement: By marking a method with @abstractmethod, Python ensures that any subclass of the base class must provide an implementation for that method. This ensures that all subclasses adhere to a common interface, enabling polymorphic behavior where objects of different types can be treated uniformly through the base class.\n",
    "\n",
    "Example Using @abstractmethod:\n",
    "Let's create an example of a shape hierarchy where Shape is an abstract base class with an abstract method calculate_area(). Subclasses such as Circle, Square, and Triangle will implement their specific versions of calculate_area()"
   ]
  },
  {
   "cell_type": "code",
   "execution_count": 40,
   "metadata": {},
   "outputs": [
    {
     "name": "stdout",
     "output_type": "stream",
     "text": [
      "Circle:\n",
      "Area: 78.53981633974483\n",
      "\n",
      "Square:\n",
      "Area: 16\n",
      "\n",
      "Triangle:\n",
      "Area: 9.0\n"
     ]
    }
   ],
   "source": [
    "from abc import ABC, abstractmethod\n",
    "import math\n",
    "\n",
    "# Abstract base class: Shape\n",
    "class Shape(ABC):\n",
    "    @abstractmethod\n",
    "    def calculate_area(self):\n",
    "        pass\n",
    "\n",
    "# Concrete subclass: Circle\n",
    "class Circle(Shape):\n",
    "    def __init__(self, radius):\n",
    "        self.radius = radius\n",
    "\n",
    "    def calculate_area(self):\n",
    "        return math.pi * self.radius ** 2\n",
    "\n",
    "# Concrete subclass: Square\n",
    "class Square(Shape):\n",
    "    def __init__(self, side_length):\n",
    "        self.side_length = side_length\n",
    "\n",
    "    def calculate_area(self):\n",
    "        return self.side_length ** 2\n",
    "\n",
    "# Concrete subclass: Triangle\n",
    "class Triangle(Shape):\n",
    "    def __init__(self, base, height):\n",
    "        self.base = base\n",
    "        self.height = height\n",
    "\n",
    "    def calculate_area(self):\n",
    "        return 0.5 * self.base * self.height\n",
    "\n",
    "# Function to demonstrate polymorphism\n",
    "def print_area(shape):\n",
    "    if isinstance(shape, Shape):  # Checking if shape is an instance of Shape or its subclass\n",
    "        print(f\"Area: {shape.calculate_area()}\")\n",
    "    else:\n",
    "        raise TypeError(\"Expected an object of type Shape or its subclass\")\n",
    "\n",
    "# Creating instances of different shapes\n",
    "circle = Circle(5)\n",
    "square = Square(4)\n",
    "triangle = Triangle(3, 6)\n",
    "\n",
    "# Calling print_area with different shapes\n",
    "print(\"Circle:\")\n",
    "print_area(circle)\n",
    "\n",
    "print(\"\\nSquare:\")\n",
    "print_area(square)\n",
    "\n",
    "print(\"\\nTriangle:\")\n",
    "print_area(triangle)\n"
   ]
  },
  {
   "attachments": {},
   "cell_type": "markdown",
   "metadata": {},
   "source": [
    "11. Create a Python class called `Shape` with a polymorphic method `area()` that calculates the area of different shapes (e.g., circle, rectangle, triangle)"
   ]
  },
  {
   "cell_type": "code",
   "execution_count": 41,
   "metadata": {},
   "outputs": [
    {
     "name": "stdout",
     "output_type": "stream",
     "text": [
      "Circle:\n",
      "Area: 78.53981633974483\n",
      "\n",
      "Rectangle:\n",
      "Area: 24\n",
      "\n",
      "Triangle:\n",
      "Area: 9.0\n"
     ]
    }
   ],
   "source": [
    "import math\n",
    "\n",
    "# Base class: Shape\n",
    "class Shape:\n",
    "    def area(self):\n",
    "        raise NotImplementedError(\"Subclass must implement abstract method\")\n",
    "\n",
    "# Subclass: Circle\n",
    "class Circle(Shape):\n",
    "    def __init__(self, radius):\n",
    "        self.radius = radius\n",
    "\n",
    "    def area(self):\n",
    "        return math.pi * self.radius ** 2\n",
    "\n",
    "# Subclass: Rectangle\n",
    "class Rectangle(Shape):\n",
    "    def __init__(self, length, width):\n",
    "        self.length = length\n",
    "        self.width = width\n",
    "\n",
    "    def area(self):\n",
    "        return self.length * self.width\n",
    "\n",
    "# Subclass: Triangle\n",
    "class Triangle(Shape):\n",
    "    def __init__(self, base, height):\n",
    "        self.base = base\n",
    "        self.height = height\n",
    "\n",
    "    def area(self):\n",
    "        return 0.5 * self.base * self.height\n",
    "\n",
    "# Function to demonstrate polymorphism\n",
    "def print_area(shape):\n",
    "    if isinstance(shape, Shape):  # Checking if shape is an instance of Shape or its subclass\n",
    "        print(f\"Area: {shape.area()}\")\n",
    "    else:\n",
    "        raise TypeError(\"Expected an object of type Shape or its subclass\")\n",
    "\n",
    "# Creating instances of different shapes\n",
    "circle = Circle(5)\n",
    "rectangle = Rectangle(4, 6)\n",
    "triangle = Triangle(3, 6)\n",
    "\n",
    "# Calling print_area with different shapes\n",
    "print(\"Circle:\")\n",
    "print_area(circle)\n",
    "\n",
    "print(\"\\nRectangle:\")\n",
    "print_area(rectangle)\n",
    "\n",
    "print(\"\\nTriangle:\")\n",
    "print_area(triangle)\n"
   ]
  },
  {
   "attachments": {},
   "cell_type": "markdown",
   "metadata": {},
   "source": [
    "12. Discuss the benefits of polymorphism in terms of code reusability and flexibility in Python programs."
   ]
  },
  {
   "attachments": {},
   "cell_type": "markdown",
   "metadata": {},
   "source": [
    "Polymorphism in Python offers several significant benefits in terms of code reusability and flexibility, making it a powerful feature of object-oriented programming. Here are the key advantages:\n",
    "\n",
    "1. Code Reusability:\n",
    "Interface Uniformity: Polymorphism allows objects of different classes to be treated as instances of a common superclass. This promotes uniformity in the interface, enabling code that operates on the superclass to be reused with any subclass implementations.\n",
    "\n",
    "Reduced Duplication: By defining common behaviors in a superclass and allowing subclasses to provide specific implementations, polymorphism reduces the need for duplicated code. This avoids redundant implementations across similar classes.\n",
    "\n",
    "Modular Design: Polymorphism encourages modular design principles. Classes can focus on specific functionalities (e.g., Shape superclass with area() method) while subclasses (Circle, Rectangle, Triangle) provide tailored implementations. This modular approach enhances maintainability and scalability.\n",
    "\n",
    "2. Flexibility:\n",
    "Dynamic Binding: Polymorphism allows methods to be invoked on objects without knowing their exact types at compile time. The appropriate method implementation is determined dynamically at runtime based on the actual object type.\n",
    "\n",
    "Extensibility: New subclasses can be added easily without modifying existing code. They inherit behaviors from the superclass and can override methods as needed to extend or modify functionality. This promotes flexible and adaptive codebases.\n",
    "\n",
    "Interchangeability: Polymorphism enables objects of different types to be used interchangeably wherever their common superclass is expected. This facilitates robust and flexible application design, allowing components to interact seamlessly based on shared interfaces."
   ]
  },
  {
   "cell_type": "code",
   "execution_count": 42,
   "metadata": {},
   "outputs": [
    {
     "name": "stdout",
     "output_type": "stream",
     "text": [
      "Area: 78.5\n",
      "Area: 24\n"
     ]
    }
   ],
   "source": [
    "class Shape:\n",
    "    def calculate_area(self):\n",
    "        raise NotImplementedError(\"Subclass must implement abstract method\")\n",
    "\n",
    "class Circle(Shape):\n",
    "    def __init__(self, radius):\n",
    "        self.radius = radius\n",
    "    \n",
    "    def calculate_area(self):\n",
    "        return 3.14 * self.radius * self.radius\n",
    "\n",
    "class Rectangle(Shape):\n",
    "    def __init__(self, width, height):\n",
    "        self.width = width\n",
    "        self.height = height\n",
    "    \n",
    "    def calculate_area(self):\n",
    "        return self.width * self.height\n",
    "\n",
    "def print_area(shape):\n",
    "    if isinstance(shape, Shape):\n",
    "        print(f\"Area: {shape.calculate_area()}\")\n",
    "    else:\n",
    "        raise TypeError(\"Expected an object of type Shape or its subclass\")\n",
    "\n",
    "circle = Circle(5)\n",
    "rectangle = Rectangle(4, 6)\n",
    "\n",
    "print_area(circle)      # Outputs: Area: 78.5\n",
    "print_area(rectangle)   # Outputs: Area: 24\n"
   ]
  },
  {
   "attachments": {},
   "cell_type": "markdown",
   "metadata": {},
   "source": [
    "13. Explain the use of the `super()` function in Python polymorphism. How does it help call methods of parent\n",
    "classes?"
   ]
  },
  {
   "attachments": {},
   "cell_type": "markdown",
   "metadata": {},
   "source": [
    "In Python, the super() function plays a crucial role in achieving polymorphism by allowing access to methods and properties of a parent class from within a subclass. Here’s an explanation of how super() works and how it facilitates method calls in the context of polymorphism:\n",
    "\n",
    "Understanding super() Function:\n",
    "Syntax: super()\n",
    "Usage: super() returns a proxy object that delegates method calls to the parent or sibling class of the current object.\n",
    "Purpose: It provides a way to invoke methods from a superclass, enabling method overriding and facilitating the cooperative method calls in multiple inheritance scenarios.\n",
    "Benefits and Usage in Polymorphism:\n",
    "Calling Parent Class Methods:\n",
    "\n",
    "When a subclass overrides a method from its superclass, super() can be used to call the overridden method from the superclass.\n",
    "This allows subclasses to extend or modify the behavior of methods defined in the superclass while retaining the original functionality.\n",
    "Method Resolution Order (MRO):\n",
    "\n",
    "super() respects the Method Resolution Order (MRO) defined by Python, which determines the sequence in which methods are resolved in multiple inheritance scenarios.\n",
    "It ensures that method calls via super() are resolved correctly according to the inheritance hierarchy."
   ]
  },
  {
   "cell_type": "code",
   "execution_count": 43,
   "metadata": {},
   "outputs": [
    {
     "name": "stdout",
     "output_type": "stream",
     "text": [
      "Animal speaks\n",
      "Dog barks\n",
      "Animal speaks\n",
      "Cat meows\n"
     ]
    }
   ],
   "source": [
    "class Animal:\n",
    "    def speak(self):\n",
    "        print(\"Animal speaks\")\n",
    "\n",
    "class Dog(Animal):\n",
    "    def speak(self):\n",
    "        super().speak()  # Calls speak() method of the parent class (Animal)\n",
    "        print(\"Dog barks\")\n",
    "\n",
    "class Cat(Animal):\n",
    "    def speak(self):\n",
    "        super().speak()  # Calls speak() method of the parent class (Animal)\n",
    "        print(\"Cat meows\")\n",
    "\n",
    "# Creating instances\n",
    "dog = Dog()\n",
    "cat = Cat()\n",
    "\n",
    "# Calling speak() method on instances\n",
    "dog.speak()\n",
    "cat.speak()\n"
   ]
  },
  {
   "attachments": {},
   "cell_type": "markdown",
   "metadata": {},
   "source": [
    "14. Create a Python class hierarchy for a banking system with various account types (e.g., savings, checking, credit card) and demonstrate polymorphism by implementing a common `withdraw()` method."
   ]
  },
  {
   "cell_type": "code",
   "execution_count": 46,
   "metadata": {},
   "outputs": [
    {
     "name": "stdout",
     "output_type": "stream",
     "text": [
      "Savings Account:\n",
      "Withdrawal of $500 from savings account successful. Remaining balance: $500\n",
      "Insufficient funds in savings account\n",
      "\n",
      "Checking Account:\n",
      "Withdrawal of $1000 from checking account successful. Remaining balance: $1000\n",
      "Insufficient funds in checking account\n",
      "\n",
      "Credit Card Account:\n",
      "Withdrawal of $2000 from credit card successful. Remaining credit limit: $3000\n",
      "Credit limit exceeded. Cannot withdraw more than available credit.\n"
     ]
    }
   ],
   "source": [
    "# Base class: BankAccount\n",
    "class BankAccount:\n",
    "    def __init__(self, account_number, balance):\n",
    "        self.account_number = account_number\n",
    "        self.balance = balance\n",
    "\n",
    "    def withdraw(self, amount):\n",
    "        raise NotImplementedError(\"Subclass must implement abstract method\")\n",
    "\n",
    "# Subclass: SavingsAccount\n",
    "class SavingsAccount(BankAccount):\n",
    "    def withdraw(self, amount):\n",
    "        if amount > self.balance:\n",
    "            print(\"Insufficient funds in savings account\")\n",
    "        else:\n",
    "            self.balance -= amount\n",
    "            print(f\"Withdrawal of ${amount} from savings account successful. Remaining balance: ${self.balance}\")\n",
    "\n",
    "# Subclass: CheckingAccount\n",
    "class CheckingAccount(BankAccount):\n",
    "    def withdraw(self, amount):\n",
    "        if amount > self.balance:\n",
    "            print(\"Insufficient funds in checking account\")\n",
    "        else:\n",
    "            self.balance -= amount\n",
    "            print(f\"Withdrawal of ${amount} from checking account successful. Remaining balance: ${self.balance}\")\n",
    "\n",
    "# Subclass: CreditCardAccount\n",
    "class CreditCardAccount(BankAccount):\n",
    "    def withdraw(self, amount):\n",
    "        # For credit card, you can always withdraw up to the credit limit\n",
    "        if amount > self.balance:\n",
    "            print(\"Credit limit exceeded. Cannot withdraw more than available credit.\")\n",
    "        else:\n",
    "            self.balance -= amount\n",
    "            print(f\"Withdrawal of ${amount} from credit card successful. Remaining credit limit: ${self.balance}\")\n",
    "\n",
    "# Function to demonstrate polymorphism\n",
    "def perform_withdraw(account, amount):\n",
    "    if isinstance(account, BankAccount):\n",
    "        account.withdraw(amount)\n",
    "    else:\n",
    "        raise TypeError(\"Expected an object of type BankAccount or its subclass\")\n",
    "\n",
    "# Creating instances of different account types\n",
    "savings_account = SavingsAccount(\"SA001\", 1000)\n",
    "checking_account = CheckingAccount(\"CA001\", 2000)\n",
    "credit_card_account = CreditCardAccount(\"CC001\", 5000)\n",
    "\n",
    "# Performing withdrawals\n",
    "print(\"Savings Account:\")\n",
    "perform_withdraw(savings_account, 500)\n",
    "perform_withdraw(savings_account, 1500)\n",
    "\n",
    "print(\"\\nChecking Account:\")\n",
    "perform_withdraw(checking_account, 1000)\n",
    "perform_withdraw(checking_account, 2500)\n",
    "\n",
    "print(\"\\nCredit Card Account:\")\n",
    "perform_withdraw(credit_card_account, 2000)\n",
    "perform_withdraw(credit_card_account, 6000)"
   ]
  },
  {
   "attachments": {},
   "cell_type": "markdown",
   "metadata": {},
   "source": [
    "15. Describe the concept of operator overloading in Python and how it relates to polymorphism. Provide\n",
    "examples using operators like `+` and `*`."
   ]
  },
  {
   "attachments": {},
   "cell_type": "markdown",
   "metadata": {},
   "source": [
    "Operator overloading in Python refers to the ability to define how operators behave for custom objects. This allows you to use standard Python operators such as +, -, *, /, ==, !=, etc., with objects of user-defined classes. Operator overloading is closely related to polymorphism in the sense that it enables different objects to respond to operators in a way that is appropriate for their context, thereby achieving polymorphic behavior.\n",
    "\n",
    "Concept of Operator Overloading:\n",
    "Custom Behavior: By overloading operators, you can define custom behavior for your objects when these operators are used with instances of your classes.\n",
    "\n",
    "Special Methods: Operator overloading is implemented using special methods, also known as magic methods or dunder methods, which are prefixed and suffixed with double underscores (__). For example, __add__ for +, __mul__ for *, __eq__ for ==, etc.\n",
    "\n",
    "Polymorphic Nature: Through operator overloading, different objects can interpret the same operator in different ways, based on their specific implementation of the corresponding special method. This flexibility allows for polymorphic behavior where the same operator can perform different actions depending on the operands."
   ]
  },
  {
   "cell_type": "code",
   "execution_count": 47,
   "metadata": {},
   "outputs": [
    {
     "name": "stdout",
     "output_type": "stream",
     "text": [
      "Result of vector addition: (3, 7)\n"
     ]
    }
   ],
   "source": [
    "class Vector:\n",
    "    def __init__(self, x, y):\n",
    "        self.x = x\n",
    "        self.y = y\n",
    "    \n",
    "    # Overloading the + operator\n",
    "    def __add__(self, other):\n",
    "        return Vector(self.x + other.x, self.y + other.y)\n",
    "    \n",
    "    def __str__(self):\n",
    "        return f\"({self.x}, {self.y})\"\n",
    "\n",
    "# Creating instances of Vector\n",
    "v1 = Vector(2, 4)\n",
    "v2 = Vector(1, 3)\n",
    "\n",
    "# Adding vectors using overloaded +\n",
    "result = v1 + v2\n",
    "print(\"Result of vector addition:\", result)  # Outputs: Result of vector addition: (3, 7)\n"
   ]
  },
  {
   "attachments": {},
   "cell_type": "markdown",
   "metadata": {},
   "source": [
    "Multiplying a Vector by a Scalar (* Operator)"
   ]
  },
  {
   "cell_type": "code",
   "execution_count": 48,
   "metadata": {},
   "outputs": [
    {
     "name": "stdout",
     "output_type": "stream",
     "text": [
      "Result of scalar multiplication: (6, 10)\n"
     ]
    }
   ],
   "source": [
    "class Vector:\n",
    "    def __init__(self, x, y):\n",
    "        self.x = x\n",
    "        self.y = y\n",
    "    \n",
    "    # Overloading the * operator for scalar multiplication\n",
    "    def __mul__(self, scalar):\n",
    "        return Vector(self.x * scalar, self.y * scalar)\n",
    "    \n",
    "    def __str__(self):\n",
    "        return f\"({self.x}, {self.y})\"\n",
    "\n",
    "# Creating an instance of Vector\n",
    "v = Vector(3, 5)\n",
    "\n",
    "# Multiplying vector by scalar using overloaded *\n",
    "result = v * 2\n",
    "print(\"Result of scalar multiplication:\", result)  # Outputs: Result of scalar multiplication: (6, 10)\n"
   ]
  },
  {
   "attachments": {},
   "cell_type": "markdown",
   "metadata": {},
   "source": [
    "16. What is dynamic polymorphism, and how is it achieved in Python?"
   ]
  },
  {
   "attachments": {},
   "cell_type": "markdown",
   "metadata": {},
   "source": [
    "Dynamic polymorphism, also known as runtime polymorphism, is the ability of a programming language to invoke methods dynamically at runtime based on the type of an object. It allows different classes to provide their own implementation of methods that are defined in their common superclass or interface. In Python, dynamic polymorphism is achieved primarily through method overriding and the use of inheritance and method resolution order (MRO).\n",
    "\n",
    "Achieving Dynamic Polymorphism in Python:\n",
    "Method Overriding:\n",
    "\n",
    "Method overriding is the process of redefining a method in a subclass that is already defined in its superclass. When a method is called on an object of the subclass, Python resolves the method call dynamically at runtime based on the actual type of the object.\n",
    "Python achieves method overriding by defining a method in the subclass with the same name and signature as a method in the superclass.\n",
    "Inheritance and Method Resolution Order (MRO):\n",
    "\n",
    "Python supports single inheritance, multiple inheritance, and method resolution order. When a method is called on an object, Python searches for the method definition in the object's class, then in its parent classes (superclasses), following the MRO.\n",
    "This dynamic lookup allows objects of different types to invoke methods that exhibit polymorphic behavior, where each subclass can provide its own implementation of a method inherited from a superclass."
   ]
  },
  {
   "cell_type": "code",
   "execution_count": 49,
   "metadata": {},
   "outputs": [
    {
     "name": "stdout",
     "output_type": "stream",
     "text": [
      "Animal speaks\n",
      "Dog barks\n",
      "Cat meows\n"
     ]
    }
   ],
   "source": [
    "class Animal:\n",
    "    def speak(self):\n",
    "        print(\"Animal speaks\")\n",
    "\n",
    "class Dog(Animal):\n",
    "    def speak(self):\n",
    "        print(\"Dog barks\")\n",
    "\n",
    "class Cat(Animal):\n",
    "    def speak(self):\n",
    "        print(\"Cat meows\")\n",
    "\n",
    "# Dynamic polymorphism example\n",
    "def make_sound(animal):\n",
    "    animal.speak()  # The speak method is resolved dynamically based on the object type\n",
    "\n",
    "# Creating instances\n",
    "animal = Animal()\n",
    "dog = Dog()\n",
    "cat = Cat()\n",
    "\n",
    "# Calling make_sound with different objects\n",
    "make_sound(animal)  # Outputs: Animal speaks\n",
    "make_sound(dog)     # Outputs: Dog barks\n",
    "make_sound(cat)     # Outputs: Cat meows\n"
   ]
  },
  {
   "attachments": {},
   "cell_type": "markdown",
   "metadata": {},
   "source": [
    "17. Create a Python class hierarchy for employees in a company (e.g., manager, developer, designer) and implement polymorphism through a common `calculate_salary()` method."
   ]
  },
  {
   "attachments": {},
   "cell_type": "markdown",
   "metadata": {},
   "source": [
    "to demonstrate polymorphism through a common calculate_salary() method in a Python class hierarchy for employees in a company (e.g., manager, developer, designer), we can create a base class Employee with subclasses for each type of employee. Each subclass will override the calculate_salary() method to calculate the salary specific to that type of employee."
   ]
  },
  {
   "cell_type": "code",
   "execution_count": 50,
   "metadata": {},
   "outputs": [
    {
     "name": "stdout",
     "output_type": "stream",
     "text": [
      "Manager:\n",
      "Employee ID: 101, Name: John Doe, Salary: $100000\n",
      "\n",
      "Developer:\n",
      "Employee ID: 201, Name: Jane Smith, Salary: $8000\n",
      "\n",
      "Designer:\n",
      "Employee ID: 301, Name: Mike Johnson, Salary: $92000.0\n"
     ]
    }
   ],
   "source": [
    "# Base class: Employee\n",
    "class Employee:\n",
    "    def __init__(self, emp_id, name):\n",
    "        self.emp_id = emp_id\n",
    "        self.name = name\n",
    "    \n",
    "    def calculate_salary(self):\n",
    "        raise NotImplementedError(\"Subclass must implement abstract method\")\n",
    "\n",
    "# Subclass: Manager\n",
    "class Manager(Employee):\n",
    "    def __init__(self, emp_id, name, salary):\n",
    "        super().__init__(emp_id, name)\n",
    "        self.salary = salary\n",
    "    \n",
    "    def calculate_salary(self):\n",
    "        return self.salary\n",
    "\n",
    "# Subclass: Developer\n",
    "class Developer(Employee):\n",
    "    def __init__(self, emp_id, name, hours_worked, rate_per_hour):\n",
    "        super().__init__(emp_id, name)\n",
    "        self.hours_worked = hours_worked\n",
    "        self.rate_per_hour = rate_per_hour\n",
    "    \n",
    "    def calculate_salary(self):\n",
    "        return self.hours_worked * self.rate_per_hour\n",
    "\n",
    "# Subclass: Designer\n",
    "class Designer(Employee):\n",
    "    def __init__(self, emp_id, name, base_salary, commission_percentage):\n",
    "        super().__init__(emp_id, name)\n",
    "        self.base_salary = base_salary\n",
    "        self.commission_percentage = commission_percentage\n",
    "    \n",
    "    def calculate_salary(self):\n",
    "        return self.base_salary + (self.base_salary * self.commission_percentage / 100)\n",
    "\n",
    "# Function to demonstrate polymorphism\n",
    "def print_salary(employee):\n",
    "    if isinstance(employee, Employee):\n",
    "        salary = employee.calculate_salary()\n",
    "        print(f\"Employee ID: {employee.emp_id}, Name: {employee.name}, Salary: ${salary}\")\n",
    "    else:\n",
    "        raise TypeError(\"Expected an object of type Employee or its subclass\")\n",
    "\n",
    "# Creating instances of different employee types\n",
    "manager = Manager(101, \"John Doe\", 100000)\n",
    "developer = Developer(201, \"Jane Smith\", 160, 50)\n",
    "designer = Designer(301, \"Mike Johnson\", 80000, 15)\n",
    "\n",
    "# Calling print_salary with different employee types\n",
    "print(\"Manager:\")\n",
    "print_salary(manager)\n",
    "\n",
    "print(\"\\nDeveloper:\")\n",
    "print_salary(developer)\n",
    "\n",
    "print(\"\\nDesigner:\")\n",
    "print_salary(designer)\n"
   ]
  },
  {
   "attachments": {},
   "cell_type": "markdown",
   "metadata": {},
   "source": [
    "18. Discuss the concept of function pointers and how they can be used to achieve polymorphism in Python"
   ]
  },
  {
   "attachments": {},
   "cell_type": "markdown",
   "metadata": {},
   "source": [
    "In Python, the concept of function pointers is closely related to the concept of first-class functions, which means functions can be treated as objects, assigned to variables, passed as arguments, and returned from other functions. While Python does not have traditional function pointers like some lower-level languages (e.g., C or C++), the ability to pass functions as arguments allows for achieving polymorphic behavior in Python.\n",
    "\n",
    "Function Pointers in Python:\n",
    "In Python, functions are first-class citizens, meaning they can be passed around and used as arguments. This capability forms the basis for achieving polymorphism through function pointers or references. Here’s how function pointers can be used to achieve polymorphism in Python:\n",
    "\n",
    "Passing Functions as Arguments:\n",
    "Functions can be passed as arguments to other functions, allowing different functions to be called based on runtime conditions or user input.\n",
    "Assigning Functions to Variables:\n",
    "Functions can be assigned to variables, enabling the variables to reference different functions dynamically.\n",
    "Function References in Data Structures:\n",
    "Functions can be stored in data structures such as lists, dictionaries, or objects, providing a way to select and invoke functions based on keys or indices.\n",
    "Example: Achieving Polymorphism with Function Pointers\n",
    "Consider a scenario where you have different operations (addition, subtraction) that you want to perform based on user input. You can define functions for each operation and use a function pointer (a variable referencing these functions) to achieve polymorphism:"
   ]
  },
  {
   "cell_type": "code",
   "execution_count": 51,
   "metadata": {},
   "outputs": [
    {
     "name": "stdout",
     "output_type": "stream",
     "text": [
      "Result of operation: 8\n",
      "Result of operation: 2\n"
     ]
    }
   ],
   "source": [
    "# Define functions for different operations\n",
    "def add(x, y):\n",
    "    return x + y\n",
    "\n",
    "def subtract(x, y):\n",
    "    return x - y\n",
    "\n",
    "# Function pointer: a variable referencing functions\n",
    "operation_func = add\n",
    "\n",
    "# Example of using function pointer\n",
    "result = operation_func(5, 3)\n",
    "print(\"Result of operation:\", result)  # Outputs: Result of operation: 8\n",
    "\n",
    "# Change function pointer to point to another function\n",
    "operation_func = subtract\n",
    "\n",
    "# Example of using function pointer with a different function\n",
    "result = operation_func(5, 3)\n",
    "print(\"Result of operation:\", result)  # Outputs: Result of operation: 2\n"
   ]
  },
  {
   "attachments": {},
   "cell_type": "markdown",
   "metadata": {},
   "source": [
    "19. Explain the role of interfaces and abstract classes in polymorphism, drawing comparisons between them."
   ]
  },
  {
   "attachments": {},
   "cell_type": "markdown",
   "metadata": {},
   "source": [
    "In Python, interfaces and abstract classes are fundamental concepts used to achieve polymorphism, though Python's approach is slightly different from languages like Java or C#. Let's delve into the roles of interfaces and abstract classes in Python, and draw comparisons between them.\n",
    "\n",
    "Interfaces in Python:\n",
    "In Python, interfaces are not explicitly defined as in some other languages (e.g., Java), but they can be emulated using abstract base classes (ABCs) from the abc module combined with the @abstractmethod decorator.\n",
    "\n",
    "Role of Interfaces:\n",
    "\n",
    "Definition:\n",
    "Interfaces define a contract specifying methods that classes must implement.\n",
    "They establish a common API without providing any implementation details.\n",
    "Achieving Polymorphism:\n",
    "By defining interfaces, Python allows different classes to implement the same set of methods but with their own specific implementations.\n",
    "This enables polymorphism where objects can be treated uniformly based on their interface type."
   ]
  },
  {
   "cell_type": "code",
   "execution_count": 52,
   "metadata": {},
   "outputs": [],
   "source": [
    "from abc import ABC, abstractmethod\n",
    "\n",
    "# Interface definition using ABC\n",
    "class Shape(ABC):\n",
    "    @abstractmethod\n",
    "    def calculate_area(self):\n",
    "        pass\n",
    "\n",
    "# Classes implementing the Shape interface\n",
    "class Circle(Shape):\n",
    "    def __init__(self, radius):\n",
    "        self.radius = radius\n",
    "    \n",
    "    def calculate_area(self):\n",
    "        return 3.14 * self.radius * self.radius\n",
    "\n",
    "class Rectangle(Shape):\n",
    "    def __init__(self, length, width):\n",
    "        self.length = length\n",
    "        self.width = width\n",
    "    \n",
    "    def calculate_area(self):\n",
    "        return self.length * self.width\n"
   ]
  },
  {
   "attachments": {},
   "cell_type": "markdown",
   "metadata": {},
   "source": [
    "Abstract Classes in Python:\n",
    "Python abstract classes are implemented using the ABC class from the abc module, combined with the @abstractmethod decorator. Abstract classes can have both abstract methods (methods without implementation) and concrete methods (methods with implementation).\n",
    "\n",
    "Role of Abstract Classes:\n",
    "\n",
    "Definition:\n",
    "Abstract classes can contain one or more abstract methods that subclasses must override.\n",
    "They may also include concrete methods that provide default behavior shared by all subclasses.\n",
    "Achieving Polymorphism:\n",
    "Abstract classes provide a way to define a common interface and share code among related classes.\n",
    "They facilitate polymorphism by allowing different subclasses to provide their implementations of abstract methods while inheriting and reusing code from the abstract class."
   ]
  },
  {
   "cell_type": "code",
   "execution_count": 53,
   "metadata": {},
   "outputs": [],
   "source": [
    "from abc import ABC, abstractmethod\n",
    "\n",
    "# Abstract class definition using ABC\n",
    "class Employee(ABC):\n",
    "    def __init__(self, emp_id, name):\n",
    "        self.emp_id = emp_id\n",
    "        self.name = name\n",
    "    \n",
    "    @abstractmethod\n",
    "    def calculate_salary(self):\n",
    "        pass\n",
    "\n",
    "# Concrete subclasses implementing Employee abstract class\n",
    "class Manager(Employee):\n",
    "    def __init__(self, emp_id, name, salary):\n",
    "        super().__init__(emp_id, name)\n",
    "        self.salary = salary\n",
    "    \n",
    "    def calculate_salary(self):\n",
    "        return self.salary\n",
    "\n",
    "class Developer(Employee):\n",
    "    def __init__(self, emp_id, name, hours_worked, rate_per_hour):\n",
    "        super().__init__(emp_id, name)\n",
    "        self.hours_worked = hours_worked\n",
    "        self.rate_per_hour = rate_per_hour\n",
    "    \n",
    "    def calculate_salary(self):\n",
    "        return self.hours_worked * self.rate_per_hour\n"
   ]
  },
  {
   "attachments": {},
   "cell_type": "markdown",
   "metadata": {},
   "source": [
    "Comparisons between Interfaces and Abstract Classes in Python:\n",
    "Definition:\n",
    "\n",
    "Interfaces: Focus on specifying a contract (method signatures) that classes must adhere to. Implemented using ABCs and @abstractmethod decorator in Python.\n",
    "Abstract Classes: Can contain abstract methods and concrete methods. Serve as a blueprint for related classes to inherit from and provide specific implementations.\n",
    "Multiple Inheritance:\n",
    "\n",
    "Interfaces: Python allows multiple inheritance of interfaces using ABCs, promoting code reuse.\n",
    "Abstract Classes: Support multiple inheritance, but careful design is needed to avoid method name clashes and maintain clarity.\n",
    "Default Implementations:\n",
    "\n",
    "Interfaces: Do not provide default implementations. Focus solely on method signatures.\n",
    "Abstract Classes: Can include concrete methods with default behavior that subclasses inherit.\n",
    "Pythonic Approach:\n",
    "\n",
    "Interfaces: Pythonic interfaces are achieved using abstract base classes (ABCs) and @abstractmethod decorator, adapting to Python's dynamic typing and duck typing principles.\n",
    "Abstract Classes: Facilitate polymorphism and code sharing by allowing subclasses to inherit both abstract and concrete methods.\n",
    "Summary:\n",
    "In Python, interfaces are emulated using abstract base classes (ABC from abc module) and @abstractmethod decorator. They define a contract specifying methods that subclasses must implement, promoting polymorphism and loose coupling. Abstract classes, on the other hand, provide a more flexible approach by allowing both abstract and concrete methods, facilitating code reuse and shared behavior among related classes. Both interfaces and abstract classes play essential roles in achieving polymorphism and enhancing code design and maintainability in Python's object-oriented programming paradigm.\n",
    "\n",
    "\n",
    "\n"
   ]
  },
  {
   "attachments": {},
   "cell_type": "markdown",
   "metadata": {},
   "source": [
    "20. Create a Python class for a zoo simulation, demonstrating polymorphism with different animal types (e.g., mammals, birds, reptiles) and their behavior (e.g., eating, sleeping, making sounds)"
   ]
  },
  {
   "attachments": {},
   "cell_type": "markdown",
   "metadata": {},
   "source": [
    "To create a Python class for a zoo simulation demonstrating polymorphism with different animal types (e.g., mammals, birds, reptiles) and their behaviors (e.g., eating, sleeping, making sounds), we'll design a class hierarchy using inheritance and method overriding. Each animal type will have its own specific behaviors implemented through polymorphism.\n",
    "\n",
    "Here's how you can implement this:"
   ]
  },
  {
   "cell_type": "code",
   "execution_count": 54,
   "metadata": {},
   "outputs": [
    {
     "name": "stdout",
     "output_type": "stream",
     "text": [
      "Welcome to the zoo, Lion!\n",
      "Lion is eating plants or other animals\n",
      "Lion makes a mammalian sound\n",
      "Lion is sleeping\n",
      "\n",
      "Welcome to the zoo, Parrot!\n",
      "Parrot is pecking at seeds\n",
      "Parrot chirps and tweets\n",
      "Parrot is sleeping\n",
      "\n",
      "Welcome to the zoo, Snake!\n",
      "Snake is hunting insects or small animals\n",
      "Snake hisses or rattles\n",
      "Snake is sleeping\n",
      "\n"
     ]
    }
   ],
   "source": [
    "# Base class: Animal\n",
    "class Animal:\n",
    "    def __init__(self, name):\n",
    "        self.name = name\n",
    "    \n",
    "    def eat(self):\n",
    "        pass  # Abstract method\n",
    "    \n",
    "    def sleep(self):\n",
    "        print(f\"{self.name} is sleeping\")\n",
    "\n",
    "    def make_sound(self):\n",
    "        pass  # Abstract method\n",
    "\n",
    "# Subclass: Mammal\n",
    "class Mammal(Animal):\n",
    "    def __init__(self, name):\n",
    "        super().__init__(name)\n",
    "    \n",
    "    def eat(self):\n",
    "        print(f\"{self.name} is eating plants or other animals\")\n",
    "    \n",
    "    def make_sound(self):\n",
    "        print(f\"{self.name} makes a mammalian sound\")\n",
    "\n",
    "# Subclass: Bird\n",
    "class Bird(Animal):\n",
    "    def __init__(self, name):\n",
    "        super().__init__(name)\n",
    "    \n",
    "    def eat(self):\n",
    "        print(f\"{self.name} is pecking at seeds\")\n",
    "    \n",
    "    def make_sound(self):\n",
    "        print(f\"{self.name} chirps and tweets\")\n",
    "\n",
    "# Subclass: Reptile\n",
    "class Reptile(Animal):\n",
    "    def __init__(self, name):\n",
    "        super().__init__(name)\n",
    "    \n",
    "    def eat(self):\n",
    "        print(f\"{self.name} is hunting insects or small animals\")\n",
    "    \n",
    "    def make_sound(self):\n",
    "        print(f\"{self.name} hisses or rattles\")\n",
    "\n",
    "# Function to demonstrate polymorphism\n",
    "def zoo_simulation(animal):\n",
    "    print(f\"Welcome to the zoo, {animal.name}!\")\n",
    "    animal.eat()\n",
    "    animal.make_sound()\n",
    "    animal.sleep()\n",
    "    print()\n",
    "\n",
    "# Creating instances and simulating the zoo\n",
    "if __name__ == \"__main__\":\n",
    "    lion = Mammal(\"Lion\")\n",
    "    parrot = Bird(\"Parrot\")\n",
    "    snake = Reptile(\"Snake\")\n",
    "\n",
    "    zoo_simulation(lion)\n",
    "    zoo_simulation(parrot)\n",
    "    zoo_simulation(snake)\n"
   ]
  },
  {
   "attachments": {},
   "cell_type": "markdown",
   "metadata": {},
   "source": [
    "Abstraction:\n"
   ]
  },
  {
   "attachments": {},
   "cell_type": "markdown",
   "metadata": {},
   "source": [
    "1. What is abstraction in Python, and how does it relate to object-oriented programming?"
   ]
  },
  {
   "attachments": {},
   "cell_type": "markdown",
   "metadata": {},
   "source": [
    "Abstraction in Python, as well as in object-oriented programming (OOP) in general, refers to the concept of hiding the complex implementation details of a system or object and exposing only the essential features or functionalities. It allows developers to focus on what an object does rather than how it does it, thereby simplifying the complexities and improving the efficiency of software development. Here’s a detailed explanation of abstraction in Python and its relationship to OOP:\n",
    "\n",
    "Abstraction in Python:\n",
    "Concept:\n",
    "\n",
    "Abstraction is the process of identifying common patterns and behaviors in a system and representing these patterns in a simplified manner.\n",
    "It involves defining a blueprint (class) with a set of methods (interfaces) that describe what an object can do without specifying how it does it.\n",
    "Achieving Abstraction:\n",
    "\n",
    "Classes and Objects: In Python, classes are used to define abstract data types (ADTs) that encapsulate data (attributes) and operations (methods).\n",
    "Encapsulation: Encapsulation bundles the data (attributes) and methods (functions) that operate on the data within a single unit (class), hiding the internal implementation details from the outside world"
   ]
  },
  {
   "cell_type": "code",
   "execution_count": 55,
   "metadata": {},
   "outputs": [
    {
     "name": "stdout",
     "output_type": "stream",
     "text": [
      "Current speed of Toyota Camry: 20 km/h\n"
     ]
    }
   ],
   "source": [
    "class Car:\n",
    "    def __init__(self, make, model):\n",
    "        self.make = make\n",
    "        self.model = model\n",
    "        self.speed = 0  # Attribute\n",
    "\n",
    "    def accelerate(self, increment):\n",
    "        self.speed += increment\n",
    "\n",
    "    def brake(self, decrement):\n",
    "        self.speed -= decrement\n",
    "\n",
    "# Usage of abstraction\n",
    "my_car = Car(\"Toyota\", \"Camry\")\n",
    "my_car.accelerate(20)\n",
    "print(f\"Current speed of {my_car.make} {my_car.model}: {my_car.speed} km/h\")\n"
   ]
  },
  {
   "attachments": {},
   "cell_type": "markdown",
   "metadata": {},
   "source": [
    "Relationship to Object-Oriented Programming (OOP):\n",
    "Fundamental Principle:\n",
    "\n",
    "Abstraction is one of the core principles of OOP, alongside encapsulation, inheritance, and polymorphism.\n",
    "It allows developers to create reusable components (classes) that can be extended and adapted to different scenarios without revealing unnecessary details.\n",
    "Encapsulation and Abstraction:\n",
    "\n",
    "Encapsulation ensures that the implementation details of an object are hidden and can only be accessed through well-defined interfaces (methods).\n",
    "Abstraction focuses on defining these interfaces (methods) that provide a high-level view of what an object can do, without exposing the complexity of how it achieves its functionality.\n",
    "Benefits of Abstraction in OOP:\n",
    "\n",
    "Modularity: Encourages modular design by separating interface (what an object does) from implementation (how it does it), facilitating easier maintenance and updates.\n",
    "Flexibility: Allows different implementations of a common interface to be used interchangeably, promoting code reuse and extensibility.\n",
    "Focus on Essentials: Enables developers to focus on solving higher-level problems rather than getting bogged down by implementation details.\n",
    "Summary:\n",
    "Abstraction in Python and OOP provides a powerful mechanism for managing complexity in software development. It allows developers to create modular, reusable, and maintainable code by hiding implementation details and exposing only the essential features of objects through well-defined interfaces. This approach not only enhances code organization and readability but also promotes flexibility and scalability in designing and building software systems."
   ]
  },
  {
   "attachments": {},
   "cell_type": "markdown",
   "metadata": {},
   "source": [
    "2. Describe the benefits of abstraction in terms of code organization and complexity reduction."
   ]
  },
  {
   "attachments": {},
   "cell_type": "markdown",
   "metadata": {},
   "source": [
    "Abstraction in programming, particularly in object-oriented programming (OOP), offers several significant benefits in terms of code organization and reduction of complexity. Let's explore these benefits in detail:\n",
    "\n",
    "Benefits of Abstraction:\n",
    "Encapsulation of Complexity:\n",
    "\n",
    "Abstraction allows developers to encapsulate the complex implementation details of a system or module within a well-defined interface (class).\n",
    "By hiding internal details, abstraction promotes a higher level of understanding and clarity, making it easier to reason about and maintain the codebase.\n",
    "Code Reusability:\n",
    "\n",
    "Abstraction facilitates code reusability by defining a blueprint (class) with a set of methods and attributes that can be used by multiple parts of a program.\n",
    "Once a class is defined with its abstraction, it can be instantiated and reused across different modules or projects without needing to rewrite the underlying logic.\n",
    "Modular Design:\n",
    "\n",
    "Abstraction encourages modular design by breaking down a system into smaller, manageable components (classes or modules) that interact through well-defined interfaces.\n",
    "Each module or class focuses on a specific responsibility or functionality, making the overall system easier to understand, maintain, and extend.\n",
    "Enhanced Maintainability:\n",
    "\n",
    "By hiding implementation details and exposing only essential functionalities through abstraction, code becomes more modular and less prone to unintended modifications.\n",
    "Changes to the internal implementation of a class can be made without affecting other parts of the system that rely on its abstraction, thus minimizing the risk of introducing bugs.\n",
    "Reduced Complexity and Cognitive Load:\n",
    "\n",
    "Abstraction reduces complexity by providing a clear separation between what an object does (interface) and how it does it (implementation).\n",
    "Developers can focus on using classes and objects based on their interfaces without needing to understand or manage the intricacies of their internal workings.\n",
    "Facilitates Collaboration:\n",
    "\n",
    "In team environments, abstraction enhances collaboration by establishing clear boundaries and contracts between different components or modules.\n",
    "Team members can work independently on different parts of the system based on well-defined interfaces, ensuring consistency and reducing integration issues."
   ]
  },
  {
   "cell_type": "code",
   "execution_count": 56,
   "metadata": {},
   "outputs": [],
   "source": [
    "from abc import ABC, abstractmethod\n",
    "\n",
    "# Abstract base class\n",
    "class Vehicle(ABC):\n",
    "    def __init__(self, brand, model):\n",
    "        self.brand = brand\n",
    "        self.model = model\n",
    "    \n",
    "    @abstractmethod\n",
    "    def start(self):\n",
    "        pass\n",
    "    \n",
    "    @abstractmethod\n",
    "    def stop(self):\n",
    "        pass\n",
    "\n",
    "# Concrete classes implementing Vehicle\n",
    "class Car(Vehicle):\n",
    "    def start(self):\n",
    "        return f\"{self.brand} {self.model} starting engine...\"\n",
    "    \n",
    "    def stop(self):\n",
    "        return f\"{self.brand} {self.model} stopping engine...\"\n",
    "\n",
    "class Motorcycle(Vehicle):\n",
    "    def start(self):\n",
    "        return f\"{self.brand} {self.model} starting ignition...\"\n",
    "    \n",
    "    def stop(self):\n",
    "        return f\"{self.brand} {self.model} stopping ignition...\"\n"
   ]
  },
  {
   "attachments": {},
   "cell_type": "markdown",
   "metadata": {},
   "source": [
    "3. Create a Python class called `Shape` with an abstract method `calculate_area()`. Then, create child classes (e.g., `Circle`, `Rectangle`) that implement the `calculate_area()` method. Provide an example of\n",
    "using these classes."
   ]
  },
  {
   "cell_type": "code",
   "execution_count": 57,
   "metadata": {},
   "outputs": [
    {
     "name": "stdout",
     "output_type": "stream",
     "text": [
      "Area of the circle with radius 5: 78.54 square units\n",
      "Area of the rectangle with width 4 and height 6: 24 square units\n"
     ]
    }
   ],
   "source": [
    "from abc import ABC, abstractmethod\n",
    "import math\n",
    "\n",
    "# Abstract base class: Shape\n",
    "class Shape(ABC):\n",
    "    @abstractmethod\n",
    "    def calculate_area(self):\n",
    "        pass\n",
    "\n",
    "# Concrete subclass: Circle\n",
    "class Circle(Shape):\n",
    "    def __init__(self, radius):\n",
    "        self.radius = radius\n",
    "    \n",
    "    def calculate_area(self):\n",
    "        return math.pi * self.radius ** 2\n",
    "\n",
    "# Concrete subclass: Rectangle\n",
    "class Rectangle(Shape):\n",
    "    def __init__(self, width, height):\n",
    "        self.width = width\n",
    "        self.height = height\n",
    "    \n",
    "    def calculate_area(self):\n",
    "        return self.width * self.height\n",
    "\n",
    "# Example usage\n",
    "if __name__ == \"__main__\":\n",
    "    # Creating instances of Circle and Rectangle\n",
    "    circle = Circle(5)\n",
    "    rectangle = Rectangle(4, 6)\n",
    "    \n",
    "    # Calculating and printing areas\n",
    "    print(f\"Area of the circle with radius {circle.radius}: {circle.calculate_area():.2f} square units\")\n",
    "    print(f\"Area of the rectangle with width {rectangle.width} and height {rectangle.height}: {rectangle.calculate_area()} square units\")\n"
   ]
  },
  {
   "attachments": {},
   "cell_type": "markdown",
   "metadata": {},
   "source": [
    "4. Explain the concept of abstract classes in Python and how they are defined using the `abc` module. Provide\n",
    "an example."
   ]
  },
  {
   "attachments": {},
   "cell_type": "markdown",
   "metadata": {},
   "source": [
    "In Python, abstract classes are used to define a blueprint for other classes and can contain abstract methods that must be implemented by derived classes. Abstract classes cannot be instantiated directly; instead, they are meant to be subclassed to provide specific implementations. This concept helps enforce a common structure or interface across multiple related classes.\n",
    "\n",
    "Using the abc Module for Abstract Classes:\n",
    "Python's abc module (Abstract Base Classes) provides tools for defining abstract base classes. The abc module allows us to explicitly mark methods as abstract using the @abstractmethod decorator. Abstract methods are defined in the abstract base class but have no implementation. Subclasses must override these abstract methods to provide their own implementations.\n",
    "\n",
    "Example of Abstract Classes with abc Module:\n",
    "Let's create an example using the abc module to define an abstract base class Shape with an abstract method calculate_area(). Subclasses (Circle, Rectangle) will inherit from Shape and implement the calculate_area() method according to their specific shapes."
   ]
  },
  {
   "cell_type": "code",
   "execution_count": 58,
   "metadata": {},
   "outputs": [
    {
     "name": "stdout",
     "output_type": "stream",
     "text": [
      "Area of the circle with radius 5: 78.54 square units\n",
      "Area of the rectangle with width 4 and height 6: 24 square units\n"
     ]
    }
   ],
   "source": [
    "from abc import ABC, abstractmethod\n",
    "import math\n",
    "\n",
    "# Abstract base class: Shape\n",
    "class Shape(ABC):\n",
    "    @abstractmethod\n",
    "    def calculate_area(self):\n",
    "        pass\n",
    "\n",
    "# Concrete subclass: Circle\n",
    "class Circle(Shape):\n",
    "    def __init__(self, radius):\n",
    "        self.radius = radius\n",
    "    \n",
    "    def calculate_area(self):\n",
    "        return math.pi * self.radius ** 2\n",
    "\n",
    "# Concrete subclass: Rectangle\n",
    "class Rectangle(Shape):\n",
    "    def __init__(self, width, height):\n",
    "        self.width = width\n",
    "        self.height = height\n",
    "    \n",
    "    def calculate_area(self):\n",
    "        return self.width * self.height\n",
    "\n",
    "# Example usage\n",
    "if __name__ == \"__main__\":\n",
    "    # Creating instances of Circle and Rectangle\n",
    "    circle = Circle(5)\n",
    "    rectangle = Rectangle(4, 6)\n",
    "    \n",
    "    # Calculating and printing areas\n",
    "    print(f\"Area of the circle with radius {circle.radius}: {circle.calculate_area():.2f} square units\")\n",
    "    print(f\"Area of the rectangle with width {rectangle.width} and height {rectangle.height}: {rectangle.calculate_area()} square units\")\n"
   ]
  },
  {
   "attachments": {},
   "cell_type": "markdown",
   "metadata": {},
   "source": [
    "5. How do abstract classes differ from regular classes in Python? Discuss their use cases."
   ]
  },
  {
   "attachments": {},
   "cell_type": "markdown",
   "metadata": {},
   "source": [
    "Abstract classes in Python differ from regular classes primarily in their ability to define abstract methods and their purpose in providing a blueprint for other classes. Let's discuss the differences and their respective use cases:\n",
    "\n",
    "Abstract Classes vs Regular Classes:\n",
    "Abstract Classes:\n",
    "\n",
    "Definition: Abstract classes are classes that cannot be instantiated directly. They are meant to be subclassed, and they may contain abstract methods (methods without implementation).\n",
    "\n",
    "Syntax: Abstract classes are defined using the abc module, where the ABC class serves as the base for the abstract class, and the @abstractmethod decorator is used to mark methods as abstract.\n",
    "\n",
    "Purpose:\n",
    "\n",
    "Provide a blueprint or template for other classes to inherit from.\n",
    "Define a common interface that subclasses must implement.\n",
    "Encapsulate shared functionality that can be reused across multiple subclasses.\n",
    "Example Use Case:\n",
    "\n",
    "Defining a Shape class with abstract methods like calculate_area() or calculate_perimeter(). Subclasses (Circle, Rectangle, etc.) inherit from Shape and provide specific implementations for these methods based on their shape.\n",
    "Regular Classes:\n",
    "\n",
    "Definition: Regular classes can be instantiated directly. They can have attributes, methods (both concrete and abstract), and may inherit from other classes.\n",
    "\n",
    "Syntax: Regular classes are defined using the class keyword without any specific module requirements.\n",
    "\n",
    "Purpose:\n",
    "\n",
    "Create objects that encapsulate data and methods.\n",
    "Implement business logic or functional units within an application.\n",
    "Serve as base classes for inheritance, but they do not enforce the implementation of specific methods in subclasses.\n",
    "Example Use Case:\n",
    "\n",
    "Creating classes like Car, Person, Employee, etc., which represent real-world entities with specific attributes and behaviors.\n",
    "Key Differences:\n",
    "Instantiation:\n",
    "\n",
    "Abstract classes cannot be instantiated directly (TypeError will be raised if attempted). Regular classes can be instantiated using their constructors (__init__ method).\n",
    "Abstract Methods:\n",
    "\n",
    "Abstract classes can contain abstract methods (methods without implementation) that must be overridden by subclasses.\n",
    "Regular classes do not have abstract methods, although they can have methods without specific implementations.\n",
    "Purpose and Design:\n",
    "\n",
    "Abstract classes focus on defining a structure or contract that subclasses must follow, promoting consistency and reusability across different implementations.\n",
    "Regular classes are more flexible in their design and can be used to model a wide range of objects and behaviors without enforcing a specific structure on subclasses."
   ]
  },
  {
   "cell_type": "code",
   "execution_count": 59,
   "metadata": {},
   "outputs": [
    {
     "name": "stdout",
     "output_type": "stream",
     "text": [
      "Toyota Camry started.\n",
      "Toyota Camry stopped.\n"
     ]
    }
   ],
   "source": [
    "class Car:\n",
    "    def __init__(self, make, model):\n",
    "        self.make = make\n",
    "        self.model = model\n",
    "    \n",
    "    def start(self):\n",
    "        print(f\"{self.make} {self.model} started.\")\n",
    "\n",
    "    def stop(self):\n",
    "        print(f\"{self.make} {self.model} stopped.\")\n",
    "\n",
    "# Usage:\n",
    "car = Car(\"Toyota\", \"Camry\")\n",
    "car.start()\n",
    "car.stop()\n"
   ]
  },
  {
   "attachments": {},
   "cell_type": "markdown",
   "metadata": {},
   "source": [
    "6. Create a Python class for a bank account and demonstrate abstraction by hiding the account balance and\n",
    "providing methods to deposit and withdraw funds"
   ]
  },
  {
   "attachments": {},
   "cell_type": "markdown",
   "metadata": {},
   "source": [
    "To demonstrate abstraction in Python by hiding the account balance and providing methods to deposit and withdraw funds, we'll create a BankAccount class. The class will encapsulate the balance attribute and provide methods (deposit() and withdraw()) to interact with this balance while maintaining data integrity through encapsulation."
   ]
  },
  {
   "cell_type": "code",
   "execution_count": 60,
   "metadata": {},
   "outputs": [
    {
     "name": "stdout",
     "output_type": "stream",
     "text": [
      "Account Number: 123456789, Account Holder: John Doe, Balance: $1000.00\n",
      "Deposited $500.00 into account 123456789. New balance: $1500.00\n",
      "Withdrew $200.00 from account 123456789. New balance: $1300.00\n",
      "Insufficient funds or invalid amount for withdrawal.\n",
      "Account Number: 123456789, Account Holder: John Doe, Balance: $1300.00\n"
     ]
    }
   ],
   "source": [
    "class BankAccount:\n",
    "    def __init__(self, account_number, account_holder, initial_balance=0.0):\n",
    "        self.account_number = account_number\n",
    "        self.account_holder = account_holder\n",
    "        self.__balance = initial_balance  # Private attribute, using double underscore for name mangling\n",
    "\n",
    "    def deposit(self, amount):\n",
    "        if amount > 0:\n",
    "            self.__balance += amount\n",
    "            print(f\"Deposited ${amount:.2f} into account {self.account_number}. New balance: ${self.__balance:.2f}\")\n",
    "        else:\n",
    "            print(\"Deposit amount should be greater than zero.\")\n",
    "\n",
    "    def withdraw(self, amount):\n",
    "        if 0 < amount <= self.__balance:\n",
    "            self.__balance -= amount\n",
    "            print(f\"Withdrew ${amount:.2f} from account {self.account_number}. New balance: ${self.__balance:.2f}\")\n",
    "        else:\n",
    "            print(\"Insufficient funds or invalid amount for withdrawal.\")\n",
    "\n",
    "    def get_balance(self):\n",
    "        return self.__balance\n",
    "\n",
    "    def __str__(self):\n",
    "        return f\"Account Number: {self.account_number}, Account Holder: {self.account_holder}, Balance: ${self.__balance:.2f}\"\n",
    "\n",
    "# Usage example:\n",
    "if __name__ == \"__main__\":\n",
    "    # Create a bank account object\n",
    "    account1 = BankAccount(\"123456789\", \"John Doe\", 1000.0)\n",
    "    \n",
    "    # Display initial account details\n",
    "    print(account1)\n",
    "    \n",
    "    # Deposit and withdraw operations\n",
    "    account1.deposit(500.0)\n",
    "    account1.withdraw(200.0)\n",
    "    account1.withdraw(1500.0)  # Attempt to withdraw more than balance\n",
    "    \n",
    "    # Display final account details\n",
    "    print(account1)\n"
   ]
  },
  {
   "attachments": {},
   "cell_type": "markdown",
   "metadata": {},
   "source": [
    "7. Discuss the concept of interface classes in Python and their role in achieving abstraction"
   ]
  },
  {
   "attachments": {},
   "cell_type": "markdown",
   "metadata": {},
   "source": [
    "In Python, interface classes are not explicitly defined as they are in some other programming languages like Java or C#. However, the concept of interfaces can be achieved through the use of abstract base classes (ABCs) from the abc module. Interface classes in Python play a crucial role in achieving abstraction by defining a contract or blueprint that subclasses must adhere to, without providing any implementation details.\n",
    "\n",
    "Role of Interface Classes in Achieving Abstraction:\n",
    "Defining a Contract:\n",
    "\n",
    "Interface classes in Python define a set of methods that must be implemented by any class that inherits from them.\n",
    "These methods serve as a contract, specifying what operations or behaviors the subclass must support.\n",
    "Enforcing Consistency:\n",
    "\n",
    "By defining interfaces, you enforce a consistent structure and behavior across multiple classes that share common functionality.\n",
    "This promotes code clarity and reduces the likelihood of errors by ensuring that subclasses provide necessary implementations.\n",
    "Promoting Modularity and Reusability:\n",
    "\n",
    "Interfaces separate the definition of behavior from its implementation, promoting modularity.\n",
    "This allows different implementations of the same interface to be interchanged seamlessly, enhancing code reusability.\n",
    "Facilitating Polymorphism:\n",
    "\n",
    "Interfaces enable polymorphism by allowing objects of different classes to be treated uniformly through their shared interface.\n",
    "This simplifies code maintenance and enhances flexibility in managing object interactions.\n",
    "Example Using Abstract Base Classes (ABCs):\n",
    "Let's demonstrate how to use abstract base classes from the abc module to achieve interface-like behavior in Python:"
   ]
  },
  {
   "cell_type": "code",
   "execution_count": 61,
   "metadata": {},
   "outputs": [
    {
     "name": "stdout",
     "output_type": "stream",
     "text": [
      "Drawing Circle\n",
      "Erasing Circle\n",
      "Drawing Rectangle\n",
      "Erasing Rectangle\n"
     ]
    }
   ],
   "source": [
    "from abc import ABC, abstractmethod\n",
    "\n",
    "# Abstract interface class: Drawable\n",
    "class Drawable(ABC):\n",
    "    @abstractmethod\n",
    "    def draw(self):\n",
    "        pass\n",
    "\n",
    "    @abstractmethod\n",
    "    def erase(self):\n",
    "        pass\n",
    "\n",
    "# Concrete class implementing Drawable interface\n",
    "class Circle(Drawable):\n",
    "    def draw(self):\n",
    "        print(\"Drawing Circle\")\n",
    "\n",
    "    def erase(self):\n",
    "        print(\"Erasing Circle\")\n",
    "\n",
    "# Another concrete class implementing Drawable interface\n",
    "class Rectangle(Drawable):\n",
    "    def draw(self):\n",
    "        print(\"Drawing Rectangle\")\n",
    "\n",
    "    def erase(self):\n",
    "        print(\"Erasing Rectangle\")\n",
    "\n",
    "# Function demonstrating polymorphism with Drawable interface\n",
    "def draw_and_erase(shape):\n",
    "    shape.draw()\n",
    "    shape.erase()\n",
    "\n",
    "# Usage example:\n",
    "if __name__ == \"__main__\":\n",
    "    circle = Circle()\n",
    "    rectangle = Rectangle()\n",
    "\n",
    "    draw_and_erase(circle)\n",
    "    draw_and_erase(rectangle)\n"
   ]
  },
  {
   "attachments": {},
   "cell_type": "markdown",
   "metadata": {},
   "source": [
    "8. Create a Python class hierarchy for animals and implement abstraction by defining common methods (e.g., `eat()`, `sleep()`) in an abstract base class."
   ]
  },
  {
   "attachments": {},
   "cell_type": "markdown",
   "metadata": {},
   "source": [
    "To demonstrate abstraction in Python using a class hierarchy for animals, we'll create an abstract base class Animal with abstract methods eat() and sleep(). Subclasses such as Dog, Cat, and Bird will inherit from Animal and provide specific implementations for these methods according to each animal's behavior."
   ]
  },
  {
   "cell_type": "code",
   "execution_count": 62,
   "metadata": {},
   "outputs": [
    {
     "name": "stdout",
     "output_type": "stream",
     "text": [
      "Buddy the Golden Retriever is eating.\n",
      "Buddy the Golden Retriever is sleeping.\n",
      "Whiskers the Tabby cat is eating.\n",
      "Whiskers the Tabby cat is sleeping.\n",
      "Chirpy the Parrot is pecking seeds.\n",
      "Chirpy the Parrot is perched and resting.\n"
     ]
    }
   ],
   "source": [
    "from abc import ABC, abstractmethod\n",
    "\n",
    "# Abstract base class: Animal\n",
    "class Animal(ABC):\n",
    "    def __init__(self, name, age):\n",
    "        self.name = name\n",
    "        self.age = age\n",
    "    \n",
    "    @abstractmethod\n",
    "    def eat(self):\n",
    "        pass\n",
    "    \n",
    "    @abstractmethod\n",
    "    def sleep(self):\n",
    "        pass\n",
    "\n",
    "# Concrete subclass: Dog\n",
    "class Dog(Animal):\n",
    "    def __init__(self, name, age, breed):\n",
    "        super().__init__(name, age)\n",
    "        self.breed = breed\n",
    "    \n",
    "    def eat(self):\n",
    "        print(f\"{self.name} the {self.breed} is eating.\")\n",
    "\n",
    "    def sleep(self):\n",
    "        print(f\"{self.name} the {self.breed} is sleeping.\")\n",
    "\n",
    "# Concrete subclass: Cat\n",
    "class Cat(Animal):\n",
    "    def __init__(self, name, age, color):\n",
    "        super().__init__(name, age)\n",
    "        self.color = color\n",
    "    \n",
    "    def eat(self):\n",
    "        print(f\"{self.name} the {self.color} cat is eating.\")\n",
    "\n",
    "    def sleep(self):\n",
    "        print(f\"{self.name} the {self.color} cat is sleeping.\")\n",
    "\n",
    "# Concrete subclass: Bird\n",
    "class Bird(Animal):\n",
    "    def __init__(self, name, age, species):\n",
    "        super().__init__(name, age)\n",
    "        self.species = species\n",
    "    \n",
    "    def eat(self):\n",
    "        print(f\"{self.name} the {self.species} is pecking seeds.\")\n",
    "\n",
    "    def sleep(self):\n",
    "        print(f\"{self.name} the {self.species} is perched and resting.\")\n",
    "\n",
    "# Usage example\n",
    "if __name__ == \"__main__\":\n",
    "    dog = Dog(\"Buddy\", 5, \"Golden Retriever\")\n",
    "    cat = Cat(\"Whiskers\", 3, \"Tabby\")\n",
    "    bird = Bird(\"Chirpy\", 1, \"Parrot\")\n",
    "\n",
    "    # Calling common methods\n",
    "    dog.eat()\n",
    "    dog.sleep()\n",
    "\n",
    "    cat.eat()\n",
    "    cat.sleep()\n",
    "\n",
    "    bird.eat()\n",
    "    bird.sleep()\n"
   ]
  },
  {
   "attachments": {},
   "cell_type": "markdown",
   "metadata": {},
   "source": [
    "9. Explain the significance of encapsulation in achieving abstraction. Provide examples."
   ]
  },
  {
   "attachments": {},
   "cell_type": "markdown",
   "metadata": {},
   "source": [
    "Encapsulation and abstraction are closely related concepts in object-oriented programming (OOP), and understanding their significance helps in designing robust and maintainable code. Let's delve into encapsulation and its role in achieving abstraction, with examples to illustrate its importance.\n",
    "\n",
    "Significance of Encapsulation in Achieving Abstraction:\n",
    "Definition of Encapsulation:\n",
    "\n",
    "Encapsulation is the bundling of data (attributes) and methods (functions operating on the data) that manipulate the data into a single unit, typically a class.\n",
    "It hides the internal state of an object from the outside world and only exposes a controlled interface for interacting with the object's data.\n",
    "Role of Encapsulation in Abstraction:\n",
    "\n",
    "Data Hiding: Encapsulation allows you to hide the internal state (attributes) of an object, preventing external code from directly accessing or modifying it.\n",
    "Interface Definition: By defining methods (functions) to interact with the object's data, encapsulation provides a clear and controlled interface for external code to use.\n",
    "Implementation Flexibility: It allows the internal implementation details of an object to change without affecting external code that uses the object, as long as the interface remains unchanged.\n",
    "Benefits of Encapsulation in Achieving Abstraction:\n",
    "\n",
    "Enhanced Security: Data hiding provided by encapsulation ensures that sensitive data is not accessible or modifiable from outside the class, reducing the risk of accidental data corruption.\n",
    "Code Modularity: Encapsulation promotes modularity by organizing data and methods into self-contained units (classes), making the code easier to understand, maintain, and extend.\n",
    "Promotion of Abstraction: Encapsulation helps in achieving abstraction by hiding complex implementation details and exposing only essential features and behaviors through well-defined interfaces."
   ]
  },
  {
   "cell_type": "code",
   "execution_count": 63,
   "metadata": {},
   "outputs": [
    {
     "name": "stdout",
     "output_type": "stream",
     "text": [
      "Account holder: John Doe, Account number: 123456789\n",
      "Deposited $500.00 into account 123456789. New balance: $1500.00\n",
      "Withdrew $200.00 from account 123456789. New balance: $1300.00\n",
      "Current balance: $1300.00\n"
     ]
    }
   ],
   "source": [
    "# Example: Bank Account class demonstrating encapsulation and abstraction\n",
    "\n",
    "class BankAccount:\n",
    "    def __init__(self, account_number, account_holder, initial_balance=0.0):\n",
    "        self.account_number = account_number  # Public attribute\n",
    "        self.account_holder = account_holder  # Public attribute\n",
    "        self.__balance = initial_balance      # Private attribute using name mangling\n",
    "\n",
    "    def deposit(self, amount):\n",
    "        if amount > 0:\n",
    "            self.__balance += amount\n",
    "            print(f\"Deposited ${amount:.2f} into account {self.account_number}. New balance: ${self.__balance:.2f}\")\n",
    "        else:\n",
    "            print(\"Deposit amount should be greater than zero.\")\n",
    "\n",
    "    def withdraw(self, amount):\n",
    "        if 0 < amount <= self.__balance:\n",
    "            self.__balance -= amount\n",
    "            print(f\"Withdrew ${amount:.2f} from account {self.account_number}. New balance: ${self.__balance:.2f}\")\n",
    "        else:\n",
    "            print(\"Insufficient funds or invalid amount for withdrawal.\")\n",
    "\n",
    "    def get_balance(self):\n",
    "        return self.__balance\n",
    "\n",
    "# Usage example\n",
    "if __name__ == \"__main__\":\n",
    "    account1 = BankAccount(\"123456789\", \"John Doe\", 1000.0)\n",
    "    \n",
    "    # Direct access to public attributes (not encapsulated)\n",
    "    print(f\"Account holder: {account1.account_holder}, Account number: {account1.account_number}\")\n",
    "    \n",
    "    # Indirect access to private attribute via methods (encapsulated)\n",
    "    account1.deposit(500.0)\n",
    "    account1.withdraw(200.0)\n",
    "    print(f\"Current balance: ${account1.get_balance():.2f}\")\n"
   ]
  },
  {
   "attachments": {},
   "cell_type": "markdown",
   "metadata": {},
   "source": [
    "10. What is the purpose of abstract methods, and how do they enforce abstraction in Python classes?"
   ]
  },
  {
   "attachments": {},
   "cell_type": "markdown",
   "metadata": {},
   "source": [
    "Abstract methods in Python serve the purpose of defining a method signature without any implementation in the abstract base class. They enforce abstraction by specifying a contract that concrete subclasses must adhere to by providing their own implementations. Here’s a detailed explanation of their purpose and how they enforce abstraction:\n",
    "\n",
    "Purpose of Abstract Methods:\n",
    "Defining a Blueprint:\n",
    "\n",
    "Abstract methods define a method signature (name, parameters) without providing any implementation details.\n",
    "They serve as placeholders for methods that must be implemented by subclasses.\n",
    "Enforcing Method Implementation:\n",
    "\n",
    "Abstract methods enforce a requirement that concrete subclasses must provide their own implementations.\n",
    "This ensures that all subclasses adhere to a common interface or contract defined by the abstract base class.\n",
    "Promoting Code Consistency:\n",
    "\n",
    "By defining abstract methods, you establish a consistent structure across multiple subclasses.\n",
    "Subclasses are required to implement these methods, ensuring consistency in how different objects of related classes behave.\n",
    "How Abstract Methods Enforce Abstraction:\n",
    "Abstract Base Classes (ABCs):\n",
    "\n",
    "Abstract methods are typically defined in abstract base classes using the abc module in Python.\n",
    "An abstract base class cannot be instantiated directly; it exists to be subclassed and to define a common interface through its abstract methods.\n",
    "Subclass Implementation:\n",
    "\n",
    "Subclasses that inherit from an abstract base class must provide concrete implementations for all abstract methods defined in the base class.\n",
    "If a subclass fails to implement any abstract method, attempting to instantiate it will raise a TypeError."
   ]
  },
  {
   "cell_type": "code",
   "execution_count": 65,
   "metadata": {},
   "outputs": [
    {
     "name": "stdout",
     "output_type": "stream",
     "text": [
      "Woof!\n",
      "Meow!\n"
     ]
    }
   ],
   "source": [
    "from abc import ABC, abstractmethod\n",
    "\n",
    "# Abstract base class: Animal\n",
    "class Animal(ABC):\n",
    "    @abstractmethod\n",
    "    def make_sound(self):\n",
    "        pass\n",
    "\n",
    "# Concrete subclass: Dog\n",
    "class Dog(Animal):\n",
    "    def make_sound(self):\n",
    "        print(\"Woof!\")\n",
    "\n",
    "# Concrete subclass: Cat\n",
    "class Cat(Animal):\n",
    "    def make_sound(self):\n",
    "        print(\"Meow!\")\n",
    "\n",
    "# Usage example\n",
    "if __name__ == \"__main__\":\n",
    "    dog = Dog()\n",
    "    cat = Cat()\n",
    "\n",
    "    dog.make_sound()  # Output: Woof!\n",
    "    cat.make_sound()  # Output: Meow!\n"
   ]
  },
  {
   "attachments": {},
   "cell_type": "markdown",
   "metadata": {},
   "source": [
    "11. Create a Python class for a vehicle system and demonstrate abstraction by defining common methods (e.g., `start()`, `stop()`) in an abstract base class."
   ]
  },
  {
   "cell_type": "code",
   "execution_count": 66,
   "metadata": {},
   "outputs": [
    {
     "name": "stdout",
     "output_type": "stream",
     "text": [
      "2022 Toyota Camry starts the engine.\n",
      "2022 Toyota Camry stops the engine.\n",
      "2021 Trek Mountain Bike starts pedaling.\n",
      "2021 Trek Mountain Bike stops pedaling.\n",
      "2020 Bayliner Speedboat starts the motor.\n",
      "2020 Bayliner Speedboat stops the motor.\n"
     ]
    }
   ],
   "source": [
    "from abc import ABC, abstractmethod\n",
    "\n",
    "# Abstract base class: Vehicle\n",
    "class Vehicle(ABC):\n",
    "    def __init__(self, make, model, year):\n",
    "        self.make = make\n",
    "        self.model = model\n",
    "        self.year = year\n",
    "    \n",
    "    @abstractmethod\n",
    "    def start(self):\n",
    "        pass\n",
    "    \n",
    "    @abstractmethod\n",
    "    def stop(self):\n",
    "        pass\n",
    "\n",
    "# Concrete subclass: Car\n",
    "class Car(Vehicle):\n",
    "    def __init__(self, make, model, year):\n",
    "        super().__init__(make, model, year)\n",
    "    \n",
    "    def start(self):\n",
    "        print(f\"{self.year} {self.make} {self.model} starts the engine.\")\n",
    "\n",
    "    def stop(self):\n",
    "        print(f\"{self.year} {self.make} {self.model} stops the engine.\")\n",
    "\n",
    "# Concrete subclass: Bicycle\n",
    "class Bicycle(Vehicle):\n",
    "    def __init__(self, make, model, year):\n",
    "        super().__init__(make, model, year)\n",
    "    \n",
    "    def start(self):\n",
    "        print(f\"{self.year} {self.make} {self.model} starts pedaling.\")\n",
    "\n",
    "    def stop(self):\n",
    "        print(f\"{self.year} {self.make} {self.model} stops pedaling.\")\n",
    "\n",
    "# Concrete subclass: Boat\n",
    "class Boat(Vehicle):\n",
    "    def __init__(self, make, model, year):\n",
    "        super().__init__(make, model, year)\n",
    "    \n",
    "    def start(self):\n",
    "        print(f\"{self.year} {self.make} {self.model} starts the motor.\")\n",
    "\n",
    "    def stop(self):\n",
    "        print(f\"{self.year} {self.make} {self.model} stops the motor.\")\n",
    "\n",
    "# Usage example\n",
    "if __name__ == \"__main__\":\n",
    "    car = Car(\"Toyota\", \"Camry\", 2022)\n",
    "    bicycle = Bicycle(\"Trek\", \"Mountain Bike\", 2021)\n",
    "    boat = Boat(\"Bayliner\", \"Speedboat\", 2020)\n",
    "\n",
    "    # Calling common methods\n",
    "    car.start()\n",
    "    car.stop()\n",
    "\n",
    "    bicycle.start()\n",
    "    bicycle.stop()\n",
    "\n",
    "    boat.start()\n",
    "    boat.stop()\n"
   ]
  },
  {
   "attachments": {},
   "cell_type": "markdown",
   "metadata": {},
   "source": [
    "12. Describe the use of abstract properties in Python and how they can be employed in abstract classes\n"
   ]
  },
  {
   "attachments": {},
   "cell_type": "markdown",
   "metadata": {},
   "source": [
    "In Python, abstract properties are properties defined in abstract base classes (ABCs) using the @property decorator combined with the @abstractmethod decorator from the abc module. Abstract properties enforce that subclasses must provide an implementation for these properties, ensuring a consistent interface across different implementations.\n",
    "\n",
    "Use of Abstract Properties:\n",
    "Defining Abstract Properties:\n",
    "\n",
    "Abstract properties are used to define attributes that subclasses are required to implement.\n",
    "They provide a way to specify the structure of data that subclasses must adhere to, without dictating the implementation details.\n",
    "Implementation in Abstract Classes:\n",
    "\n",
    "Abstract properties are defined in abstract base classes using the @property decorator along with the @abstractmethod decorator.\n",
    "Subclasses must override these properties with their own implementations to provide values specific to their context.\n",
    "Enforcing Interface Consistency:\n",
    "\n",
    "Abstract properties help enforce a consistent interface across multiple subclasses.\n",
    "They ensure that subclasses provide necessary data attributes or properties, promoting code clarity and reducing errors."
   ]
  },
  {
   "cell_type": "code",
   "execution_count": 67,
   "metadata": {},
   "outputs": [
    {
     "name": "stdout",
     "output_type": "stream",
     "text": [
      "Circle Area: 78.5\n",
      "Circle with radius 5\n",
      "Rectangle Area: 24\n",
      "Rectangle with length 4 and width 6\n"
     ]
    }
   ],
   "source": [
    "from abc import ABC, abstractmethod\n",
    "\n",
    "# Abstract base class: Shape\n",
    "class Shape(ABC):\n",
    "    @property\n",
    "    @abstractmethod\n",
    "    def area(self):\n",
    "        pass\n",
    "\n",
    "    @abstractmethod\n",
    "    def display_info(self):\n",
    "        pass\n",
    "\n",
    "# Concrete subclass: Circle\n",
    "class Circle(Shape):\n",
    "    def __init__(self, radius):\n",
    "        self.radius = radius\n",
    "    \n",
    "    @property\n",
    "    def area(self):\n",
    "        return 3.14 * self.radius * self.radius\n",
    "\n",
    "    def display_info(self):\n",
    "        print(f\"Circle with radius {self.radius}\")\n",
    "\n",
    "# Concrete subclass: Rectangle\n",
    "class Rectangle(Shape):\n",
    "    def __init__(self, length, width):\n",
    "        self.length = length\n",
    "        self.width = width\n",
    "    \n",
    "    @property\n",
    "    def area(self):\n",
    "        return self.length * self.width\n",
    "\n",
    "    def display_info(self):\n",
    "        print(f\"Rectangle with length {self.length} and width {self.width}\")\n",
    "\n",
    "# Usage example\n",
    "if __name__ == \"__main__\":\n",
    "    circle = Circle(5)\n",
    "    rectangle = Rectangle(4, 6)\n",
    "\n",
    "    # Calling abstract property and method\n",
    "    print(\"Circle Area:\", circle.area)\n",
    "    circle.display_info()\n",
    "\n",
    "    print(\"Rectangle Area:\", rectangle.area)\n",
    "    rectangle.display_info()\n"
   ]
  },
  {
   "attachments": {},
   "cell_type": "markdown",
   "metadata": {},
   "source": [
    "13. Create a Python class hierarchy for employees in a company (e.g., manager, developer, designer) and implement abstraction by defining a common `get_salary()` method."
   ]
  },
  {
   "attachments": {},
   "cell_type": "markdown",
   "metadata": {},
   "source": [
    "To demonstrate abstraction in Python with a class hierarchy for employees in a company, we'll create an abstract base class Employee with an abstract method get_salary(). Subclasses such as Manager, Developer, and Designer will inherit from Employee and provide specific implementations for calculating salaries according to their roles."
   ]
  },
  {
   "cell_type": "code",
   "execution_count": 68,
   "metadata": {},
   "outputs": [
    {
     "name": "stdout",
     "output_type": "stream",
     "text": [
      "Alice's salary: $10,000.00\n",
      "Bob's salary: $8,000.00\n",
      "Carol's salary: $15,000.00\n"
     ]
    }
   ],
   "source": [
    "from abc import ABC, abstractmethod\n",
    "\n",
    "# Abstract base class: Employee\n",
    "class Employee(ABC):\n",
    "    def __init__(self, name, employee_id):\n",
    "        self.name = name\n",
    "        self.employee_id = employee_id\n",
    "    \n",
    "    @abstractmethod\n",
    "    def get_salary(self):\n",
    "        pass\n",
    "\n",
    "# Concrete subclass: Manager\n",
    "class Manager(Employee):\n",
    "    def __init__(self, name, employee_id, salary):\n",
    "        super().__init__(name, employee_id)\n",
    "        self.salary = salary\n",
    "    \n",
    "    def get_salary(self):\n",
    "        return self.salary\n",
    "\n",
    "# Concrete subclass: Developer\n",
    "class Developer(Employee):\n",
    "    def __init__(self, name, employee_id, hourly_rate, hours_worked):\n",
    "        super().__init__(name, employee_id)\n",
    "        self.hourly_rate = hourly_rate\n",
    "        self.hours_worked = hours_worked\n",
    "    \n",
    "    def get_salary(self):\n",
    "        return self.hourly_rate * self.hours_worked\n",
    "\n",
    "# Concrete subclass: Designer\n",
    "class Designer(Employee):\n",
    "    def __init__(self, name, employee_id, base_salary, commission_rate, sales):\n",
    "        super().__init__(name, employee_id)\n",
    "        self.base_salary = base_salary\n",
    "        self.commission_rate = commission_rate\n",
    "        self.sales = sales\n",
    "    \n",
    "    def get_salary(self):\n",
    "        return self.base_salary + (self.commission_rate * self.sales)\n",
    "\n",
    "# Usage example\n",
    "if __name__ == \"__main__\":\n",
    "    manager = Manager(\"Alice\", \"M001\", 10000)\n",
    "    developer = Developer(\"Bob\", \"D001\", 50, 160)\n",
    "    designer = Designer(\"Carol\", \"DS001\", 5000, 0.1, 100000)\n",
    "\n",
    "    # Calling common method\n",
    "    print(f\"{manager.name}'s salary: ${manager.get_salary():,.2f}\")\n",
    "    print(f\"{developer.name}'s salary: ${developer.get_salary():,.2f}\")\n",
    "    print(f\"{designer.name}'s salary: ${designer.get_salary():,.2f}\")\n"
   ]
  },
  {
   "attachments": {},
   "cell_type": "markdown",
   "metadata": {},
   "source": [
    "14. Discuss the differences between abstract classes and concrete classes in Python, including their\n",
    "instantiation"
   ]
  },
  {
   "attachments": {},
   "cell_type": "markdown",
   "metadata": {},
   "source": [
    "In Python, abstract classes and concrete classes serve different purposes and have distinct characteristics, particularly concerning their instantiation and usage. Let's discuss the differences between abstract classes and concrete classes in Python:\n",
    "\n",
    "Abstract Classes:\n",
    "Definition:\n",
    "\n",
    "Abstract classes are classes that cannot be instantiated directly.\n",
    "They are meant to be subclassed and typically contain one or more abstract methods (methods without implementations) defined using the @abstractmethod decorator from the abc module.\n",
    "Purpose:\n",
    "\n",
    "Abstract classes serve as blueprints for other classes.\n",
    "They define a common interface that subclasses must adhere to by implementing abstract methods.\n",
    "Abstract classes can also include concrete methods (methods with implementations) that are inherited by subclasses.\n",
    "Instantiation:\n",
    "\n",
    "You cannot create an instance of an abstract class directly using the abstractclass() constructor.\n",
    "You must subclass the abstract class and provide implementations for all abstract methods to instantiate the subclass."
   ]
  },
  {
   "cell_type": "code",
   "execution_count": 69,
   "metadata": {},
   "outputs": [
    {
     "name": "stdout",
     "output_type": "stream",
     "text": [
      "Circle Area: 78.5\n"
     ]
    }
   ],
   "source": [
    "from abc import ABC, abstractmethod\n",
    "\n",
    "# Abstract base class\n",
    "class Shape(ABC):\n",
    "    @abstractmethod\n",
    "    def calculate_area(self):\n",
    "        pass\n",
    "\n",
    "# Concrete subclass\n",
    "class Circle(Shape):\n",
    "    def __init__(self, radius):\n",
    "        self.radius = radius\n",
    "\n",
    "    def calculate_area(self):\n",
    "        return 3.14 * self.radius * self.radius\n",
    "\n",
    "# Usage example\n",
    "circle = Circle(5)\n",
    "print(\"Circle Area:\", circle.calculate_area())\n"
   ]
  },
  {
   "attachments": {},
   "cell_type": "markdown",
   "metadata": {},
   "source": [
    "In Python, abstract classes and concrete classes are distinct in their characteristics, especially concerning instantiation and usage. Let's delve into the differences between abstract classes and concrete classes:\n",
    "\n",
    "Abstract Classes:\n",
    "Definition:\n",
    "\n",
    "Abstract classes are classes that cannot be instantiated directly.\n",
    "They are designed to be subclassed and typically contain one or more abstract methods, which are methods without any implementation defined using the @abstractmethod decorator from the abc module.\n",
    "Purpose:\n",
    "\n",
    "Abstract classes serve as templates or blueprints for other classes.\n",
    "They define a common interface that subclasses must adhere to by implementing abstract methods.\n",
    "Abstract classes may also include concrete methods (methods with implementations) that can be inherited by subclasses.\n",
    "Instantiation:\n",
    "\n",
    "You cannot create an instance of an abstract class directly using the class constructor (ClassName()).\n",
    "To use an abstract class, you must subclass it and provide implementations for all its abstract methods.\n",
    "Once all abstract methods are implemented in a subclass, you can instantiate the subclass."
   ]
  },
  {
   "attachments": {},
   "cell_type": "markdown",
   "metadata": {},
   "source": [
    "15. Explain the concept of abstract data types (ADTs) and their role in achieving abstraction in Python."
   ]
  },
  {
   "attachments": {},
   "cell_type": "markdown",
   "metadata": {},
   "source": [
    "Abstract Data Types (ADTs) refer to a theoretical concept in computer science that defines a data type based on its behavior (operations it supports) rather than its implementation details. ADTs encapsulate data and operations into a single unit, providing a clear interface for interacting with data structures without exposing internal workings.\n",
    "\n",
    "Role of ADTs in Achieving Abstraction in Python:\n",
    "Encapsulation of Data and Operations:\n",
    "\n",
    "ADTs encapsulate data and operations together, hiding the implementation details from the user.\n",
    "This encapsulation promotes information hiding, reducing complexity and making code easier to understand and maintain.\n",
    "Clear Interface:\n",
    "\n",
    "ADTs define a clear interface that specifies the behavior of the data type through a set of operations (methods).\n",
    "Users interact with the ADT through this interface, focusing on what the data type can do rather than how it accomplishes it.\n",
    "Flexibility and Reusability:\n",
    "\n",
    "By focusing on operations rather than implementation, ADTs allow for flexibility in choosing different implementations based on performance requirements or specific use cases.\n",
    "ADTs promote code reusability since the same interface can be implemented with different underlying data structures (e.g., lists, arrays, trees) depending on the needs.\n",
    "Example of ADTs in Python:\n",
    "Let's consider a simple example of an Abstract Data Type - a Stack. The Stack ADT supports operations like push(), pop(), peek(), and is_empty(). The implementation can vary (e.g., list-based, linked list-based), but the interface remains consistent:"
   ]
  },
  {
   "cell_type": "code",
   "execution_count": 70,
   "metadata": {},
   "outputs": [
    {
     "name": "stdout",
     "output_type": "stream",
     "text": [
      "Peek: 30\n",
      "Pop: 30\n",
      "Pop: 20\n",
      "Pop: 10\n"
     ]
    }
   ],
   "source": [
    "from abc import ABC, abstractmethod\n",
    "\n",
    "# Abstract Data Type: Stack\n",
    "class Stack(ABC):\n",
    "    @abstractmethod\n",
    "    def push(self, item):\n",
    "        pass\n",
    "    \n",
    "    @abstractmethod\n",
    "    def pop(self):\n",
    "        pass\n",
    "    \n",
    "    @abstractmethod\n",
    "    def peek(self):\n",
    "        pass\n",
    "    \n",
    "    @abstractmethod\n",
    "    def is_empty(self):\n",
    "        pass\n",
    "\n",
    "# Concrete implementation: ListStack\n",
    "class ListStack(Stack):\n",
    "    def __init__(self):\n",
    "        self.stack = []\n",
    "\n",
    "    def push(self, item):\n",
    "        self.stack.append(item)\n",
    "\n",
    "    def pop(self):\n",
    "        if not self.is_empty():\n",
    "            return self.stack.pop()\n",
    "        return None\n",
    "\n",
    "    def peek(self):\n",
    "        if not self.is_empty():\n",
    "            return self.stack[-1]\n",
    "        return None\n",
    "\n",
    "    def is_empty(self):\n",
    "        return len(self.stack) == 0\n",
    "\n",
    "# Usage example\n",
    "if __name__ == \"__main__\":\n",
    "    stack = ListStack()\n",
    "    stack.push(10)\n",
    "    stack.push(20)\n",
    "    stack.push(30)\n",
    "\n",
    "    print(\"Peek:\", stack.peek())   # Output: Peek: 30\n",
    "\n",
    "    while not stack.is_empty():\n",
    "        print(\"Pop:\", stack.pop()) # Output: Pop: 30, Pop: 20, Pop: 10\n"
   ]
  },
  {
   "attachments": {},
   "cell_type": "markdown",
   "metadata": {},
   "source": [
    "16. Create a Python class for a computer system, demonstrating abstraction by defining common methods (e.g., `power_on()`, `shutdown()`) in an abstract base class."
   ]
  },
  {
   "attachments": {},
   "cell_type": "markdown",
   "metadata": {},
   "source": [
    "Abstraction plays a pivotal role in large-scale software development projects by providing several significant benefits that contribute to code quality, maintainability, and scalability. Here are the key benefits of using abstraction in large-scale software development:\n",
    "\n",
    "1. Managing Complexity:\n",
    "Problem Decomposition: Abstraction allows developers to break down complex systems into smaller, manageable components. Each component focuses on specific tasks or responsibilities, reducing the overall complexity of the system.\n",
    "High-Level Design: Abstracting away low-level details allows developers and architects to focus on high-level design decisions, such as system architecture, module interactions, and business logic.\n",
    "2. Promoting Modularity:\n",
    "Encapsulation: Abstraction promotes encapsulation by hiding implementation details behind well-defined interfaces. This enables modules or components to be developed, tested, and maintained independently, fostering modularity.\n",
    "Code Reusability: Abstracting common functionalities into reusable components (such as libraries, frameworks, or design patterns) encourages code reusability across different parts of the system or even across projects.\n",
    "3. Enhancing Maintainability:\n",
    "Isolation of Changes: Changes to the implementation of an abstracted component can often be isolated and localized, minimizing the impact on other parts of the system. This makes maintenance and debugging easier and reduces the risk of unintended consequences.\n",
    "Easier Updates and Upgrades: Abstracted interfaces provide stable contracts between components. When upgrading or updating a system, developers can focus on ensuring compatibility at the interface level rather than worrying about internal changes.\n",
    "4. Facilitating Collaboration:\n",
    "Clear Interfaces: Abstraction defines clear boundaries and contracts between different parts of the system, making collaboration between teams or developers more efficient and less error-prone.\n",
    "Separation of Concerns: By separating concerns into distinct components or layers (e.g., presentation layer, business logic layer, data access layer), teams can work independently on their areas of expertise without unnecessary overlap.\n",
    "5. Improving Scalability:\n",
    "Flexible Architecture: Abstracting components allows the system to scale more easily. New features can be added or existing features modified without restructuring the entire system, provided that the abstractions are well-designed and adhered to.\n",
    "Performance Optimization: Abstracting performance-critical components allows developers to optimize specific parts of the system without affecting the overall architecture, leading to better performance scalability.\n",
    "6. Supporting Agile Development Practices:\n",
    "Iterative Development: Abstraction supports iterative development by allowing teams to focus on delivering incremental improvements to specific components or features.\n",
    "Continuous Integration and Deployment (CI/CD): Well-abstracted components facilitate automated testing, integration, and deployment pipelines, ensuring robustness and reliability in continuous delivery environments.\n",
    "Example Scenario:\n",
    "Imagine a large e-commerce platform where abstraction is applied effectively:\n",
    "\n",
    "Abstraction Layers: The platform may have layers for user authentication, product catalog management, order processing, and payment handling, each abstracted into well-defined services or modules.\n",
    "Interface Contracts: Each layer exposes clear APIs or interfaces that define how other parts of the system interact with it, regardless of the internal implementation.\n",
    "Scalability: As customer demand grows, new services can be added or existing ones scaled independently, leveraging the clear boundaries and contracts provided by abstraction.\n",
    "In conclusion, abstraction in large-scale software development projects leads to better code organization, improved maintainability, enhanced collaboration, and scalability. It enables teams to manage complexity effectively, promote modularity and code reuse, and support agile development practices, ultimately contributing to the success and longevity of software systems."
   ]
  },
  {
   "attachments": {},
   "cell_type": "markdown",
   "metadata": {},
   "source": [
    "18. Explain how abstraction enhances code reusability and modularity in Python programs."
   ]
  },
  {
   "attachments": {},
   "cell_type": "markdown",
   "metadata": {},
   "source": [
    "Abstraction plays a crucial role in enhancing code reusability and modularity in Python programs by promoting encapsulation, defining clear interfaces, and separating concerns. Let's delve into how abstraction achieves these benefits:\n",
    "\n",
    "1. Encapsulation and Information Hiding:\n",
    "Encapsulation: Abstraction allows you to encapsulate the implementation details of a component or module behind a well-defined interface or API.\n",
    "Information Hiding: By hiding the internal workings of a component, abstraction prevents users from directly accessing or modifying its implementation details. Instead, users interact with the component through its exposed interface.\n",
    "2. Defining Clear Interfaces:\n",
    "Interface Definition: Abstraction defines clear boundaries and contracts through interfaces. These interfaces specify what functionalities are provided without exposing how those functionalities are implemented.\n",
    "Standardized Usage: With well-defined interfaces, developers can use components without needing to understand their internal complexities. This standardized usage simplifies integration and promotes consistency across different parts of the codebase.\n",
    "3. Promoting Code Reusability:\n",
    "Reusable Components: Abstracted components are designed to be reusable across different parts of an application or even across multiple applications.\n",
    "Plug-and-Play: Because abstraction hides implementation details, you can plug in different implementations that adhere to the same interface. For example, switching between different data storage solutions (like databases or file systems) becomes easier when using abstraction.\n",
    "4. Facilitating Modularity:\n",
    "Separation of Concerns: Abstraction facilitates the separation of concerns by allowing developers to focus on specific functionalities or features independently.\n",
    "Modular Development: With well-defined interfaces, different modules can be developed, tested, and maintained independently. This modular approach reduces dependencies and improves the overall structure and maintainability of the codebase."
   ]
  },
  {
   "attachments": {},
   "cell_type": "markdown",
   "metadata": {},
   "source": [
    "19. Create a Python class for a library system, implementing abstraction by defining common methods (e.g., `add_book()`, `borrow_book()`) in an abstract base class."
   ]
  },
  {
   "cell_type": "code",
   "execution_count": 73,
   "metadata": {},
   "outputs": [
    {
     "name": "stdout",
     "output_type": "stream",
     "text": [
      "Book 'Python Programming' by John Doe added to the library.\n",
      "DVD 'Inception' directed by Christopher Nolan added to the library.\n",
      "Book 'Python Programming' has been borrowed.\n",
      "DVD 'Inception' has been borrowed.\n",
      "Book 'Python Programming' is already borrowed.\n",
      "Book 'Python Programming' has been returned to the library.\n",
      "DVD 'Inception' has been returned to the library.\n"
     ]
    }
   ],
   "source": [
    "from abc import ABC, abstractmethod\n",
    "\n",
    "# Abstract base class defining library item interface\n",
    "class LibraryItem(ABC):\n",
    "    def __init__(self, title, author):\n",
    "        self.title = title\n",
    "        self.author = author\n",
    "        self.is_borrowed = False\n",
    "\n",
    "    @abstractmethod\n",
    "    def add_item(self):\n",
    "        pass\n",
    "    \n",
    "    @abstractmethod\n",
    "    def borrow_item(self):\n",
    "        pass\n",
    "    \n",
    "    @abstractmethod\n",
    "    def return_item(self):\n",
    "        pass\n",
    "\n",
    "# Concrete class representing a Book in the library\n",
    "class Book(LibraryItem):\n",
    "    def __init__(self, title, author, isbn):\n",
    "        super().__init__(title, author)\n",
    "        self.isbn = isbn\n",
    "\n",
    "    def add_item(self):\n",
    "        # Logic to add a book to the library catalog\n",
    "        print(f\"Book '{self.title}' by {self.author} added to the library.\")\n",
    "\n",
    "    def borrow_item(self):\n",
    "        if not self.is_borrowed:\n",
    "            self.is_borrowed = True\n",
    "            print(f\"Book '{self.title}' has been borrowed.\")\n",
    "        else:\n",
    "            print(f\"Book '{self.title}' is already borrowed.\")\n",
    "\n",
    "    def return_item(self):\n",
    "        if self.is_borrowed:\n",
    "            self.is_borrowed = False\n",
    "            print(f\"Book '{self.title}' has been returned to the library.\")\n",
    "        else:\n",
    "            print(f\"Book '{self.title}' was not borrowed.\")\n",
    "\n",
    "# Concrete class representing a DVD in the library\n",
    "class DVD(LibraryItem):\n",
    "    def __init__(self, title, director, release_year):\n",
    "        super().__init__(title, director)\n",
    "        self.release_year = release_year\n",
    "\n",
    "    def add_item(self):\n",
    "        # Logic to add a DVD to the library catalog\n",
    "        print(f\"DVD '{self.title}' directed by {self.author} added to the library.\")\n",
    "\n",
    "    def borrow_item(self):\n",
    "        if not self.is_borrowed:\n",
    "            self.is_borrowed = True\n",
    "            print(f\"DVD '{self.title}' has been borrowed.\")\n",
    "        else:\n",
    "            print(f\"DVD '{self.title}' is already borrowed.\")\n",
    "\n",
    "    def return_item(self):\n",
    "        if self.is_borrowed:\n",
    "            self.is_borrowed = False\n",
    "            print(f\"DVD '{self.title}' has been returned to the library.\")\n",
    "        else:\n",
    "            print(f\"DVD '{self.title}' was not borrowed.\")\n",
    "\n",
    "# Example usage\n",
    "if __name__ == \"__main__\":\n",
    "    # Create instances of Book and DVD\n",
    "    book1 = Book(\"Python Programming\", \"John Doe\", \"978-0134444321\")\n",
    "    dvd1 = DVD(\"Inception\", \"Christopher Nolan\", 2010)\n",
    "\n",
    "    # Add items to the library\n",
    "    book1.add_item()\n",
    "    dvd1.add_item()\n",
    "\n",
    "    # Borrow and return items\n",
    "    book1.borrow_item()\n",
    "    dvd1.borrow_item()\n",
    "    book1.borrow_item()\n",
    "    book1.return_item()\n",
    "    dvd1.return_item()\n"
   ]
  },
  {
   "attachments": {},
   "cell_type": "markdown",
   "metadata": {},
   "source": [
    "20. Describe the concept of method abstraction in Python and how it relates to polymorphism."
   ]
  },
  {
   "attachments": {},
   "cell_type": "markdown",
   "metadata": {},
   "source": [
    "In Python, method abstraction refers to the concept of defining methods in a way that hides the implementation details from the user while providing a clear interface for interaction. This approach allows developers to focus on what needs to be done rather than how it is done, promoting modularity, code reusability, and maintainability. Method abstraction is closely related to polymorphism, as both concepts involve using interfaces to interact with objects or functions without needing to know their specific implementations.\n",
    "\n",
    "Method Abstraction in Python:\n",
    "Encapsulation:\n",
    "\n",
    "Method abstraction encapsulates the implementation details within a class or function.\n",
    "Users interact with methods through well-defined interfaces, which hide the complexities of the underlying implementation.\n",
    "Clear Interfaces:\n",
    "\n",
    "Abstracting methods involves defining clear boundaries and contracts using method signatures (names, parameters, return types).\n",
    "These interfaces specify what operations can be performed without exposing how those operations are implemented internally.\n",
    "Implementation Hiding:\n",
    "\n",
    "By hiding the implementation details, method abstraction promotes information hiding and reduces complexity.\n",
    "This allows developers to modify or optimize the implementation without affecting the external interface used by other parts of the code.\n",
    "Method Abstraction and Polymorphism:\n",
    "Polymorphism refers to the ability of different objects to respond to the same method call in different ways.\n",
    "In Python, polymorphism is typically achieved through method overriding, where subclasses provide their own implementation of methods defined in their superclass or interface."
   ]
  },
  {
   "cell_type": "code",
   "execution_count": 74,
   "metadata": {},
   "outputs": [
    {
     "name": "stdout",
     "output_type": "stream",
     "text": [
      "Area of the shape is: 78.5\n",
      "Area of the shape is: 24\n"
     ]
    }
   ],
   "source": [
    "from abc import ABC, abstractmethod\n",
    "\n",
    "# Abstract base class for Shape\n",
    "class Shape(ABC):\n",
    "    @abstractmethod\n",
    "    def calculate_area(self):\n",
    "        pass\n",
    "\n",
    "# Concrete class Circle inheriting from Shape\n",
    "class Circle(Shape):\n",
    "    def __init__(self, radius):\n",
    "        self.radius = radius\n",
    "\n",
    "    def calculate_area(self):\n",
    "        return 3.14 * self.radius * self.radius\n",
    "\n",
    "# Concrete class Rectangle inheriting from Shape\n",
    "class Rectangle(Shape):\n",
    "    def __init__(self, width, height):\n",
    "        self.width = width\n",
    "        self.height = height\n",
    "\n",
    "    def calculate_area(self):\n",
    "        return self.width * self.height\n",
    "\n",
    "# Function demonstrating polymorphism\n",
    "def print_area(shape):\n",
    "    if isinstance(shape, Shape):\n",
    "        area = shape.calculate_area()\n",
    "        print(f\"Area of the shape is: {area}\")\n",
    "    else:\n",
    "        print(\"Invalid shape provided\")\n",
    "\n",
    "# Usage example\n",
    "if __name__ == \"__main__\":\n",
    "    circle = Circle(5)\n",
    "    rectangle = Rectangle(4, 6)\n",
    "\n",
    "    print_area(circle)      # Output: Area of the shape is: 78.5\n",
    "    print_area(rectangle)   # Output: Area of the shape is: 24\n"
   ]
  },
  {
   "attachments": {},
   "cell_type": "markdown",
   "metadata": {},
   "source": [
    "Composition:\n"
   ]
  },
  {
   "attachments": {},
   "cell_type": "markdown",
   "metadata": {},
   "source": [
    "1. Explain the concept of composition in Python and how it is used to build complex objects from simpler ones"
   ]
  },
  {
   "attachments": {},
   "cell_type": "markdown",
   "metadata": {},
   "source": [
    "Composition in Python refers to the practice of creating complex objects by combining simpler objects or components. It is a fundamental principle of object-oriented programming (OOP) where objects can contain other objects as part of their state. This allows for building complex behaviors and structures by assembling smaller, more manageable parts.\n",
    "\n",
    "Key Concepts of Composition:\n",
    "Object Containment:\n",
    "\n",
    "In composition, objects are contained within other objects as attributes.\n",
    "These contained objects are typically instances of other classes and are used to provide specific functionalities or behaviors to the containing object.\n",
    "Has-A Relationship:\n",
    "\n",
    "Composition establishes a \"has-a\" relationship between classes, where one class (containing object) has another class (contained object) as part of its state.\n",
    "This relationship is often described as the containing object having or owning the contained object.\n",
    "Building Complex Objects:\n",
    "\n",
    "By combining simpler objects through composition, complex objects can be built that exhibit behaviors and functionalities beyond what each individual object provides on its own.\n",
    "Composition supports modular design and promotes code reuse by allowing components to be independently developed and tested."
   ]
  },
  {
   "cell_type": "code",
   "execution_count": 75,
   "metadata": {},
   "outputs": [
    {
     "name": "stdout",
     "output_type": "stream",
     "text": [
      "Car starts: Engine started\n",
      "Car stops: Engine stopped\n"
     ]
    }
   ],
   "source": [
    "# Engine class as a component\n",
    "class Engine:\n",
    "    def start(self):\n",
    "        return \"Engine started\"\n",
    "    \n",
    "    def stop(self):\n",
    "        return \"Engine stopped\"\n",
    "\n",
    "# Car class using composition with Engine\n",
    "class Car:\n",
    "    def __init__(self):\n",
    "        self.engine = Engine()  # Engine instance as an attribute\n",
    "    \n",
    "    def start(self):\n",
    "        return f\"Car starts: {self.engine.start()}\"\n",
    "    \n",
    "    def stop(self):\n",
    "        return f\"Car stops: {self.engine.stop()}\"\n",
    "\n",
    "# Usage example\n",
    "if __name__ == \"__main__\":\n",
    "    my_car = Car()\n",
    "    print(my_car.start())   # Output: Car starts: Engine started\n",
    "    print(my_car.stop())    # Output: Car stops: Engine stopped\n"
   ]
  },
  {
   "attachments": {},
   "cell_type": "markdown",
   "metadata": {},
   "source": [
    "2. Describe the difference between composition and inheritance in object-oriented programming."
   ]
  },
  {
   "attachments": {},
   "cell_type": "markdown",
   "metadata": {},
   "source": [
    "In object-oriented programming (OOP), composition and inheritance are two fundamental principles for building relationships between classes and objects. Both concepts facilitate code reuse and promote modular design, but they differ in their approach and use cases. Here's a comparison between composition and inheritance:\n",
    "\n",
    "Composition:\n",
    "Relationship Type:\n",
    "\n",
    "Has-A Relationship: Composition establishes a relationship where one class (the containing or composite class) contains another class (the component or contained class) as a part of its state.\n",
    "Example: A Car has an Engine.\n",
    "Usage:\n",
    "\n",
    "Composition is used to build complex objects by combining simpler objects or components.\n",
    "It allows for creating flexible and modular designs where components can be reused independently across different classes.\n",
    "Components can be easily replaced or modified without affecting the containing classes"
   ]
  },
  {
   "cell_type": "code",
   "execution_count": 76,
   "metadata": {},
   "outputs": [],
   "source": [
    "class Engine:\n",
    "    def start(self):\n",
    "        return \"Engine started\"\n",
    "    \n",
    "    def stop(self):\n",
    "        return \"Engine stopped\"\n",
    "\n",
    "class Car:\n",
    "    def __init__(self):\n",
    "        self.engine = Engine()\n",
    "    \n",
    "    def start(self):\n",
    "        return f\"Car starts: {self.engine.start()}\"\n",
    "    \n",
    "    def stop(self):\n",
    "        return f\"Car stops: {self.engine.stop()}\"\n"
   ]
  },
  {
   "attachments": {},
   "cell_type": "markdown",
   "metadata": {},
   "source": [
    "Advantages:\n",
    "\n",
    "Promotes loosely coupled designs.\n",
    "Supports encapsulation by hiding the implementation details of components.\n",
    "Enhances flexibility and maintainability.\n",
    "Drawbacks:\n",
    "\n",
    "Can lead to deeper object hierarchies if overused, making the system more complex.\n",
    "Inheritance:\n",
    "Relationship Type:\n",
    "\n",
    "Is-A Relationship: Inheritance establishes an \"is-a\" relationship where one class (the subclass or derived class) inherits attributes and behaviors from another class (the superclass or base class).\n",
    "Example: A Car is a Vehicle.\n",
    "Usage:\n",
    "\n",
    "Inheritance is used to create new classes (subclasses) based on existing classes (superclasses) to promote code reuse and specialization.\n",
    "Subclasses inherit attributes and methods from their superclasses and can override or extend them to provide specific behaviors"
   ]
  },
  {
   "cell_type": "code",
   "execution_count": 77,
   "metadata": {},
   "outputs": [],
   "source": [
    "class Vehicle:\n",
    "    def start(self):\n",
    "        return \"Vehicle started\"\n",
    "    \n",
    "    def stop(self):\n",
    "        return \"Vehicle stopped\"\n",
    "\n",
    "class Car(Vehicle):\n",
    "    def __init__(self):\n",
    "        super().__init__()\n",
    "    \n",
    "    def start(self):\n",
    "        return f\"Car starts: {super().start()}\"\n",
    "    \n",
    "    def stop(self):\n",
    "        return f\"Car stops: {super().stop()}\"\n"
   ]
  },
  {
   "attachments": {},
   "cell_type": "markdown",
   "metadata": {},
   "source": [
    "Advantages:\n",
    "\n",
    "Promotes code reuse and supports the principle of polymorphism.\n",
    "Provides a hierarchical structure where classes can be organized based on their similarities and differences.\n",
    "Enhances consistency and reduces redundancy in the codebase.\n",
    "Drawbacks:\n",
    "\n",
    "Can lead to tight coupling between classes, making the system less flexible to changes.\n",
    "Changes in the superclass can affect all its subclasses, potentially introducing unintended side effects.\n",
    "Key Differences:\n",
    "Relationship Type: Composition establishes a \"has-a\" relationship, while inheritance establishes an \"is-a\" relationship.\n",
    "Flexibility: Composition offers more flexibility as components can be easily replaced or modified independently. Inheritance promotes code reuse through specialization but can lead to tighter coupling.\n",
    "Code Structure: Composition creates objects by assembling parts, whereas inheritance creates hierarchical relationships between classes.\n",
    "Complexity: Composition tends to reduce complexity by breaking down functionalities into smaller, reusable components. In contrast, inheritance can increase complexity if the hierarchy becomes deep or complex.\n",
    "When to Use Each:\n",
    "Composition: Use composition when classes need to use functionalities provided by other classes as components or when building complex objects from simpler parts.\n",
    "Inheritance: Use inheritance when classes share a common behavior or interface, and you want to promote code reuse and specialization.\n",
    "In summary, both composition and inheritance are essential concepts in OOP, each offering distinct advantages and use cases. The choice between composition and inheritance depends on the specific requirements of the design and the desired relationships between classes and objects in the system."
   ]
  },
  {
   "attachments": {},
   "cell_type": "markdown",
   "metadata": {},
   "source": [
    "3. Create a Python class called `Author` with attributes for name and birthdate. Then, create a `Book` class\n",
    "that contains an instance of `Author` as a composition. Provide an example of creating a `Book` object."
   ]
  },
  {
   "cell_type": "code",
   "execution_count": 78,
   "metadata": {},
   "outputs": [
    {
     "name": "stdout",
     "output_type": "stream",
     "text": [
      "Book Title: Harry Potter and the Philosopher's Stone\n",
      "Written by Author: J.K. Rowling, born on July 31, 1965\n"
     ]
    }
   ],
   "source": [
    "class Author:\n",
    "    def __init__(self, name, birthdate):\n",
    "        self.name = name\n",
    "        self.birthdate = birthdate\n",
    "    \n",
    "    def __str__(self):\n",
    "        return f\"Author: {self.name}, born on {self.birthdate}\"\n",
    "\n",
    "class Book:\n",
    "    def __init__(self, title, author_name, author_birthdate):\n",
    "        self.title = title\n",
    "        self.author = Author(author_name, author_birthdate)\n",
    "    \n",
    "    def __str__(self):\n",
    "        return f\"Book Title: {self.title}\\nWritten by {self.author}\"\n",
    "\n",
    "# Example usage:\n",
    "if __name__ == \"__main__\":\n",
    "    # Create an Author instance\n",
    "    author1 = Author(\"J.K. Rowling\", \"July 31, 1965\")\n",
    "    \n",
    "    # Create a Book instance using composition\n",
    "    book1 = Book(\"Harry Potter and the Philosopher's Stone\", author1.name, author1.birthdate)\n",
    "    \n",
    "    # Print Book details\n",
    "    print(book1)\n"
   ]
  },
  {
   "attachments": {},
   "cell_type": "markdown",
   "metadata": {},
   "source": [
    "4. Discuss the benefits of using composition over inheritance in Python, especially in terms of code flexibility\n",
    "and reusability"
   ]
  },
  {
   "attachments": {},
   "cell_type": "markdown",
   "metadata": {},
   "source": [
    "Using composition over inheritance in Python (and generally in object-oriented programming) offers several benefits, particularly in terms of code flexibility and reusability. Here’s a detailed discussion on why composition is often favored over inheritance:\n",
    "\n",
    "Benefits of Composition over Inheritance:\n",
    "Flexibility in Object Structure:\n",
    "\n",
    "Modular Design: Composition allows you to build objects by combining simpler components. Each component (class) is responsible for a specific aspect of functionality, promoting modular and reusable code.\n",
    "Enhanced Flexibility: You can easily change or replace components without affecting the containing class. This reduces the risk of unintended side effects that can occur with deep and rigid class hierarchies in inheritance.\n",
    "Reduced Coupling:\n",
    "\n",
    "Loose Coupling: Composition promotes loose coupling between classes. Classes are not dependent on the implementation details of each other but only on their public interfaces. This improves maintainability and reduces the impact of changes in one class on others.\n",
    "Encapsulation: Each component class can encapsulate its own behavior and data, hiding implementation details from the containing class. This simplifies understanding and debugging of code.\n",
    "Code Reusability:\n",
    "\n",
    "Component Reusability: Components (classes) used in composition can be independently developed, tested, and reused in different contexts. This promotes code reusability and avoids redundancy.\n",
    "Behavior Reuse: Instead of inheriting behaviors from a superclass, classes can delegate to other classes (components) that provide specific functionalities. This allows for more targeted and efficient reuse of code.\n",
    "Dynamic Behavior Composition:\n",
    "\n",
    "Runtime Behavior: Composition allows you to change the behavior of an object dynamically at runtime by swapping components or adding new ones. This flexibility is useful in scenarios where behaviors need to vary based on runtime conditions.\n",
    "Avoiding the Diamond Problem:\n",
    "\n",
    "Complexity Reduction: Inheritance hierarchies can lead to the diamond problem (when multiple classes inherit from the same superclass), resulting in ambiguity and potential conflicts. Composition avoids this problem by structuring classes based on collaboration rather than hierarchy."
   ]
  },
  {
   "cell_type": "code",
   "execution_count": 79,
   "metadata": {},
   "outputs": [
    {
     "name": "stdout",
     "output_type": "stream",
     "text": [
      "Engine started and Gear shifted\n"
     ]
    }
   ],
   "source": [
    "class Engine:\n",
    "    def start(self):\n",
    "        return \"Engine started\"\n",
    "    \n",
    "    def stop(self):\n",
    "        return \"Engine stopped\"\n",
    "\n",
    "class Transmission:\n",
    "    def shift_gear(self):\n",
    "        return \"Gear shifted\"\n",
    "\n",
    "class Vehicle:\n",
    "    def __init__(self, engine, transmission):\n",
    "        self.engine = engine\n",
    "        self.transmission = transmission\n",
    "    \n",
    "    def start(self):\n",
    "        return f\"{self.engine.start()} and {self.transmission.shift_gear()}\"\n",
    "\n",
    "# Example usage\n",
    "if __name__ == \"__main__\":\n",
    "    engine = Engine()\n",
    "    transmission = Transmission()\n",
    "    vehicle = Vehicle(engine, transmission)\n",
    "    \n",
    "    print(vehicle.start())  # Output: Engine started and Gear shifted\n"
   ]
  },
  {
   "attachments": {},
   "cell_type": "markdown",
   "metadata": {},
   "source": [
    "5. How can you implement composition in Python classes? Provide examples of using composition to create\n",
    "complex objects."
   ]
  },
  {
   "cell_type": "code",
   "execution_count": 80,
   "metadata": {},
   "outputs": [
    {
     "name": "stdout",
     "output_type": "stream",
     "text": [
      "John Doe - Manager\n",
      "Jane Smith - Developer\n"
     ]
    }
   ],
   "source": [
    "class Employee:\n",
    "    def __init__(self, name, position):\n",
    "        self.name = name\n",
    "        self.position = position\n",
    "    \n",
    "    def __str__(self):\n",
    "        return f\"{self.name} - {self.position}\"\n",
    "\n",
    "class Company:\n",
    "    def __init__(self, name):\n",
    "        self.name = name\n",
    "        self.employees = []  # Composition: Company has a list of Employee objects\n",
    "    \n",
    "    def add_employee(self, employee):\n",
    "        self.employees.append(employee)\n",
    "    \n",
    "    def list_employees(self):\n",
    "        for employee in self.employees:\n",
    "            print(employee)\n",
    "\n",
    "# Example usage\n",
    "if __name__ == \"__main__\":\n",
    "    company = Company(\"Tech Corp\")\n",
    "    emp1 = Employee(\"John Doe\", \"Manager\")\n",
    "    emp2 = Employee(\"Jane Smith\", \"Developer\")\n",
    "    \n",
    "    company.add_employee(emp1)\n",
    "    company.add_employee(emp2)\n",
    "    \n",
    "    company.list_employees()\n"
   ]
  },
  {
   "cell_type": "code",
   "execution_count": 81,
   "metadata": {},
   "outputs": [
    {
     "name": "stdout",
     "output_type": "stream",
     "text": [
      "Engine started and Gear shifted\n"
     ]
    }
   ],
   "source": [
    "class Engine:\n",
    "    def start(self):\n",
    "        return \"Engine started\"\n",
    "    \n",
    "    def stop(self):\n",
    "        return \"Engine stopped\"\n",
    "\n",
    "class Transmission:\n",
    "    def shift_gear(self):\n",
    "        return \"Gear shifted\"\n",
    "\n",
    "class Vehicle:\n",
    "    def __init__(self):\n",
    "        self.engine = Engine()             # Composition: Vehicle has an Engine\n",
    "        self.transmission = Transmission() # Composition: Vehicle has a Transmission\n",
    "    \n",
    "    def start(self):\n",
    "        return f\"{self.engine.start()} and {self.transmission.shift_gear()}\"\n",
    "\n",
    "# Example usage\n",
    "if __name__ == \"__main__\":\n",
    "    vehicle = Vehicle()\n",
    "    print(vehicle.start())  # Output: Engine started and Gear shifted\n"
   ]
  },
  {
   "attachments": {},
   "cell_type": "markdown",
   "metadata": {},
   "source": [
    "6. Create a Python class hierarchy for a music player system, using composition to represent playlists and\n",
    "songs."
   ]
  },
  {
   "attachments": {},
   "cell_type": "markdown",
   "metadata": {},
   "source": [
    "Creating a Python class hierarchy for a music player system involves using composition to represent playlists and songs as components of the music player. Let's design a simple example:\n",
    "\n",
    "Class Hierarchy for Music Player System:\n",
    "Song Class:\n",
    "\n",
    "Represents a song with attributes like title, artist, and duration.\n",
    "Playlist Class:\n",
    "\n",
    "Represents a playlist containing multiple songs.\n",
    "MusicPlayer Class:\n",
    "\n",
    "Represents the main music player system that contains playlists"
   ]
  },
  {
   "cell_type": "code",
   "execution_count": 82,
   "metadata": {},
   "outputs": [
    {
     "name": "stdout",
     "output_type": "stream",
     "text": [
      "Playlist: Pop Hits\n",
      "Shape of You - Ed Sheeran [240]\n",
      "Someone Like You - Adele [300]\n",
      "Total Duration: 540 seconds\n",
      "\n",
      "Playlist: Latin Songs\n",
      "Despacito - Luis Fonsi [270]\n",
      "Total Duration: 270 seconds\n",
      "\n"
     ]
    }
   ],
   "source": [
    "class Song:\n",
    "    def __init__(self, title, artist, duration):\n",
    "        self.title = title\n",
    "        self.artist = artist\n",
    "        self.duration = duration\n",
    "    \n",
    "    def __str__(self):\n",
    "        return f\"{self.title} - {self.artist} [{self.duration}]\"\n",
    "\n",
    "class Playlist:\n",
    "    def __init__(self, name):\n",
    "        self.name = name\n",
    "        self.songs = []  # List to store Song objects\n",
    "    \n",
    "    def add_song(self, song):\n",
    "        self.songs.append(song)\n",
    "    \n",
    "    def list_songs(self):\n",
    "        for song in self.songs:\n",
    "            print(song)\n",
    "    \n",
    "    def total_duration(self):\n",
    "        total = 0\n",
    "        for song in self.songs:\n",
    "            total += song.duration\n",
    "        return total\n",
    "\n",
    "class MusicPlayer:\n",
    "    def __init__(self):\n",
    "        self.playlists = []  # List to store Playlist objects\n",
    "    \n",
    "    def add_playlist(self, playlist):\n",
    "        self.playlists.append(playlist)\n",
    "    \n",
    "    def list_playlists(self):\n",
    "        for playlist in self.playlists:\n",
    "            print(f\"Playlist: {playlist.name}\")\n",
    "            playlist.list_songs()\n",
    "            print(f\"Total Duration: {playlist.total_duration()} seconds\")\n",
    "            print()\n",
    "\n",
    "# Example usage\n",
    "if __name__ == \"__main__\":\n",
    "    # Creating songs\n",
    "    song1 = Song(\"Shape of You\", \"Ed Sheeran\", 240)\n",
    "    song2 = Song(\"Someone Like You\", \"Adele\", 300)\n",
    "    song3 = Song(\"Despacito\", \"Luis Fonsi\", 270)\n",
    "    \n",
    "    # Creating playlists\n",
    "    playlist1 = Playlist(\"Pop Hits\")\n",
    "    playlist1.add_song(song1)\n",
    "    playlist1.add_song(song2)\n",
    "    \n",
    "    playlist2 = Playlist(\"Latin Songs\")\n",
    "    playlist2.add_song(song3)\n",
    "    \n",
    "    # Creating music player and adding playlists\n",
    "    player = MusicPlayer()\n",
    "    player.add_playlist(playlist1)\n",
    "    player.add_playlist(playlist2)\n",
    "    \n",
    "    # Listing all playlists and their songs\n",
    "    player.list_playlists()\n"
   ]
  },
  {
   "attachments": {},
   "cell_type": "markdown",
   "metadata": {},
   "source": [
    "7. Explain the concept of \"has-a\" relationships in composition and how it helps design software systems"
   ]
  },
  {
   "attachments": {},
   "cell_type": "markdown",
   "metadata": {},
   "source": [
    "n object-oriented programming, the concept of \"has-a\" relationships in composition refers to designing classes where one class contains an instance of another class as a part of its state. This relationship is often represented as a component or part-of relationship, where the containing class uses instances of other classes to achieve its functionality. Let's delve into how \"has-a\" relationships in composition help design software systems:\n",
    "\n",
    "Understanding \"Has-A\" Relationships in Composition:\n",
    "Component Relationship:\n",
    "\n",
    "Containment: One class (the containing or composite class) contains another class (the component or contained class) as an attribute.\n",
    "Usage: The containing class uses the functionality provided by the component class to enhance or extend its own behavior.\n",
    "Example:\n",
    "\n",
    "Consider a Car class that contains instances of Engine, Transmission, and Wheel classes.\n",
    "The Car class \"has-a\" relationship with its components (Engine, Transmission, Wheel).\n",
    "Implementation:\n",
    "\n",
    "Each component class (Engine, Transmission, Wheel) encapsulates specific functionalities and data related to its domain (e.g., starting the engine, shifting gears, rotating wheels).\n",
    "The Car class integrates these components to create a fully functional vehicle system.\n",
    "Benefits of \"Has-A\" Relationships in Composition:\n",
    "Modularity and Reusability:\n",
    "\n",
    "Modular Design: Composition allows breaking down complex systems into smaller, manageable components.\n",
    "Component Reusability: Components (e.g., Engine, Transmission) can be independently developed, tested, and reused in different contexts.\n",
    "Encapsulation:\n",
    "\n",
    "Data Hiding: Each component class encapsulates its own data and behavior, hiding implementation details from the containing class (Car).\n",
    "Improved Maintainability: Changes to one component (e.g., upgrading the Engine) do not affect other components or the containing class, promoting easier maintenance.\n",
    "Flexibility:\n",
    "\n",
    "Dynamic Composition: Components can be dynamically added, removed, or replaced at runtime, allowing for flexibility in system configuration and behavior.\n",
    "Customization: Different configurations of components can lead to diverse behaviors of the containing class (Car), enhancing adaptability to varying requirements.\n",
    "Reduced Coupling:\n",
    "\n",
    "Loose Coupling: Components interact with each other through well-defined interfaces, reducing dependency between the containing class and its components.\n",
    "Enhanced Testability: Components can be tested independently, leading to more robust and reliable software systems."
   ]
  },
  {
   "cell_type": "code",
   "execution_count": 83,
   "metadata": {},
   "outputs": [
    {
     "name": "stdout",
     "output_type": "stream",
     "text": [
      "Engine started and Gear shifted\n",
      "Wheel rotating, Wheel rotating, Wheel rotating, Wheel rotating\n"
     ]
    }
   ],
   "source": [
    "class Engine:\n",
    "    def start(self):\n",
    "        return \"Engine started\"\n",
    "    \n",
    "    def stop(self):\n",
    "        return \"Engine stopped\"\n",
    "\n",
    "class Transmission:\n",
    "    def shift_gear(self):\n",
    "        return \"Gear shifted\"\n",
    "\n",
    "class Wheel:\n",
    "    def rotate(self):\n",
    "        return \"Wheel rotating\"\n",
    "\n",
    "class Car:\n",
    "    def __init__(self):\n",
    "        self.engine = Engine()             # Composition: Car has an Engine\n",
    "        self.transmission = Transmission() # Composition: Car has a Transmission\n",
    "        self.wheels = [Wheel() for _ in range(4)]  # Composition: Car has 4 Wheels\n",
    "    \n",
    "    def start(self):\n",
    "        return f\"{self.engine.start()} and {self.transmission.shift_gear()}\"\n",
    "    \n",
    "    def move_forward(self):\n",
    "        return f\"{', '.join([wheel.rotate() for wheel in self.wheels])}\"\n",
    "\n",
    "# Example usage\n",
    "if __name__ == \"__main__\":\n",
    "    car = Car()\n",
    "    print(car.start())         # Output: Engine started and Gear shifted\n",
    "    print(car.move_forward())  # Output: Wheel rotating, Wheel rotating, Wheel rotating, Wheel rotating\n"
   ]
  },
  {
   "attachments": {},
   "cell_type": "markdown",
   "metadata": {},
   "source": [
    "8. Create a Python class for a computer system, using composition to represent components like CPU, RAM,\n",
    "and storage devices."
   ]
  },
  {
   "cell_type": "code",
   "execution_count": 84,
   "metadata": {},
   "outputs": [
    {
     "name": "stdout",
     "output_type": "stream",
     "text": [
      "Computer Specifications:\n",
      "CPU: Intel Core i7, Cores: 8, Clock Speed: 3.2 GHz\n",
      "RAM: 16 GB, Speed: 3200 MHz\n",
      "Storage: 512 GB, Type: SSD\n"
     ]
    }
   ],
   "source": [
    "class CPU:\n",
    "    def __init__(self, brand, cores, clock_speed):\n",
    "        self.brand = brand\n",
    "        self.cores = cores\n",
    "        self.clock_speed = clock_speed\n",
    "    \n",
    "    def __str__(self):\n",
    "        return f\"CPU: {self.brand}, Cores: {self.cores}, Clock Speed: {self.clock_speed} GHz\"\n",
    "\n",
    "class RAM:\n",
    "    def __init__(self, size_gb, speed_mhz):\n",
    "        self.size_gb = size_gb\n",
    "        self.speed_mhz = speed_mhz\n",
    "    \n",
    "    def __str__(self):\n",
    "        return f\"RAM: {self.size_gb} GB, Speed: {self.speed_mhz} MHz\"\n",
    "\n",
    "class StorageDevice:\n",
    "    def __init__(self, capacity_gb, type):\n",
    "        self.capacity_gb = capacity_gb\n",
    "        self.type = type\n",
    "    \n",
    "    def __str__(self):\n",
    "        return f\"Storage: {self.capacity_gb} GB, Type: {self.type}\"\n",
    "\n",
    "class Computer:\n",
    "    def __init__(self, cpu, ram, storage):\n",
    "        self.cpu = cpu             # Composition: Computer has a CPU\n",
    "        self.ram = ram             # Composition: Computer has RAM\n",
    "        self.storage = storage     # Composition: Computer has a StorageDevice\n",
    "    \n",
    "    def __str__(self):\n",
    "        return f\"Computer Specifications:\\n{self.cpu}\\n{self.ram}\\n{self.storage}\"\n",
    "\n",
    "# Example usage\n",
    "if __name__ == \"__main__\":\n",
    "    cpu = CPU(\"Intel Core i7\", 8, 3.2)\n",
    "    ram = RAM(16, 3200)\n",
    "    storage = StorageDevice(512, \"SSD\")\n",
    "    \n",
    "    computer = Computer(cpu, ram, storage)\n",
    "    print(computer)\n"
   ]
  },
  {
   "attachments": {},
   "cell_type": "markdown",
   "metadata": {},
   "source": [
    "Benefits of Composition in this Example:\n",
    "Modularity and Reusability: Components (CPU, RAM, StorageDevice) can be independently developed, tested, and reused in different computer systems.\n",
    "\n",
    "Encapsulation: Each component class encapsulates its own data and behavior, hiding implementation details from the Computer class.\n",
    "\n",
    "Flexibility: Allows for easy modification or replacement of components (CPU, RAM, StorageDevice) without affecting the Computer class, demonstrating the flexibility of composition.\n",
    "\n",
    "By leveraging composition effectively in this example, you can design a flexible and modular computer system representation in Python, promoting code reusability, maintainability, and scalability in software development.\n",
    "\n",
    "\n",
    "\n"
   ]
  },
  {
   "attachments": {},
   "cell_type": "markdown",
   "metadata": {},
   "source": [
    "9. Describe the concept of \"delegation\" in composition and how it simplifies the design of complex systems.\n",
    "\n",
    "\n"
   ]
  },
  {
   "attachments": {},
   "cell_type": "markdown",
   "metadata": {},
   "source": [
    "In object-oriented programming, \"delegation\" in composition refers to the design technique where one object passes on (or delegates) a responsibility or task to another object. This allows objects to collaborate by using each other's capabilities without inheritance, promoting a more flexible and modular design. Let's delve into the concept of delegation in composition and its benefits in simplifying the design of complex systems:\n",
    "\n",
    "Concept of Delegation in Composition:\n",
    "Component Collaboration:\n",
    "\n",
    "Collaborative Design: Instead of inheriting behavior from a superclass (as in inheritance), an object delegates specific tasks or responsibilities to another object that has the necessary expertise or capability.\n",
    "Task Distribution: Each object focuses on a specific responsibility or task, promoting separation of concerns and modular design.\n",
    "Example Scenario:\n",
    "\n",
    "Consider a TaskManager class that delegates task execution to various TaskExecutor classes based on the type of task (e.g., FileTaskExecutor, NetworkTaskExecutor).\n",
    "Implementation:\n",
    "\n",
    "Delegation Setup: The containing class (e.g., TaskManager) maintains references to instances of other classes (e.g., FileTaskExecutor, NetworkTaskExecutor) and delegates tasks to them based on specific conditions or requirements.\n",
    "Dynamic Behavior: Delegation allows for dynamic assignment of responsibilities at runtime, enhancing flexibility and adaptability in complex systems.\n",
    "Benefits of Delegation in Composition:\n",
    "Modular and Scalable Design:\n",
    "\n",
    "Component Reusability: Objects (delegates) can be reused across different contexts, promoting code reusability and reducing redundancy.\n",
    "Enhanced Maintainability: Changes to one object's implementation do not affect other objects, simplifying maintenance and updates.\n",
    "Separation of Concerns:\n",
    "\n",
    "Clear Responsibility: Each object focuses on a specific responsibility or capability, improving code organization and readability.\n",
    "Reduced Coupling: Objects interact through well-defined interfaces, reducing dependency and promoting loose coupling between components.\n",
    "Flexibility and Extensibility:\n",
    "\n",
    "Dynamic Behavior: Delegation allows for dynamic assignment of responsibilities, enabling systems to adapt to changing requirements or configurations at runtime.\n",
    "Easy Modification: Objects can be easily replaced or extended without affecting the overall system design, enhancing flexibility and extensibility."
   ]
  },
  {
   "cell_type": "code",
   "execution_count": 85,
   "metadata": {},
   "outputs": [
    {
     "name": "stdout",
     "output_type": "stream",
     "text": [
      "Executing file task: read data.txt\n",
      "Executing network task: send request\n"
     ]
    }
   ],
   "source": [
    "class TaskExecutor:\n",
    "    def execute_task(self, task):\n",
    "        raise NotImplementedError(\"Subclasses should implement execute_task method\")\n",
    "\n",
    "class FileTaskExecutor(TaskExecutor):\n",
    "    def execute_task(self, task):\n",
    "        return f\"Executing file task: {task}\"\n",
    "\n",
    "class NetworkTaskExecutor(TaskExecutor):\n",
    "    def execute_task(self, task):\n",
    "        return f\"Executing network task: {task}\"\n",
    "\n",
    "class TaskManager:\n",
    "    def __init__(self):\n",
    "        self.file_executor = FileTaskExecutor()\n",
    "        self.network_executor = NetworkTaskExecutor()\n",
    "\n",
    "    def delegate_task(self, task_type, task):\n",
    "        if task_type == 'file':\n",
    "            return self.file_executor.execute_task(task)\n",
    "        elif task_type == 'network':\n",
    "            return self.network_executor.execute_task(task)\n",
    "        else:\n",
    "            return f\"Unsupported task type: {task_type}\"\n",
    "\n",
    "# Example usage\n",
    "if __name__ == \"__main__\":\n",
    "    manager = TaskManager()\n",
    "    print(manager.delegate_task('file', 'read data.txt'))  # Output: Executing file task: read data.txt\n",
    "    print(manager.delegate_task('network', 'send request'))  # Output: Executing network task: send request\n"
   ]
  },
  {
   "attachments": {},
   "cell_type": "markdown",
   "metadata": {},
   "source": [
    "10. Create a Python class for a car, using composition to represent components like the engine, wheels, and\n",
    "transmission."
   ]
  },
  {
   "cell_type": "code",
   "execution_count": 86,
   "metadata": {},
   "outputs": [
    {
     "name": "stdout",
     "output_type": "stream",
     "text": [
      "Toyota Camry\n",
      "Engine: 200 HP, Gasoline\n",
      "Transmission: Automatic\n",
      "Wheel: Size 18, Wheel: Size 18, Wheel: Size 18, Wheel: Size 18\n"
     ]
    }
   ],
   "source": [
    "class Engine:\n",
    "    def __init__(self, fuel_type, horsepower):\n",
    "        self.fuel_type = fuel_type\n",
    "        self.horsepower = horsepower\n",
    "    \n",
    "    def __str__(self):\n",
    "        return f\"Engine: {self.horsepower} HP, {self.fuel_type}\"\n",
    "\n",
    "class Wheel:\n",
    "    def __init__(self, size):\n",
    "        self.size = size\n",
    "    \n",
    "    def __str__(self):\n",
    "        return f\"Wheel: Size {self.size}\"\n",
    "\n",
    "class Transmission:\n",
    "    def __init__(self, transmission_type):\n",
    "        self.transmission_type = transmission_type\n",
    "    \n",
    "    def __str__(self):\n",
    "        return f\"Transmission: {self.transmission_type}\"\n",
    "\n",
    "class Car:\n",
    "    def __init__(self, make, model, engine, transmission, num_wheels):\n",
    "        self.make = make\n",
    "        self.model = model\n",
    "        self.engine = engine                   # Composition: Car has an Engine\n",
    "        self.transmission = transmission       # Composition: Car has a Transmission\n",
    "        self.wheels = [Wheel(18) for _ in range(num_wheels)]   # Composition: Car has Wheels\n",
    "    \n",
    "    def __str__(self):\n",
    "        return f\"{self.make} {self.model}\\n{self.engine}\\n{self.transmission}\\n{', '.join([str(wheel) for wheel in self.wheels])}\"\n",
    "\n",
    "# Example usage\n",
    "if __name__ == \"__main__\":\n",
    "    engine = Engine(\"Gasoline\", 200)\n",
    "    transmission = Transmission(\"Automatic\")\n",
    "    car = Car(\"Toyota\", \"Camry\", engine, transmission, 4)\n",
    "    print(car)\n"
   ]
  },
  {
   "attachments": {},
   "cell_type": "markdown",
   "metadata": {},
   "source": [
    "11. How can you encapsulate and hide the details of composed objects in Python classes to maintain\n",
    "abstraction?"
   ]
  },
  {
   "attachments": {},
   "cell_type": "markdown",
   "metadata": {},
   "source": [
    "In Python, encapsulation and hiding details of composed objects within classes are essential techniques to maintain abstraction and promote good software design practices. Here’s how you can achieve encapsulation and hide details effectively:\n",
    "\n",
    "Encapsulation in Python Classes:\n",
    "Encapsulation involves bundling the data (attributes) and methods (functions) that operate on the data into a single unit (a class). This ensures that the internal state of an object is accessible only through well-defined methods, providing control over how data is manipulated and accessed.\n",
    "\n",
    "Techniques to Encapsulate and Hide Details:\n",
    "Private Attributes and Methods:\n",
    "\n",
    "In Python, encapsulation is often achieved using name mangling with double underscores (__). This convention makes attributes and methods private to the class, meaning they can only be accessed within the class itself and not from outside.\n",
    "\n",
    "2 ...Property Decorators:\n",
    "\n",
    "Python’s property decorator allows defining methods that can be accessed like attributes, providing a more Pythonic way to encapsulate attributes with getter and setter functionality.\n",
    "\n",
    "\n",
    "3..Encapsulation of Composed Objects:\n",
    "\n",
    "When using composition to include other objects as components, ensure that access to these composed objects is controlled through well-defined interfaces.\n",
    "\n"
   ]
  },
  {
   "cell_type": "code",
   "execution_count": 87,
   "metadata": {},
   "outputs": [],
   "source": [
    "class Car:\n",
    "    def __init__(self, make, model):\n",
    "        self.__make = make     # Private attribute\n",
    "        self.__model = model   # Private attribute\n",
    "    \n",
    "    def get_make(self):\n",
    "        return self.__make    # Getter method for private attribute\n",
    "\n",
    "    def set_model(self, model):\n",
    "        self.__model = model   # Setter method for private attribute\n"
   ]
  },
  {
   "cell_type": "code",
   "execution_count": 88,
   "metadata": {},
   "outputs": [],
   "source": [
    "class Car:\n",
    "    def __init__(self, make, model):\n",
    "        self._make = make     # Protected attribute\n",
    "        self._model = model   # Protected attribute\n",
    "    \n",
    "    @property\n",
    "    def make(self):\n",
    "        return self._make\n",
    "\n",
    "    @make.setter\n",
    "    def make(self, make):\n",
    "        self._make = make\n"
   ]
  },
  {
   "cell_type": "code",
   "execution_count": 89,
   "metadata": {},
   "outputs": [],
   "source": [
    "class Car:\n",
    "    def __init__(self, engine, wheels):\n",
    "        self._engine = engine    # Engine object as a composed object\n",
    "        self._wheels = wheels    # List of Wheel objects as composed objects\n",
    "    \n",
    "    def start(self):\n",
    "        return self._engine.start()\n",
    "    \n",
    "    def rotate_wheels(self):\n",
    "        for wheel in self._wheels:\n",
    "            wheel.rotate()\n"
   ]
  },
  {
   "attachments": {},
   "cell_type": "markdown",
   "metadata": {},
   "source": [
    "12. Create a Python class for a university course, using composition to represent students, instructors, and\n",
    "course materials"
   ]
  },
  {
   "cell_type": "code",
   "execution_count": 90,
   "metadata": {},
   "outputs": [
    {
     "name": "stdout",
     "output_type": "stream",
     "text": [
      "Course: Introduction to Python Programming\n",
      "Instructor: Instructor: Dr. Smith (ID: I001)\n",
      "Students:\n",
      "Student: Alice (ID: S001)\n",
      "Student: Bob (ID: S002)\n",
      "Course Material: Textbook - Python Programming, Slides - Week 1 Slides\n"
     ]
    }
   ],
   "source": [
    "class Student:\n",
    "    def __init__(self, name, student_id):\n",
    "        self.name = name\n",
    "        self.student_id = student_id\n",
    "    \n",
    "    def __str__(self):\n",
    "        return f\"Student: {self.name} (ID: {self.student_id})\"\n",
    "\n",
    "class Instructor:\n",
    "    def __init__(self, name, instructor_id):\n",
    "        self.name = name\n",
    "        self.instructor_id = instructor_id\n",
    "    \n",
    "    def __str__(self):\n",
    "        return f\"Instructor: {self.name} (ID: {self.instructor_id})\"\n",
    "\n",
    "class CourseMaterial:\n",
    "    def __init__(self, textbook, slides):\n",
    "        self.textbook = textbook\n",
    "        self.slides = slides\n",
    "    \n",
    "    def __str__(self):\n",
    "        return f\"Course Material: Textbook - {self.textbook}, Slides - {self.slides}\"\n",
    "\n",
    "class UniversityCourse:\n",
    "    def __init__(self, course_name, instructor, students, course_material):\n",
    "        self.course_name = course_name\n",
    "        self.instructor = instructor          # Composition: UniversityCourse has an Instructor\n",
    "        self.students = students              # Composition: UniversityCourse has a list of Students\n",
    "        self.course_material = course_material  # Composition: UniversityCourse has CourseMaterial\n",
    "    \n",
    "    def __str__(self):\n",
    "        student_list = \"\\n\".join([str(student) for student in self.students])\n",
    "        return f\"Course: {self.course_name}\\nInstructor: {self.instructor}\\nStudents:\\n{student_list}\\n{self.course_material}\"\n",
    "\n",
    "# Example usage\n",
    "if __name__ == \"__main__\":\n",
    "    student1 = Student(\"Alice\", \"S001\")\n",
    "    student2 = Student(\"Bob\", \"S002\")\n",
    "    instructor = Instructor(\"Dr. Smith\", \"I001\")\n",
    "    course_material = CourseMaterial(\"Python Programming\", \"Week 1 Slides\")\n",
    "    students = [student1, student2]\n",
    "    \n",
    "    course = UniversityCourse(\"Introduction to Python Programming\", instructor, students, course_material)\n",
    "    print(course)\n"
   ]
  },
  {
   "attachments": {},
   "cell_type": "markdown",
   "metadata": {},
   "source": [
    "13. Discuss the challenges and drawbacks of composition, such as increased complexity and potential for\n",
    "tight coupling between objects."
   ]
  },
  {
   "attachments": {},
   "cell_type": "markdown",
   "metadata": {},
   "source": [
    "Composition in object-oriented programming involves building complex objects by combining simpler ones. While it offers numerous advantages, such as flexibility, reusability, and modularity, there are also challenges and potential drawbacks to consider:\n",
    "\n",
    "Challenges and Drawbacks of Composition:\n",
    "Increased Complexity:\n",
    "\n",
    "As systems grow larger and more complex, managing relationships between composed objects can become challenging. This complexity arises from having to understand how each component interacts and how changes in one component affect others.\n",
    "Potential for Tight Coupling:\n",
    "\n",
    "If not carefully designed, composition can lead to tight coupling between objects. Tight coupling means that the components are highly dependent on each other, making it difficult to modify or replace one component without affecting others. This can reduce flexibility and hinder maintainability.\n",
    "Overhead in Management:\n",
    "\n",
    "Managing the lifecycle of composed objects, especially in systems with deep nesting or complex dependencies, can introduce overhead. This includes managing object creation, initialization, and destruction, which may require careful resource management and cleanup.\n",
    "Design Overhead:\n",
    "\n",
    "Designing effective compositions requires thoughtful consideration of relationships and responsibilities between objects. This can lead to additional design overhead, as developers need to carefully define interfaces, manage dependencies, and ensure that components interact seamlessly.\n",
    "Performance Considerations:\n",
    "\n",
    "In some cases, composition can introduce performance overhead, especially if there are frequent interactions or deep nesting of composed objects. Accessing deeply nested components or passing messages between objects can incur additional computational costs.\n",
    "Initialization and Dependency Management:\n",
    "\n",
    "Initializing composed objects, especially when they have dependencies on each other, requires careful management. Ensuring that all components are correctly initialized and that dependencies are resolved can add complexity to initialization routines.\n",
    "Mitigating Challenges:\n",
    "To mitigate the challenges and drawbacks associated with composition, consider the following best practices:\n",
    "\n",
    "Design for Loose Coupling: Use interfaces and dependency injection to reduce dependencies between objects. This promotes loose coupling, making it easier to modify or replace components without affecting others.\n",
    "\n",
    "Encapsulate Complexity: Hide internal details and complexities within objects by providing clear interfaces and limiting direct access to internal components.\n",
    "\n",
    "Use Design Patterns: Leverage design patterns like Factory, Builder, and Dependency Injection to manage object creation, initialization, and relationships effectively.\n",
    "\n",
    "Testing and Validation: Thoroughly test compositions to validate interactions between objects and ensure that they behave as expected under different scenarios.\n",
    "\n",
    "Refactor as Needed: Regularly review and refactor compositions to simplify relationships, eliminate redundant dependencies, and improve maintainability.\n",
    "\n",
    "Conclusion:\n",
    "While composition can introduce complexity and potential challenges, its benefits often outweigh these drawbacks when used effectively. By understanding the trade-offs and applying best practices, developers can harness the power of composition to build flexible, scalable, and maintainable software systems. Careful design and thoughtful implementation are key to maximizing the advantages of composition while minimizing its potential drawbacks in object-oriented programming.\n",
    "\n",
    "\n",
    "\n"
   ]
  },
  {
   "attachments": {},
   "cell_type": "markdown",
   "metadata": {},
   "source": [
    "14. Create a Python class hierarchy for a restaurant system, using composition to represent menus, dishes,\n",
    "and ingredients\n"
   ]
  },
  {
   "cell_type": "code",
   "execution_count": 91,
   "metadata": {},
   "outputs": [
    {
     "name": "stdout",
     "output_type": "stream",
     "text": [
      "Menu: Italian Menu\n",
      "--------------------\n",
      "Dish: Pasta with Tomato Sauce\n",
      "Ingredients: Pasta: 300g, Tomato: 2, Cheese: 200g\n",
      "\n",
      "Dish: Grilled Chicken\n",
      "Ingredients: Chicken: 500g, Onion: 1\n"
     ]
    }
   ],
   "source": [
    "class Ingredient:\n",
    "    def __init__(self, name, quantity):\n",
    "        self.name = name\n",
    "        self.quantity = quantity\n",
    "    \n",
    "    def __str__(self):\n",
    "        return f\"{self.name}: {self.quantity}\"\n",
    "\n",
    "class Dish:\n",
    "    def __init__(self, name, ingredients):\n",
    "        self.name = name\n",
    "        self.ingredients = ingredients\n",
    "    \n",
    "    def __str__(self):\n",
    "        return f\"Dish: {self.name}\\nIngredients: {', '.join([str(ingredient) for ingredient in self.ingredients])}\"\n",
    "\n",
    "class Menu:\n",
    "    def __init__(self, name, dishes):\n",
    "        self.name = name\n",
    "        self.dishes = dishes\n",
    "    \n",
    "    def __str__(self):\n",
    "        return f\"Menu: {self.name}\\n{'-' * 20}\\n\" + \"\\n\\n\".join([str(dish) for dish in self.dishes])\n",
    "\n",
    "# Example usage\n",
    "if __name__ == \"__main__\":\n",
    "    # Ingredients\n",
    "    tomato = Ingredient(\"Tomato\", \"2\")\n",
    "    onion = Ingredient(\"Onion\", \"1\")\n",
    "    cheese = Ingredient(\"Cheese\", \"200g\")\n",
    "    pasta = Ingredient(\"Pasta\", \"300g\")\n",
    "    chicken = Ingredient(\"Chicken\", \"500g\")\n",
    "\n",
    "    # Dishes\n",
    "    pasta_dish = Dish(\"Pasta with Tomato Sauce\", [pasta, tomato, cheese])\n",
    "    chicken_dish = Dish(\"Grilled Chicken\", [chicken, onion])\n",
    "\n",
    "    # Menu\n",
    "    menu = Menu(\"Italian Menu\", [pasta_dish, chicken_dish])\n",
    "\n",
    "    # Print menu\n",
    "    print(menu)\n"
   ]
  },
  {
   "attachments": {},
   "cell_type": "markdown",
   "metadata": {},
   "source": [
    "15. Explain how composition enhances code maintainability and modularity in Python programs."
   ]
  },
  {
   "attachments": {},
   "cell_type": "markdown",
   "metadata": {},
   "source": [
    "Composition enhances code maintainability and modularity in Python programs by promoting a modular design approach where complex behaviors and functionalities are built by assembling simpler, independent components. Here are several ways in which composition achieves these benefits:\n",
    "\n",
    "1. Encapsulation and Abstraction:\n",
    "Encapsulation: Composition allows objects to encapsulate their internal state and behavior. Each component focuses on a specific responsibility, hiding its implementation details from the rest of the system. This reduces complexity and makes it easier to reason about and maintain the codebase.\n",
    "\n",
    "Abstraction: By defining clear interfaces between components, composition promotes abstraction. Components interact through well-defined interfaces rather than directly accessing each other's internal details. This simplifies the understanding of how components work together and facilitates changes without affecting other parts of the system.\n",
    "\n",
    "2. Code Reusability:\n",
    "Component Reusability: Components created through composition can be reused across different parts of the application or in different applications altogether. For example, a Menu or Dish class designed with composition can be reused in various contexts within a restaurant management system or even in different types of restaurant applications.\n",
    "\n",
    "Promotion of Design Patterns: Composition encourages the use of design patterns such as Factory, Builder, and Dependency Injection. These patterns facilitate the creation and management of objects, promoting reusability and reducing the need to rewrite code for similar functionalities.\n",
    "\n",
    "3. Flexibility and Scalability:\n",
    "Dynamic Composition: Components can be dynamically composed and recomposed to adapt to changing requirements or to accommodate new features. This flexibility allows the system to evolve over time without requiring extensive modifications to existing code.\n",
    "\n",
    "Scalability: As the application grows, composition allows for scaling by adding new components or modifying existing ones. This scalability is crucial for handling increasing complexity or accommodating larger datasets and user bases.\n",
    "\n",
    "4. Separation of Concerns:\n",
    "Modular Development: Composition encourages breaking down complex functionalities into smaller, manageable components. Each component addresses a specific concern or performs a distinct task, promoting separation of concerns. This separation makes the codebase easier to maintain, test, and debug.\n",
    "Example Scenario:\n",
    "Consider a scenario where a restaurant management system uses composition to model its entities:\n",
    "\n",
    "Ingredients: Represented as independent objects (Ingredient class).\n",
    "Dishes: Composed of one or more ingredients (Dish class composed of Ingredient objects).\n",
    "Menus: Composed of multiple dishes (Menu class composed of Dish objects).\n",
    "By using composition, each component (Ingredient, Dish, Menu) encapsulates its specific functionality and interacts through well-defined interfaces. Changes to an ingredient (e.g., quantity or type) do not affect the behavior of dishes or menus unless explicitly designed to do so. This modular approach enhances maintainability by reducing the impact of changes and promoting reusable, testable components.\n",
    "\n",
    "Conclusion:\n",
    "Composition enhances code maintainability and modularity by promoting encapsulation, abstraction, reusability, flexibility, and separation of concerns. It allows developers to build complex systems from simpler, independent components, making the codebase more organized, adaptable, and easier to extend or modify over time. By leveraging composition effectively, Python programs can achieve robustness and scalability while minimizing complexity and dependencies within the code."
   ]
  },
  {
   "attachments": {},
   "cell_type": "markdown",
   "metadata": {},
   "source": [
    "16. Create a Python class for a computer game character, using composition to represent attributes like\n",
    "weapons, armor, and inventory.\n"
   ]
  },
  {
   "cell_type": "code",
   "execution_count": 92,
   "metadata": {},
   "outputs": [
    {
     "name": "stdout",
     "output_type": "stream",
     "text": [
      "Character: Hero\n",
      "Weapon: Sword (Damage: 10)\n",
      "Armor: Shield (Defense: 5)\n",
      "Inventory: Health Potion\n"
     ]
    }
   ],
   "source": [
    "class Weapon:\n",
    "    def __init__(self, name, damage):\n",
    "        self.name = name\n",
    "        self.damage = damage\n",
    "    \n",
    "    def __str__(self):\n",
    "        return f\"Weapon: {self.name} (Damage: {self.damage})\"\n",
    "\n",
    "class Armor:\n",
    "    def __init__(self, name, defense):\n",
    "        self.name = name\n",
    "        self.defense = defense\n",
    "    \n",
    "    def __str__(self):\n",
    "        return f\"Armor: {self.name} (Defense: {self.defense})\"\n",
    "\n",
    "class Inventory:\n",
    "    def __init__(self, items=None):\n",
    "        self.items = items if items is not None else []\n",
    "    \n",
    "    def add_item(self, item):\n",
    "        self.items.append(item)\n",
    "    \n",
    "    def __str__(self):\n",
    "        return f\"Inventory: {', '.join([str(item) for item in self.items])}\"\n",
    "\n",
    "class GameCharacter:\n",
    "    def __init__(self, name, weapon=None, armor=None, inventory=None):\n",
    "        self.name = name\n",
    "        self.weapon = weapon      # Composition: GameCharacter has a Weapon\n",
    "        self.armor = armor        # Composition: GameCharacter has an Armor\n",
    "        self.inventory = inventory  # Composition: GameCharacter has an Inventory\n",
    "    \n",
    "    def equip_weapon(self, weapon):\n",
    "        self.weapon = weapon\n",
    "    \n",
    "    def equip_armor(self, armor):\n",
    "        self.armor = armor\n",
    "    \n",
    "    def add_item_to_inventory(self, item):\n",
    "        if self.inventory is None:\n",
    "            self.inventory = Inventory()\n",
    "        self.inventory.add_item(item)\n",
    "    \n",
    "    def __str__(self):\n",
    "        return f\"Character: {self.name}\\n{self.weapon}\\n{self.armor}\\n{self.inventory}\"\n",
    "\n",
    "# Example usage\n",
    "if __name__ == \"__main__\":\n",
    "    sword = Weapon(\"Sword\", 10)\n",
    "    shield = Armor(\"Shield\", 5)\n",
    "    potion = \"Health Potion\"\n",
    "    \n",
    "    character = GameCharacter(\"Hero\", sword, shield)\n",
    "    character.add_item_to_inventory(potion)\n",
    "    \n",
    "    print(character)\n"
   ]
  },
  {
   "attachments": {},
   "cell_type": "markdown",
   "metadata": {},
   "source": [
    "17. Describe the concept of \"aggregation\" in composition and how it differs from simple composition."
   ]
  },
  {
   "attachments": {},
   "cell_type": "markdown",
   "metadata": {},
   "source": [
    "In object-oriented programming, \"aggregation\" is a specialized form of composition where one class (the whole) contains references to other classes (the parts), but the parts can exist independently of the whole. It's a type of \"has-a\" relationship where one object owns or is responsible for another object, but the owned object can still exist independently. Here's how aggregation differs from simple composition:\n",
    "\n",
    "Aggregation:\n",
    "Independence of Objects:\n",
    "\n",
    "In aggregation, the objects involved can exist independently of each other. The \"part\" objects (e.g., parts of a whole) have their own lifecycle and can be shared among multiple \"whole\" objects or exist on their own.\n",
    "Weak Relationship:\n",
    "\n",
    "Aggregation implies a weaker relationship compared to composition. It typically suggests that the \"part\" objects are loosely coupled with the \"whole\" object. The \"whole\" object does not necessarily control the lifecycle of the \"part\" objects.\n",
    "Example:\n",
    "\n",
    "Consider a university and its departments. A university can have multiple departments (e.g., Computer Science, Mathematics), and each department can exist independently. Departments can also be shared among different universities. This relationship is an example of aggregation because departments can exist on their own and can be part of multiple universities.\n",
    "Simple Composition (Strong Composition):\n",
    "Ownership and Lifecycle Management:\n",
    "\n",
    "In simple composition, the \"part\" objects are owned by the \"whole\" object, and their lifecycle is managed by the \"whole\" object. This means that when the \"whole\" object is destroyed, all its \"part\" objects are typically destroyed as well.\n",
    "Strong Relationship:\n",
    "\n",
    "Composition implies a stronger relationship where the \"part\" objects are tightly coupled with the \"whole\" object. The \"whole\" object is responsible for creating and managing its \"part\" objects.\n",
    "Example:\n",
    "\n",
    "A car and its engine. A car owns an engine; the engine doesn't exist independently outside of a car. If you destroy the car, the engine is typically destroyed as well. This relationship is an example of simple composition because the engine is a fundamental part of the car and cannot exist without it.\n",
    "Key Differences:\n",
    "Lifecycle Dependency: Aggregation implies a weaker lifecycle dependency between objects compared to simple composition. Aggregated objects can exist independently and can be shared among multiple \"whole\" objects.\n",
    "\n",
    "Flexibility: Aggregation provides more flexibility because \"part\" objects can be reused in different contexts or relationships without being tied to a specific \"whole\" object.\n",
    "\n",
    "Ownership: In simple composition, the \"whole\" object owns and manages the lifecycle of its \"part\" objects. In aggregation, the \"whole\" object holds references to \"part\" objects, but they are not owned in the same strict sense.\n",
    "\n",
    "Conclusion:\n",
    "Understanding the differences between aggregation and simple composition is crucial for designing object-oriented systems effectively. Aggregation provides a looser relationship between objects, promoting reusability and flexibility, while simple composition establishes a stronger, more tightly coupled relationship where \"part\" objects are managed by their \"whole\" object. Choosing between aggregation and composition depends on the specific requirements and relationships between objects in your application design."
   ]
  },
  {
   "attachments": {},
   "cell_type": "markdown",
   "metadata": {},
   "source": [
    "18. Create a Python class for a house, using composition to represent rooms, furniture, and appliances."
   ]
  },
  {
   "cell_type": "code",
   "execution_count": 93,
   "metadata": {},
   "outputs": [
    {
     "name": "stdout",
     "output_type": "stream",
     "text": [
      "House: My House\n",
      "--------------------\n",
      "Room: Living Room\n",
      "Furniture:\n",
      "\tFurniture: Sofa\n",
      "\tFurniture: Coffee Table\n",
      "Appliances:\n",
      "\n",
      "\n",
      "Room: Kitchen\n",
      "Furniture:\n",
      "\n",
      "Appliances:\n",
      "\tAppliance: Refrigerator\n",
      "\tAppliance: Oven\n"
     ]
    }
   ],
   "source": [
    "class Furniture:\n",
    "    def __init__(self, name):\n",
    "        self.name = name\n",
    "    \n",
    "    def __str__(self):\n",
    "        return f\"Furniture: {self.name}\"\n",
    "\n",
    "class Appliance:\n",
    "    def __init__(self, name):\n",
    "        self.name = name\n",
    "    \n",
    "    def __str__(self):\n",
    "        return f\"Appliance: {self.name}\"\n",
    "\n",
    "class Room:\n",
    "    def __init__(self, name):\n",
    "        self.name = name\n",
    "        self.furniture = []   # Composition: Room has Furniture objects\n",
    "        self.appliances = []  # Composition: Room has Appliance objects\n",
    "    \n",
    "    def add_furniture(self, furniture):\n",
    "        self.furniture.append(furniture)\n",
    "    \n",
    "    def add_appliance(self, appliance):\n",
    "        self.appliances.append(appliance)\n",
    "    \n",
    "    def __str__(self):\n",
    "        furniture_str = \"\\n\".join([f\"\\t{furniture}\" for furniture in self.furniture])\n",
    "        appliance_str = \"\\n\".join([f\"\\t{appliance}\" for appliance in self.appliances])\n",
    "        return f\"Room: {self.name}\\nFurniture:\\n{furniture_str}\\nAppliances:\\n{appliance_str}\"\n",
    "\n",
    "class House:\n",
    "    def __init__(self, name):\n",
    "        self.name = name\n",
    "        self.rooms = []  # Composition: House has Room objects\n",
    "    \n",
    "    def add_room(self, room):\n",
    "        self.rooms.append(room)\n",
    "    \n",
    "    def __str__(self):\n",
    "        room_str = \"\\n\\n\".join([str(room) for room in self.rooms])\n",
    "        return f\"House: {self.name}\\n{'-' * 20}\\n{room_str}\"\n",
    "\n",
    "# Example usage\n",
    "if __name__ == \"__main__\":\n",
    "    # Create furniture and appliances\n",
    "    sofa = Furniture(\"Sofa\")\n",
    "    table = Furniture(\"Coffee Table\")\n",
    "    fridge = Appliance(\"Refrigerator\")\n",
    "    oven = Appliance(\"Oven\")\n",
    "    \n",
    "    # Create rooms\n",
    "    living_room = Room(\"Living Room\")\n",
    "    living_room.add_furniture(sofa)\n",
    "    living_room.add_furniture(table)\n",
    "    \n",
    "    kitchen = Room(\"Kitchen\")\n",
    "    kitchen.add_appliance(fridge)\n",
    "    kitchen.add_appliance(oven)\n",
    "    \n",
    "    # Create house and add rooms\n",
    "    my_house = House(\"My House\")\n",
    "    my_house.add_room(living_room)\n",
    "    my_house.add_room(kitchen)\n",
    "    \n",
    "    # Print house information\n",
    "    print(my_house)\n"
   ]
  },
  {
   "attachments": {},
   "cell_type": "markdown",
   "metadata": {},
   "source": [
    "19. How can you achieve flexibility in composed objects by allowing them to be replaced or modified\n",
    "dynamically at runtime?"
   ]
  },
  {
   "attachments": {},
   "cell_type": "markdown",
   "metadata": {},
   "source": [
    "Achieving flexibility in composed objects by allowing them to be replaced or modified dynamically at runtime can be facilitated through several techniques and design patterns in Python. Here are some common approaches:\n",
    "\n",
    "1. Using Setters and Getters:\n",
    "You can design your classes to provide setter methods that allow you to modify the composed objects dynamically. Here’s a simplified example:"
   ]
  },
  {
   "cell_type": "code",
   "execution_count": 94,
   "metadata": {},
   "outputs": [
    {
     "name": "stdout",
     "output_type": "stream",
     "text": [
      "Room: Bedroom\n",
      "Furniture:\n",
      "\n",
      "Appliances:\n",
      "\n",
      "Room: Kitchen\n",
      "Furniture:\n",
      "\n",
      "Appliances:\n",
      "\n"
     ]
    }
   ],
   "source": [
    "class House:\n",
    "    def __init__(self, name):\n",
    "        self.name = name\n",
    "        self.rooms = []\n",
    "\n",
    "    def add_room(self, room):\n",
    "        self.rooms.append(room)\n",
    "\n",
    "    def get_rooms(self):\n",
    "        return self.rooms\n",
    "\n",
    "    def replace_room(self, old_room, new_room):\n",
    "        if old_room in self.rooms:\n",
    "            index = self.rooms.index(old_room)\n",
    "            self.rooms[index] = new_room\n",
    "\n",
    "    def remove_room(self, room):\n",
    "        if room in self.rooms:\n",
    "            self.rooms.remove(room)\n",
    "\n",
    "# Example usage\n",
    "if __name__ == \"__main__\":\n",
    "    # Create initial rooms\n",
    "    living_room = Room(\"Living Room\")\n",
    "    kitchen = Room(\"Kitchen\")\n",
    "\n",
    "    # Create house and add rooms\n",
    "    my_house = House(\"My House\")\n",
    "    my_house.add_room(living_room)\n",
    "    my_house.add_room(kitchen)\n",
    "\n",
    "    # Replace a room dynamically\n",
    "    new_bedroom = Room(\"Bedroom\")\n",
    "    my_house.replace_room(living_room, new_bedroom)\n",
    "\n",
    "    # Print house information\n",
    "    for room in my_house.get_rooms():\n",
    "        print(room)\n"
   ]
  },
  {
   "attachments": {},
   "cell_type": "markdown",
   "metadata": {},
   "source": [
    "2. Strategy Pattern:\n",
    "Implement the Strategy pattern, which allows you to define a family of algorithms (strategies) and encapsulate each one into separate classes. This pattern enables you to switch between these algorithms dynamically."
   ]
  },
  {
   "cell_type": "code",
   "execution_count": 95,
   "metadata": {},
   "outputs": [
    {
     "name": "stdout",
     "output_type": "stream",
     "text": [
      "Displaying basic furniture.\n",
      "Displaying luxury furniture.\n"
     ]
    }
   ],
   "source": [
    "class Room:\n",
    "    def __init__(self, name, furniture_strategy=None):\n",
    "        self.name = name\n",
    "        self.furniture_strategy = furniture_strategy\n",
    "\n",
    "    def set_furniture_strategy(self, furniture_strategy):\n",
    "        self.furniture_strategy = furniture_strategy\n",
    "\n",
    "    def display_furniture(self):\n",
    "        if self.furniture_strategy:\n",
    "            self.furniture_strategy.display_furniture()\n",
    "        else:\n",
    "            print(\"No furniture strategy set.\")\n",
    "\n",
    "class BasicFurnitureStrategy:\n",
    "    def display_furniture(self):\n",
    "        print(\"Displaying basic furniture.\")\n",
    "\n",
    "class LuxuryFurnitureStrategy:\n",
    "    def display_furniture(self):\n",
    "        print(\"Displaying luxury furniture.\")\n",
    "\n",
    "# Example usage\n",
    "if __name__ == \"__main__\":\n",
    "    # Create a room with basic furniture strategy\n",
    "    living_room = Room(\"Living Room\", BasicFurnitureStrategy())\n",
    "    living_room.display_furniture()\n",
    "\n",
    "    # Change the furniture strategy dynamically\n",
    "    living_room.set_furniture_strategy(LuxuryFurnitureStrategy())\n",
    "    living_room.display_furniture()\n"
   ]
  },
  {
   "attachments": {},
   "cell_type": "markdown",
   "metadata": {},
   "source": [
    "3. Dependency Injection:\n",
    "Implement Dependency Injection, where dependencies (composed objects) are passed to a class from the outside. This approach allows you to swap dependencies at runtime, providing flexibility and modularity"
   ]
  },
  {
   "cell_type": "code",
   "execution_count": 96,
   "metadata": {},
   "outputs": [
    {
     "name": "stdout",
     "output_type": "stream",
     "text": [
      "Furniture in Living Room: ['Armchair', 'Bookshelf']\n"
     ]
    }
   ],
   "source": [
    "class Room:\n",
    "    def __init__(self, name, furniture=None):\n",
    "        self.name = name\n",
    "        self.furniture = furniture\n",
    "\n",
    "    def display_furniture(self):\n",
    "        if self.furniture:\n",
    "            print(f\"Furniture in {self.name}: {self.furniture}\")\n",
    "        else:\n",
    "            print(f\"No furniture in {self.name}.\")\n",
    "\n",
    "# Example usage\n",
    "if __name__ == \"__main__\":\n",
    "    # Create a room with initial furniture\n",
    "    initial_furniture = [\"Sofa\", \"Coffee Table\"]\n",
    "    living_room = Room(\"Living Room\", initial_furniture)\n",
    "\n",
    "    # Modify furniture dynamically\n",
    "    new_furniture = [\"Armchair\", \"Bookshelf\"]\n",
    "    living_room.furniture = new_furniture\n",
    "\n",
    "    # Print current furniture\n",
    "    living_room.display_furniture()\n"
   ]
  },
  {
   "attachments": {},
   "cell_type": "markdown",
   "metadata": {},
   "source": [
    "20. Create a Python class for a social media application, using composition to represent users, posts, and\n",
    "comments.\n"
   ]
  },
  {
   "attachments": {},
   "cell_type": "markdown",
   "metadata": {},
   "source": [
    "Creating a Python class for a social media application using composition to represent users, posts, and comments involves structuring the classes to demonstrate how these components are composed together. Here’s a basic example:"
   ]
  },
  {
   "cell_type": "code",
   "execution_count": 97,
   "metadata": {},
   "outputs": [
    {
     "name": "stdout",
     "output_type": "stream",
     "text": [
      "User: Alice\n",
      "Posts: 1\n",
      "Comments: 0\n",
      "User: Bob\n",
      "Posts: 0\n",
      "Comments: 1\n"
     ]
    }
   ],
   "source": [
    "class User:\n",
    "    def __init__(self, username):\n",
    "        self.username = username\n",
    "        self.posts = []   # Composition: User has Post objects\n",
    "        self.comments = []  # Composition: User has Comment objects\n",
    "    \n",
    "    def create_post(self, text):\n",
    "        post = Post(text)\n",
    "        self.posts.append(post)\n",
    "        return post\n",
    "    \n",
    "    def add_comment(self, post, text):\n",
    "        comment = Comment(text)\n",
    "        post.add_comment(comment)\n",
    "        self.comments.append(comment)\n",
    "    \n",
    "    def __str__(self):\n",
    "        return f\"User: {self.username}\\nPosts: {len(self.posts)}\\nComments: {len(self.comments)}\"\n",
    "\n",
    "\n",
    "class Post:\n",
    "    def __init__(self, text):\n",
    "        self.text = text\n",
    "        self.comments = []  # Composition: Post has Comment objects\n",
    "    \n",
    "    def add_comment(self, comment):\n",
    "        self.comments.append(comment)\n",
    "    \n",
    "    def __str__(self):\n",
    "        return f\"Post: {self.text}\\nComments: {len(self.comments)}\"\n",
    "\n",
    "\n",
    "class Comment:\n",
    "    def __init__(self, text):\n",
    "        self.text = text\n",
    "    \n",
    "    def __str__(self):\n",
    "        return f\"Comment: {self.text}\"\n",
    "\n",
    "\n",
    "# Example usage\n",
    "if __name__ == \"__main__\":\n",
    "    # Create users\n",
    "    user1 = User(\"Alice\")\n",
    "    user2 = User(\"Bob\")\n",
    "\n",
    "    # Alice creates a post\n",
    "    post1 = user1.create_post(\"Hello, everyone!\")\n",
    "\n",
    "    # Bob comments on Alice's post\n",
    "    user2.add_comment(post1, \"Nice post, Alice!\")\n",
    "\n",
    "    # Print user information\n",
    "    print(user1)\n",
    "    print(user2)\n"
   ]
  },
  {
   "cell_type": "code",
   "execution_count": null,
   "metadata": {},
   "outputs": [],
   "source": []
  },
  {
   "cell_type": "code",
   "execution_count": null,
   "metadata": {},
   "outputs": [],
   "source": []
  }
 ],
 "metadata": {
  "kernelspec": {
   "display_name": "Python 3",
   "language": "python",
   "name": "python3"
  },
  "language_info": {
   "codemirror_mode": {
    "name": "ipython",
    "version": 3
   },
   "file_extension": ".py",
   "mimetype": "text/x-python",
   "name": "python",
   "nbconvert_exporter": "python",
   "pygments_lexer": "ipython3",
   "version": "3.11.1"
  }
 },
 "nbformat": 4,
 "nbformat_minor": 2
}
